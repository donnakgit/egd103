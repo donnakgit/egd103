{
 "cells": [
  {
   "cell_type": "code",
   "execution_count": 1,
   "id": "2ed8c3e4-08aa-47c1-8b05-309697e60474",
   "metadata": {},
   "outputs": [
    {
     "name": "stdout",
     "output_type": "stream",
     "text": [
      "hello\n",
      "hello\n",
      "hello\n",
      "hello\n",
      "hello\n"
     ]
    }
   ],
   "source": [
    "for step in range(5):\n",
    "    print(\"hello\")"
   ]
  },
  {
   "cell_type": "code",
   "execution_count": 6,
   "id": "614e2eb8-b805-4c87-afec-52f764147723",
   "metadata": {},
   "outputs": [
    {
     "data": {
      "text/plain": [
       "[0, 1, 2, 3, 4]"
      ]
     },
     "execution_count": 6,
     "metadata": {},
     "output_type": "execute_result"
    }
   ],
   "source": [
    "list(range(5))\n"
   ]
  },
  {
   "cell_type": "code",
   "execution_count": 2,
   "id": "a87d86dc-7d90-43b3-b94a-e1a1b823b4f3",
   "metadata": {},
   "outputs": [
    {
     "data": {
      "text/plain": [
       "[0, 1, 2, 3, 4]"
      ]
     },
     "execution_count": 2,
     "metadata": {},
     "output_type": "execute_result"
    }
   ],
   "source": [
    "numbers = list(range(5))\n",
    "numbers"
   ]
  },
  {
   "cell_type": "code",
   "execution_count": 3,
   "id": "841f883a-0b04-49c6-a7e2-4413e0c007a2",
   "metadata": {},
   "outputs": [
    {
     "data": {
      "text/plain": [
       "[4, 5, 6, 7, 8, 9]"
      ]
     },
     "execution_count": 3,
     "metadata": {},
     "output_type": "execute_result"
    }
   ],
   "source": [
    "list(range(4, 10))"
   ]
  },
  {
   "cell_type": "code",
   "execution_count": 4,
   "id": "cfbe7179-5a44-4bfe-94f9-bc3001fb1511",
   "metadata": {},
   "outputs": [
    {
     "data": {
      "text/plain": [
       "[4, 6, 8]"
      ]
     },
     "execution_count": 4,
     "metadata": {},
     "output_type": "execute_result"
    }
   ],
   "source": [
    "list(range(4, 10, 2))"
   ]
  },
  {
   "cell_type": "code",
   "execution_count": 6,
   "id": "708a967f-11cf-430b-8c4a-5ef54f4cd84a",
   "metadata": {},
   "outputs": [
    {
     "data": {
      "text/plain": [
       "6"
      ]
     },
     "execution_count": 6,
     "metadata": {},
     "output_type": "execute_result"
    }
   ],
   "source": [
    "sum(range(1, 4))"
   ]
  },
  {
   "cell_type": "code",
   "execution_count": 8,
   "id": "f2160e49-bf83-4774-afc2-62849f96425a",
   "metadata": {},
   "outputs": [
    {
     "data": {
      "text/plain": [
       "20"
      ]
     },
     "execution_count": 8,
     "metadata": {},
     "output_type": "execute_result"
    }
   ],
   "source": [
    "total  = 0\n",
    "for step in range(2, 10, 2): # [2, 4, 6, 8]\n",
    "    total += step\n",
    "    \n",
    "total"
   ]
  },
  {
   "cell_type": "code",
   "execution_count": 9,
   "id": "d7afa120-a4f1-4a73-b97f-5dc1f7e3a33e",
   "metadata": {},
   "outputs": [
    {
     "data": {
      "text/plain": [
       "20"
      ]
     },
     "execution_count": 9,
     "metadata": {},
     "output_type": "execute_result"
    }
   ],
   "source": [
    "sum(range(2, 10, 2))"
   ]
  },
  {
   "cell_type": "code",
   "execution_count": 14,
   "id": "5fe42d2c-0c58-47e0-a7c1-3c2fb65ea40a",
   "metadata": {},
   "outputs": [
    {
     "data": {
      "text/plain": [
       "3628800"
      ]
     },
     "execution_count": 14,
     "metadata": {},
     "output_type": "execute_result"
    }
   ],
   "source": [
    "product  = 1\n",
    "for step in range(1, 11): # [1 ... 10]\n",
    "    product *= step\n",
    "    \n",
    "product"
   ]
  },
  {
   "cell_type": "code",
   "execution_count": 13,
   "id": "9106ecb3-2b15-499a-b3ea-18c0e087b122",
   "metadata": {},
   "outputs": [
    {
     "data": {
      "text/plain": [
       "3628800"
      ]
     },
     "execution_count": 13,
     "metadata": {},
     "output_type": "execute_result"
    }
   ],
   "source": [
    "import math\n",
    "math.factorial(10)"
   ]
  },
  {
   "cell_type": "code",
   "execution_count": null,
   "id": "6d64e9a9-fc70-4ce0-a535-d24d2b9b8080",
   "metadata": {},
   "outputs": [],
   "source": [
    "help(range)"
   ]
  },
  {
   "cell_type": "code",
   "execution_count": 30,
   "id": "cf043c73-6702-470c-a99c-310954636c87",
   "metadata": {},
   "outputs": [
    {
     "data": {
      "text/plain": [
       "[0, 1, 2, 3, 4, 5, 6, 7]"
      ]
     },
     "execution_count": 30,
     "metadata": {},
     "output_type": "execute_result"
    }
   ],
   "source": [
    "list(range(5))\n",
    "evens = [2, 4, 6, 8, 10, 12, 14, 16]\n",
    "\n",
    "evens\n",
    "list(range(len(evens)))"
   ]
  },
  {
   "cell_type": "code",
   "execution_count": 33,
   "id": "28aea7ba-19ab-4b2a-b2a9-321ed329fa08",
   "metadata": {},
   "outputs": [
    {
     "name": "stdout",
     "output_type": "stream",
     "text": [
      "0 2\n",
      "1 4\n",
      "2 6\n",
      "3 8\n",
      "4 10\n",
      "5 12\n",
      "6 14\n",
      "7 16\n"
     ]
    }
   ],
   "source": [
    "for index in range(len(evens)):\n",
    "    print(index, evens[index])"
   ]
  },
  {
   "cell_type": "code",
   "execution_count": 35,
   "id": "27889167-8d06-4f2b-8b8d-a380afea9003",
   "metadata": {},
   "outputs": [
    {
     "name": "stdout",
     "output_type": "stream",
     "text": [
      "2\n",
      "4\n",
      "6\n",
      "8\n",
      "10\n",
      "12\n",
      "14\n",
      "16\n"
     ]
    }
   ],
   "source": [
    "for number in evens:\n",
    "    print(number)"
   ]
  },
  {
   "cell_type": "code",
   "execution_count": 44,
   "id": "8519a203-b1a4-42d3-9e19-0ef236462897",
   "metadata": {},
   "outputs": [
    {
     "data": {
      "text/plain": [
       "True"
      ]
     },
     "execution_count": 44,
     "metadata": {},
     "output_type": "execute_result"
    }
   ],
   "source": [
    "# indexes  0  1  2  3    4   5  6  7   8\n",
    "numbers = [5, 1, 8, 9, -11, -5, 0, 7, -1]\n",
    "numbers = sorted(numbers)\n",
    "\n",
    "\n",
    "# Returns True if list is sorted in ascending order\n",
    "def sorted_ascending(sequence):\n",
    "    \n",
    "    # iterate over each of the indexes\n",
    "    for index in range(len(sequence) - 1):\n",
    "\n",
    "        # if the value at this index is\n",
    "        # greater than the one that follows\n",
    "        if sequence[index] > sequence[index + 1]:\n",
    "            return False\n",
    "    \n",
    "    # all values must be <= the one after it\n",
    "    return True\n",
    "\n",
    "sorted_ascending(numbers)\n",
    "sorted_ascending([1, 1])\n"
   ]
  },
  {
   "cell_type": "code",
   "execution_count": 47,
   "id": "f90b46e4-a563-47f0-931c-222da6d78223",
   "metadata": {},
   "outputs": [
    {
     "data": {
      "text/plain": [
       "12"
      ]
     },
     "execution_count": 47,
     "metadata": {},
     "output_type": "execute_result"
    }
   ],
   "source": [
    "# generate a list of fibonacci numbers\n",
    "\n",
    "# initialise our variable\n",
    "fibonacci = [0, 1]\n",
    "\n",
    "# for the next 10 numbers\n",
    "for index in range(10): # [0..9]\n",
    "    \n",
    "    fibonacci.append(fibonacci[index] + fibonacci[index + 1])\n",
    "    \n",
    "len(fibonacci)\n",
    "\n",
    "    "
   ]
  },
  {
   "cell_type": "code",
   "execution_count": 66,
   "id": "dc4acafc-7659-4c1a-bf4a-f46d685c66be",
   "metadata": {},
   "outputs": [
    {
     "name": "stdout",
     "output_type": "stream",
     "text": [
      " 1 x 3 = 3\n",
      " 2 x 3 = 6\n",
      " 3 x 3 = 9\n",
      " 4 x 3 = 12\n",
      " 5 x 3 = 15\n",
      " 6 x 3 = 18\n",
      " 7 x 3 = 21\n",
      " 8 x 3 = 24\n",
      " 9 x 3 = 27\n",
      "10 x 3 = 30\n",
      "11 x 3 = 33\n",
      "12 x 3 = 36\n"
     ]
    }
   ],
   "source": [
    "# print the 7 times table\n",
    "for multiplicand in range(1, 13): # [1..12]\n",
    "    print(str(multiplicand).rjust(2), \"x 3 =\", multiplicand * 3)"
   ]
  },
  {
   "cell_type": "code",
   "execution_count": null,
   "id": "88fe1558-98da-4677-ba0f-73a90135c718",
   "metadata": {},
   "outputs": [],
   "source": [
    "help(str.rjust)"
   ]
  },
  {
   "cell_type": "code",
   "execution_count": null,
   "id": "eda0872c-93ca-464b-953a-7fcf9f0b76ad",
   "metadata": {},
   "outputs": [],
   "source": [
    "# generate the times table for all numbers between 1 and 12\n",
    "for multiplicand in range(1, 13): # [1..12]\n",
    "    \n",
    "    print(multiplicand, \"times table:\")\n",
    "    \n",
    "    for multiplier in range(1, 13): # [1..12]\n",
    "        # print(str(multiplicand).rjust(2), \"x\", multiplier, \"=\", multiplicand * multiplier)\n",
    "        print(\"{} x {} = {}\".format(str(multiplicand).rjust(2), multiplier, multiplicand * multiplier))\n",
    "        \n",
    "    print(\"------------------------------\")"
   ]
  },
  {
   "cell_type": "code",
   "execution_count": 6,
   "id": "218df6fd-e7ee-478a-8508-a97ec596f6ac",
   "metadata": {},
   "outputs": [
    {
     "name": "stdout",
     "output_type": "stream",
     "text": [
      "2\n",
      "4\n",
      "8\n",
      "16\n",
      "32\n",
      "64\n"
     ]
    }
   ],
   "source": [
    "number = 2\n",
    "\n",
    "while number < 100:\n",
    "    \n",
    "    print(number)\n",
    "    number *= 2"
   ]
  },
  {
   "cell_type": "code",
   "execution_count": 8,
   "id": "66ef6a63-fe67-43d2-b40d-2897ec477d02",
   "metadata": {},
   "outputs": [],
   "source": [
    "# infinite loop\n",
    "counter = 0\n",
    "\n",
    "while False:\n",
    "    print(counter)\n",
    "    counter += 1 \n",
    "    "
   ]
  },
  {
   "cell_type": "code",
   "execution_count": 9,
   "id": "a259c022-dd22-4faa-96c2-52f0dc4c1352",
   "metadata": {},
   "outputs": [
    {
     "name": "stdout",
     "output_type": "stream",
     "text": [
      "3\n",
      "5\n",
      "7\n",
      "9\n"
     ]
    }
   ],
   "source": [
    "# for-each loop\n",
    "numbers = [3, 5, 7, 9]\n",
    "\n",
    "for number in numbers:\n",
    "    print(number)"
   ]
  },
  {
   "cell_type": "code",
   "execution_count": 10,
   "id": "abcf2005-1daf-4e19-9833-a036d304e1cb",
   "metadata": {},
   "outputs": [
    {
     "name": "stdout",
     "output_type": "stream",
     "text": [
      "3\n",
      "5\n",
      "7\n",
      "9\n"
     ]
    }
   ],
   "source": [
    "# range loop\n",
    "for index in range(len(numbers)): # [0..3]\n",
    "    \n",
    "    print(numbers[index])"
   ]
  },
  {
   "cell_type": "code",
   "execution_count": 11,
   "id": "f5e4473b-6cfa-4fd8-8e52-6ec765f6ca3a",
   "metadata": {},
   "outputs": [
    {
     "name": "stdout",
     "output_type": "stream",
     "text": [
      "3\n",
      "5\n",
      "7\n",
      "9\n"
     ]
    }
   ],
   "source": [
    "# while loop\n",
    "index = 0\n",
    "\n",
    "while index < len(numbers):\n",
    "    \n",
    "    print(numbers[index])\n",
    "    index += 1\n",
    "    \n"
   ]
  },
  {
   "cell_type": "markdown",
   "id": "adc9eeb0-79f9-4402-b228-f5b2564e8e30",
   "metadata": {},
   "source": [
    "Euler's number:\n",
    "\n",
    "$e = \\sum_\\limits{n=0}^{\\infty} \\frac{1}{n!}$"
   ]
  },
  {
   "cell_type": "code",
   "execution_count": 17,
   "id": "0151983f-9a1c-4bd4-9923-a3e6660b95f4",
   "metadata": {},
   "outputs": [
    {
     "data": {
      "text/plain": [
       "24"
      ]
     },
     "execution_count": 17,
     "metadata": {},
     "output_type": "execute_result"
    }
   ],
   "source": [
    "# Calculate the factorial of a given number\n",
    "def calculate_factorial(number):\n",
    "    \n",
    "    total = 1\n",
    "    \n",
    "    for number in range(1, number + 1):\n",
    "        \n",
    "        total *= number\n",
    "        \n",
    "    return total\n",
    "    \n",
    "calculate_factorial(4) # 1 x 2 x 3"
   ]
  },
  {
   "cell_type": "code",
   "execution_count": null,
   "id": "69320e33-a71f-4314-a260-9032735c6823",
   "metadata": {},
   "outputs": [],
   "source": [
    "import math\n",
    "math.factorial(4)\n",
    "help(math.factorial)"
   ]
  },
  {
   "cell_type": "code",
   "execution_count": 20,
   "id": "016a8526-36eb-4458-95be-5854c5e161e0",
   "metadata": {},
   "outputs": [
    {
     "name": "stdout",
     "output_type": "stream",
     "text": [
      "0 1.0\n",
      "1 2.0\n",
      "2 2.5\n",
      "3 2.6666666666666665\n",
      "4 2.708333333333333\n",
      "5 2.7166666666666663\n",
      "6 2.7180555555555554\n",
      "7 2.7182539682539684\n",
      "8 2.71827876984127\n",
      "9 2.7182815255731922\n",
      "10 2.7182818011463845\n",
      "11 2.718281826198493\n",
      "12 2.7182818282861687\n",
      "13 2.7182818284467594\n",
      "14 2.71828182845823\n",
      "15 2.718281828458995\n",
      "16 2.718281828459043\n",
      "17 2.7182818284590455\n",
      "18 2.7182818284590455\n"
     ]
    }
   ],
   "source": [
    "# calculate an approximation of Euler's number\n",
    "total = 0\n",
    "number = 0\n",
    "\n",
    "previous = -1\n",
    "\n",
    "while previous != total:\n",
    "    \n",
    "    previous = total\n",
    "    \n",
    "    total += 1 / math.factorial(number)\n",
    "    print(number, total)\n",
    "    number += 1"
   ]
  }
 ],
 "metadata": {
  "kernelspec": {
   "display_name": "Python 3 (ipykernel)",
   "language": "python",
   "name": "python3"
  },
  "language_info": {
   "codemirror_mode": {
    "name": "ipython",
    "version": 3
   },
   "file_extension": ".py",
   "mimetype": "text/x-python",
   "name": "python",
   "nbconvert_exporter": "python",
   "pygments_lexer": "ipython3",
   "version": "3.9.13"
  }
 },
 "nbformat": 4,
 "nbformat_minor": 5
}
