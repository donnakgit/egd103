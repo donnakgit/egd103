{
 "cells": [
  {
   "cell_type": "code",
   "execution_count": 22,
   "id": "a0ea14ed-cd27-42f6-b0b6-465571f2ad88",
   "metadata": {},
   "outputs": [
    {
     "data": {
      "text/plain": [
       "[7, 52.5, 'black', 'golf', ['a', 1]]"
      ]
     },
     "execution_count": 22,
     "metadata": {},
     "output_type": "execute_result"
    }
   ],
   "source": [
    "# index    0  1  2\n",
    "numbers = [2, 3, 4]\n",
    "type(numbers)\n",
    "\n",
    "len(numbers)\n",
    "\n",
    "numbers[-2]\n",
    "\n",
    "[3, 5, 7, 9][3]\n",
    "\n",
    "# index       0    1       2        3        4\n",
    "favourites = [7, 52.5, \"purple\", 'golf', ['a', 1]]\n",
    "\n",
    "favourites[4][0]\n",
    "favourites[2][1]\n",
    "\n",
    "favourites[2] = 'black'\n",
    "favourites"
   ]
  },
  {
   "cell_type": "code",
   "execution_count": 26,
   "id": "3d62c76d-4c25-4128-9cd3-f709e8947de8",
   "metadata": {},
   "outputs": [
    {
     "ename": "TypeError",
     "evalue": "'tuple' object does not support item assignment",
     "output_type": "error",
     "traceback": [
      "\u001b[0;31m---------------------------------------------------------------------------\u001b[0m",
      "\u001b[0;31mTypeError\u001b[0m                                 Traceback (most recent call last)",
      "Cell \u001b[0;32mIn [26], line 3\u001b[0m\n\u001b[1;32m      1\u001b[0m pair \u001b[38;5;241m=\u001b[39m (\u001b[38;5;124m'\u001b[39m\u001b[38;5;124mdonna\u001b[39m\u001b[38;5;124m'\u001b[39m, \u001b[38;5;241m123456\u001b[39m)\n\u001b[1;32m      2\u001b[0m pair[\u001b[38;5;241m1\u001b[39m]\n\u001b[0;32m----> 3\u001b[0m pair[\u001b[38;5;241m1\u001b[39m] \u001b[38;5;241m=\u001b[39m \u001b[38;5;241m989898\u001b[39m\n",
      "\u001b[0;31mTypeError\u001b[0m: 'tuple' object does not support item assignment"
     ]
    }
   ],
   "source": [
    "pair = ('donna', 123456)\n",
    "pair[1]\n",
    "pair[1] = 989898\n"
   ]
  },
  {
   "cell_type": "code",
   "execution_count": 31,
   "id": "5f57c712-59a6-4095-8323-d7de302bbd3a",
   "metadata": {},
   "outputs": [
    {
     "data": {
      "text/plain": [
       "('donna', 123456, 'donna', 123456)"
      ]
     },
     "execution_count": 31,
     "metadata": {},
     "output_type": "execute_result"
    }
   ],
   "source": [
    "favourites + [9999]\n",
    "pair + pair"
   ]
  },
  {
   "cell_type": "code",
   "execution_count": 32,
   "id": "cbb1bb55-5a75-49f1-afc7-8d91dbd6878e",
   "metadata": {},
   "outputs": [
    {
     "data": {
      "text/plain": [
       "[7, 52.5, 'black', 'golf', ['a', 1], 7, 52.5, 'black', 'golf', ['a', 1]]"
      ]
     },
     "execution_count": 32,
     "metadata": {},
     "output_type": "execute_result"
    }
   ],
   "source": [
    "favourites * 2"
   ]
  },
  {
   "cell_type": "code",
   "execution_count": 35,
   "id": "c2e4da9f-b7dc-4f01-86e9-50d09fd12a57",
   "metadata": {},
   "outputs": [
    {
     "data": {
      "text/plain": [
       "('donna', 123456, 'donna', 123456, 'donna', 123456)"
      ]
     },
     "execution_count": 35,
     "metadata": {},
     "output_type": "execute_result"
    }
   ],
   "source": [
    "evens = [2, 4, 6, 8]\n",
    "evens * 4\n",
    "pair * 3"
   ]
  },
  {
   "cell_type": "code",
   "execution_count": 37,
   "id": "82b2972c-dd7c-4f58-9314-90eb6e2683b7",
   "metadata": {},
   "outputs": [
    {
     "ename": "TypeError",
     "evalue": "unsupported operand type(s) for -: 'tuple' and 'int'",
     "output_type": "error",
     "traceback": [
      "\u001b[0;31m---------------------------------------------------------------------------\u001b[0m",
      "\u001b[0;31mTypeError\u001b[0m                                 Traceback (most recent call last)",
      "Cell \u001b[0;32mIn [37], line 1\u001b[0m\n\u001b[0;32m----> 1\u001b[0m pair \u001b[38;5;241m-\u001b[39m \u001b[38;5;241m2\u001b[39m\n",
      "\u001b[0;31mTypeError\u001b[0m: unsupported operand type(s) for -: 'tuple' and 'int'"
     ]
    }
   ],
   "source": [
    "pair - 2"
   ]
  },
  {
   "cell_type": "code",
   "execution_count": 41,
   "id": "3ad91a28-c084-4385-a540-6b3639dcc139",
   "metadata": {},
   "outputs": [
    {
     "data": {
      "text/plain": [
       "123456"
      ]
     },
     "execution_count": 41,
     "metadata": {},
     "output_type": "execute_result"
    }
   ],
   "source": [
    "pair\n",
    "name, student_id = pair\n",
    "name\n",
    "student_id"
   ]
  },
  {
   "cell_type": "code",
   "execution_count": 56,
   "id": "a6b929ae-8b7b-4fe2-ad53-eba89b42e44a",
   "metadata": {},
   "outputs": [
    {
     "name": "stdout",
     "output_type": "stream",
     "text": [
      "[2, 4, 6, 8, 10, 12, 14, 16]\n"
     ]
    },
    {
     "data": {
      "text/plain": [
       "[6, 8, 10, 12, 14, 16]"
      ]
     },
     "execution_count": 56,
     "metadata": {},
     "output_type": "execute_result"
    }
   ],
   "source": [
    "evens = [2, 4, 6, 8]\n",
    "evens = evens + [10, 12, 14, 16]\n",
    "evens[0:4:2]\n",
    "len(evens)\n",
    "print(evens)\n",
    "evens[1:8:2]\n",
    "evens[2:]"
   ]
  },
  {
   "cell_type": "code",
   "execution_count": 60,
   "id": "9b7a6f6e-fc1a-4c43-8a51-f1c0892b0b34",
   "metadata": {},
   "outputs": [
    {
     "name": "stdout",
     "output_type": "stream",
     "text": [
      "[2, 4, 6, 8, 10, 12, 14, 16]\n"
     ]
    },
    {
     "data": {
      "text/plain": [
       "16"
      ]
     },
     "execution_count": 60,
     "metadata": {},
     "output_type": "execute_result"
    }
   ],
   "source": [
    "print(evens)\n",
    "len(evens)\n",
    "evens[len(evens) - 1]"
   ]
  },
  {
   "cell_type": "code",
   "execution_count": 65,
   "id": "61571a1a-0def-4316-9515-c428279918a0",
   "metadata": {},
   "outputs": [
    {
     "data": {
      "text/plain": [
       "-2"
      ]
     },
     "execution_count": 65,
     "metadata": {},
     "output_type": "execute_result"
    }
   ],
   "source": [
    "12 in evens\n",
    "min(evens)\n",
    "max(evens)\n",
    "\n",
    "min(1, 2, 4, 5, 0, -2)"
   ]
  },
  {
   "cell_type": "code",
   "execution_count": 68,
   "id": "93068f51-ffc3-4550-9f59-20b673bfdd8e",
   "metadata": {},
   "outputs": [
    {
     "name": "stdout",
     "output_type": "stream",
     "text": [
      "[-2, 0, 1, 2, 4, 5]\n"
     ]
    }
   ],
   "source": [
    "numbers = [1, 2, 4, 5, 0, -2]\n",
    "print(sorted(numbers))"
   ]
  },
  {
   "cell_type": "code",
   "execution_count": 69,
   "id": "c990940e-e18d-4801-b35a-31307ffd04fe",
   "metadata": {},
   "outputs": [
    {
     "data": {
      "text/plain": [
       "[1, 2, 4, 5, 0, -2]"
      ]
     },
     "execution_count": 69,
     "metadata": {},
     "output_type": "execute_result"
    }
   ],
   "source": [
    "numbers"
   ]
  },
  {
   "cell_type": "code",
   "execution_count": 73,
   "id": "8886f111-5174-49b6-a163-9db6c73c238d",
   "metadata": {},
   "outputs": [
    {
     "data": {
      "text/plain": [
       "[-9, -2, 0, 1, 2, 4, 5, -9]"
      ]
     },
     "execution_count": 73,
     "metadata": {},
     "output_type": "execute_result"
    }
   ],
   "source": [
    "numbers.sort()\n",
    "numbers\n",
    "\n",
    "numbers.append(-9)\n",
    "numbers"
   ]
  },
  {
   "cell_type": "code",
   "execution_count": 75,
   "id": "6b33636e-f745-45bf-9908-67eaa2a511ac",
   "metadata": {},
   "outputs": [],
   "source": [
    "numbers = [1, 2, 4, 5, 0, -2]\n",
    "numbers.sort()\n"
   ]
  },
  {
   "cell_type": "code",
   "execution_count": 77,
   "id": "bf43adfa-c509-4b65-a0a1-ca1550ec1074",
   "metadata": {},
   "outputs": [],
   "source": [
    "numbers.append(-99)"
   ]
  },
  {
   "cell_type": "code",
   "execution_count": 81,
   "id": "0b63ad44-0b20-480e-9914-fc7cd6f20461",
   "metadata": {},
   "outputs": [
    {
     "data": {
      "text/plain": [
       "[-2, 0, 1, 2, 4, 5, -99, 1]"
      ]
     },
     "execution_count": 81,
     "metadata": {},
     "output_type": "execute_result"
    }
   ],
   "source": [
    "numbers.index(0)\n",
    "numbers.append(1)\n",
    "numbers"
   ]
  },
  {
   "cell_type": "code",
   "execution_count": 83,
   "id": "f87428ce-6875-4106-a255-53efafdfb18a",
   "metadata": {},
   "outputs": [
    {
     "data": {
      "text/plain": [
       "2"
      ]
     },
     "execution_count": 83,
     "metadata": {},
     "output_type": "execute_result"
    }
   ],
   "source": [
    "numbers.index(1)\n",
    "numbers.count(1)"
   ]
  },
  {
   "cell_type": "code",
   "execution_count": 84,
   "id": "87cad1d2-4987-48a6-954f-f7a45f3908c5",
   "metadata": {},
   "outputs": [
    {
     "data": {
      "text/plain": [
       "[-2, 0, 1, 2, 4, 5, -99, 1, 7, 1, 2, 3, 4, 7, 3, 7]"
      ]
     },
     "execution_count": 84,
     "metadata": {},
     "output_type": "execute_result"
    }
   ],
   "source": [
    "numbers = numbers + [7, 1, 2, 3, 4, 7, 3, 7]\n",
    "numbers"
   ]
  },
  {
   "cell_type": "code",
   "execution_count": 87,
   "id": "166786c4-8d04-42f9-b57e-39b27c774d33",
   "metadata": {},
   "outputs": [
    {
     "data": {
      "text/plain": [
       "0"
      ]
     },
     "execution_count": 87,
     "metadata": {},
     "output_type": "execute_result"
    }
   ],
   "source": [
    "numbers.count(6)"
   ]
  },
  {
   "cell_type": "code",
   "execution_count": 88,
   "id": "116a822b-f9ea-4a84-88ab-10f769da2925",
   "metadata": {},
   "outputs": [],
   "source": [
    "numbers.reverse()\n"
   ]
  },
  {
   "cell_type": "code",
   "execution_count": 90,
   "id": "b32d4c8f-f00f-4893-904a-bc327cffa82d",
   "metadata": {},
   "outputs": [
    {
     "data": {
      "text/plain": [
       "-2"
      ]
     },
     "execution_count": 90,
     "metadata": {},
     "output_type": "execute_result"
    }
   ],
   "source": [
    "numbers.pop()"
   ]
  },
  {
   "cell_type": "code",
   "execution_count": 91,
   "id": "aead456d-8b94-45fa-8e58-122ac2ab8091",
   "metadata": {},
   "outputs": [
    {
     "data": {
      "text/plain": [
       "[7, 3, 7, 4, 3, 2, 1, 7, 1, -99, 5, 4, 2, 1, 0]"
      ]
     },
     "execution_count": 91,
     "metadata": {},
     "output_type": "execute_result"
    }
   ],
   "source": [
    "numbers"
   ]
  },
  {
   "cell_type": "code",
   "execution_count": 92,
   "id": "8119ea8e-a1e3-4e68-8f71-dfa77e0ff2e9",
   "metadata": {},
   "outputs": [
    {
     "data": {
      "text/plain": [
       "0"
      ]
     },
     "execution_count": 92,
     "metadata": {},
     "output_type": "execute_result"
    }
   ],
   "source": [
    "numbers.pop()"
   ]
  },
  {
   "cell_type": "code",
   "execution_count": 93,
   "id": "25d00649-b24c-4f87-a860-7c2ec8586a3e",
   "metadata": {},
   "outputs": [
    {
     "data": {
      "text/plain": [
       "[7, 3, 7, 4, 3, 2, 1, 7, 1, -99, 5, 4, 2, 1]"
      ]
     },
     "execution_count": 93,
     "metadata": {},
     "output_type": "execute_result"
    }
   ],
   "source": [
    "numbers"
   ]
  },
  {
   "cell_type": "code",
   "execution_count": 99,
   "id": "d03a5e0f-7cf9-49ba-8a67-01d372bbef4f",
   "metadata": {},
   "outputs": [
    {
     "data": {
      "text/plain": [
       "[3, 6, 9]"
      ]
     },
     "execution_count": 99,
     "metadata": {},
     "output_type": "execute_result"
    }
   ],
   "source": [
    "numbers = []\n",
    "\n",
    "for number in [3, 6, 9]:\n",
    "    # body \n",
    "    numbers.append(number)\n",
    "\n",
    "numbers"
   ]
  },
  {
   "cell_type": "code",
   "execution_count": 103,
   "id": "936e0375-4d50-4dd8-a403-9754e34c57ed",
   "metadata": {},
   "outputs": [
    {
     "data": {
      "text/plain": [
       "24"
      ]
     },
     "execution_count": 103,
     "metadata": {},
     "output_type": "execute_result"
    }
   ],
   "source": [
    "sum([9, 7, 5, 3])"
   ]
  },
  {
   "cell_type": "code",
   "execution_count": 102,
   "id": "396cf69b-0f62-4066-9024-650d60b19bce",
   "metadata": {},
   "outputs": [
    {
     "data": {
      "text/plain": [
       "24"
      ]
     },
     "execution_count": 102,
     "metadata": {},
     "output_type": "execute_result"
    }
   ],
   "source": [
    "total = 0\n",
    "\n",
    "for number in [9, 7, 5, 3]:\n",
    "    total += number\n",
    "\n",
    "total"
   ]
  },
  {
   "cell_type": "code",
   "execution_count": 106,
   "id": "db657e9e-ff6d-4e5b-b2dc-e3fc84c1b118",
   "metadata": {},
   "outputs": [
    {
     "data": {
      "text/plain": [
       "945"
      ]
     },
     "execution_count": 106,
     "metadata": {},
     "output_type": "execute_result"
    }
   ],
   "source": [
    "product = 1\n",
    "\n",
    "for number in [9, 7, 5, 3]:\n",
    "    product *= number\n",
    "\n",
    "product"
   ]
  },
  {
   "cell_type": "code",
   "execution_count": 110,
   "id": "fbf104e3-9f96-4725-b0fb-cf2ba2334294",
   "metadata": {},
   "outputs": [
    {
     "data": {
      "text/plain": [
       "-88888"
      ]
     },
     "execution_count": 110,
     "metadata": {},
     "output_type": "execute_result"
    }
   ],
   "source": [
    "# return the minimum value in the given list\n",
    "def find_minimum(numbers):\n",
    "    \n",
    "    # set the minimum so far\n",
    "    minimum_so_far = numbers[0]\n",
    "    \n",
    "    # for each number\n",
    "    for number in numbers:\n",
    "    \n",
    "        # compare with minimum found so far\n",
    "        # if smaller, make it the minimum so far\n",
    "        if number < minimum_so_far:\n",
    "            minimum_so_far = number\n",
    "        \n",
    "    # return the minimum so far\n",
    "    return minimum_so_far\n",
    "\n",
    "find_minimum([9, 6, 5, 0, 2, -5, -66, 100000, -88888, -5])\n"
   ]
  },
  {
   "cell_type": "code",
   "execution_count": 114,
   "id": "9232c32c-298a-451f-b439-32769416a736",
   "metadata": {},
   "outputs": [
    {
     "data": {
      "text/plain": [
       "-5"
      ]
     },
     "execution_count": 114,
     "metadata": {},
     "output_type": "execute_result"
    }
   ],
   "source": [
    "# find the first negative number in a list\n",
    "# and return it, or 0 if none found\n",
    "def first_negative(readings):\n",
    "    \n",
    "    # for each value in the list\n",
    "    for value in readings:\n",
    "        \n",
    "        # if it is negative\n",
    "        if value < 0:\n",
    "            # return it\n",
    "            return value\n",
    "      \n",
    "    # none found, so return 0\n",
    "    return 0\n",
    "\n",
    "first_negative([1, 2, 3, 4, -5])\n",
    "    "
   ]
  },
  {
   "cell_type": "code",
   "execution_count": 119,
   "id": "314d3633-8540-4a59-8654-fb1c3ec707fa",
   "metadata": {},
   "outputs": [
    {
     "data": {
      "text/plain": [
       "False"
      ]
     },
     "execution_count": 119,
     "metadata": {},
     "output_type": "execute_result"
    }
   ],
   "source": [
    "# check if all values are valid percentages\n",
    "def valid_marks(percentages):\n",
    "    \n",
    "    # set a flag\n",
    "    all_valid = True\n",
    "    \n",
    "    # iterate over the list\n",
    "    for mark in percentages:\n",
    "    \n",
    "        # if value is not a valid percentage\n",
    "        if mark < 0 or mark > 100:\n",
    "            # change the flag to False\n",
    "            all_valid = False\n",
    "            \n",
    "            # break out of the loop\n",
    "            break\n",
    "        \n",
    "    # return the flag\n",
    "    return all_valid\n",
    "\n",
    "valid_marks([102, 55, 5, 1, 100])\n",
    "            "
   ]
  },
  {
   "cell_type": "code",
   "execution_count": 121,
   "id": "e2ac68e2-d4ad-4b3c-aa4f-50052718d750",
   "metadata": {},
   "outputs": [
    {
     "data": {
      "text/plain": [
       "[9, 5, 3, 2]"
      ]
     },
     "execution_count": 121,
     "metadata": {},
     "output_type": "execute_result"
    }
   ],
   "source": [
    "# create a new list with all the positive\n",
    "# values from the given list\n",
    "def get_positives(numbers):\n",
    "    \n",
    "    # create a new list to store the required values\n",
    "    positives = []\n",
    "    \n",
    "    # look at each value in the list\n",
    "    for number in numbers:\n",
    "    \n",
    "        # if it is positive, add to our positives list\n",
    "        if number > 0:\n",
    "            \n",
    "            positives.append(number)\n",
    "        \n",
    "        \n",
    "    return positives\n",
    "\n",
    "get_positives([9, 5, 3, 2, -1, -2, 0])\n",
    "    "
   ]
  },
  {
   "cell_type": "code",
   "execution_count": 122,
   "id": "4480c489-bf7b-4819-b7d1-30e93e9e9935",
   "metadata": {},
   "outputs": [
    {
     "data": {
      "text/plain": [
       "[81, 25, 9, 4, 1, 4, 0]"
      ]
     },
     "execution_count": 122,
     "metadata": {},
     "output_type": "execute_result"
    }
   ],
   "source": [
    "# create a new list containing the square\n",
    "# of each of the numbers in the given list\n",
    "def square_numbers(numbers):\n",
    "    \n",
    "    # create a new list to store the squares\n",
    "    squares = []\n",
    "    \n",
    "    # look at each value in the list\n",
    "    for number in numbers:\n",
    "    \n",
    "        # add to the new list, the value squared\n",
    "        squares.append(number ** 2)\n",
    "        \n",
    "    # return the new list\n",
    "    return squares\n",
    " \n",
    "square_numbers([9, 5, 3, 2, -1, -2, 0])"
   ]
  }
 ],
 "metadata": {
  "kernelspec": {
   "display_name": "Python 3 (ipykernel)",
   "language": "python",
   "name": "python3"
  },
  "language_info": {
   "codemirror_mode": {
    "name": "ipython",
    "version": 3
   },
   "file_extension": ".py",
   "mimetype": "text/x-python",
   "name": "python",
   "nbconvert_exporter": "python",
   "pygments_lexer": "ipython3",
   "version": "3.9.13"
  }
 },
 "nbformat": 4,
 "nbformat_minor": 5
}
