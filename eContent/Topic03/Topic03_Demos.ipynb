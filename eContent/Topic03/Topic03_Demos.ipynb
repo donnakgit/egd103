{
 "cells": [
  {
   "cell_type": "code",
   "execution_count": 1,
   "id": "6d2f50bc-82d9-4bf6-a600-58aad89dde84",
   "metadata": {},
   "outputs": [
    {
     "data": {
      "text/plain": [
       "complex"
      ]
     },
     "execution_count": 1,
     "metadata": {},
     "output_type": "execute_result"
    }
   ],
   "source": [
    "type(14 + 4.1j)"
   ]
  },
  {
   "cell_type": "code",
   "execution_count": 2,
   "id": "3efc6ddf-ed1a-4e9c-bab8-23d487f2e649",
   "metadata": {},
   "outputs": [
    {
     "data": {
      "text/plain": [
       "complex"
      ]
     },
     "execution_count": 2,
     "metadata": {},
     "output_type": "execute_result"
    }
   ],
   "source": [
    "integer_number = 57\n",
    "float_number = 17.9\n",
    "complex_number = (14 + 4.1j)\n",
    "\n",
    "type(integer_number)\n",
    "type(float_number)\n",
    "type(complex_number)"
   ]
  },
  {
   "cell_type": "code",
   "execution_count": 6,
   "id": "f189ac99-0bec-43e9-8fa1-5c58daeb0766",
   "metadata": {},
   "outputs": [
    {
     "data": {
      "text/plain": [
       "17"
      ]
     },
     "execution_count": 6,
     "metadata": {},
     "output_type": "execute_result"
    }
   ],
   "source": [
    "int(float_number)"
   ]
  },
  {
   "cell_type": "code",
   "execution_count": 8,
   "id": "00776e73-25f3-439b-a4fd-90eba7b3348e",
   "metadata": {},
   "outputs": [
    {
     "data": {
      "text/plain": [
       "234.0"
      ]
     },
     "execution_count": 8,
     "metadata": {},
     "output_type": "execute_result"
    }
   ],
   "source": [
    "float(234)"
   ]
  },
  {
   "cell_type": "code",
   "execution_count": 9,
   "id": "2165d753-2b43-4db9-8ba1-8e6d1a23d082",
   "metadata": {},
   "outputs": [
    {
     "data": {
      "text/plain": [
       "(17.9+0j)"
      ]
     },
     "execution_count": 9,
     "metadata": {},
     "output_type": "execute_result"
    }
   ],
   "source": [
    "complex(float_number)"
   ]
  },
  {
   "cell_type": "code",
   "execution_count": 15,
   "id": "a64a0c6a-8db9-432d-9bb4-d07f72c92d9a",
   "metadata": {},
   "outputs": [
    {
     "data": {
      "text/plain": [
       "5.0"
      ]
     },
     "execution_count": 15,
     "metadata": {},
     "output_type": "execute_result"
    }
   ],
   "source": [
    "complex_number = complex(5, 4.2)\n",
    "complex_number.imag\n",
    "complex_number.real\n",
    "\n"
   ]
  },
  {
   "cell_type": "code",
   "execution_count": 11,
   "id": "647cd24e-3395-46ab-b77e-0dcf85b3dcd8",
   "metadata": {},
   "outputs": [
    {
     "data": {
      "text/plain": [
       "(45.7+0j)"
      ]
     },
     "execution_count": 11,
     "metadata": {},
     "output_type": "execute_result"
    }
   ],
   "source": [
    "complex('45.7')"
   ]
  },
  {
   "cell_type": "code",
   "execution_count": 18,
   "id": "b30ec8dc-3309-4534-b319-1e10653b9b03",
   "metadata": {},
   "outputs": [
    {
     "data": {
      "text/plain": [
       "3.0"
      ]
     },
     "execution_count": 18,
     "metadata": {},
     "output_type": "execute_result"
    }
   ],
   "source": [
    "18 // 5.0"
   ]
  },
  {
   "cell_type": "code",
   "execution_count": 19,
   "id": "f66fb7bb-9624-4e62-94d2-2c80567aac9b",
   "metadata": {},
   "outputs": [
    {
     "data": {
      "text/plain": [
       "400.0"
      ]
     },
     "execution_count": 19,
     "metadata": {},
     "output_type": "execute_result"
    }
   ],
   "source": [
    "4e2"
   ]
  },
  {
   "cell_type": "code",
   "execution_count": 20,
   "id": "ce93a549-f17f-448e-8648-a95674092c40",
   "metadata": {},
   "outputs": [
    {
     "data": {
      "text/plain": [
       "6.000000000000001"
      ]
     },
     "execution_count": 20,
     "metadata": {},
     "output_type": "execute_result"
    }
   ],
   "source": [
    "(6.0 * 0.1) / 0.1"
   ]
  },
  {
   "cell_type": "code",
   "execution_count": 46,
   "id": "69cab432-f502-498a-8c30-0e409004e6a7",
   "metadata": {},
   "outputs": [
    {
     "data": {
      "text/plain": [
       "True"
      ]
     },
     "execution_count": 46,
     "metadata": {},
     "output_type": "execute_result"
    }
   ],
   "source": [
    "answer = False\n",
    "type(answer)\n",
    "\n",
    "True and True"
   ]
  },
  {
   "cell_type": "code",
   "execution_count": 50,
   "id": "a989b49e-850a-4589-958a-3763951bafd9",
   "metadata": {},
   "outputs": [
    {
     "data": {
      "text/plain": [
       "False"
      ]
     },
     "execution_count": 50,
     "metadata": {},
     "output_type": "execute_result"
    }
   ],
   "source": [
    "budget = 25.0\n",
    "cost_burger = 7.5\n",
    "cost_juice = 6.4\n",
    "\n",
    "can_afford_lunch = budget >= (cost_burger * 3) + (cost_juice * 2)\n",
    "can_afford_lunch"
   ]
  },
  {
   "cell_type": "code",
   "execution_count": 54,
   "id": "823bfa65-60a1-4f3b-86bf-d237e1186ce7",
   "metadata": {},
   "outputs": [
    {
     "data": {
      "text/plain": [
       "True"
      ]
     },
     "execution_count": 54,
     "metadata": {},
     "output_type": "execute_result"
    }
   ],
   "source": [
    "age = 18\n",
    "license = None\n",
    "\n",
    "if age >= 16:\n",
    "    license = True\n",
    "    \n",
    "license    "
   ]
  },
  {
   "cell_type": "code",
   "execution_count": 58,
   "id": "663a3ab2-9d74-43e1-97d1-e8a1fca1e8d9",
   "metadata": {},
   "outputs": [
    {
     "data": {
      "text/plain": [
       "1"
      ]
     },
     "execution_count": 58,
     "metadata": {},
     "output_type": "execute_result"
    }
   ],
   "source": [
    "number = 0\n",
    "increment = True\n",
    "\n",
    "if not increment:\n",
    "    number += 1 # number = number + 1\n",
    "else: # in all other cases\n",
    "    number -= 1  # number = number - 1\n",
    "    \n",
    "number"
   ]
  },
  {
   "cell_type": "code",
   "execution_count": 68,
   "id": "d301d4c2-0f30-4aad-8202-be698641b417",
   "metadata": {},
   "outputs": [
    {
     "data": {
      "text/plain": [
       "NoneType"
      ]
     },
     "execution_count": 68,
     "metadata": {},
     "output_type": "execute_result"
    }
   ],
   "source": [
    "age = -5\n",
    "license = None\n",
    "\n",
    "if age >= 80 or age < 0:\n",
    "    pass\n",
    "elif age >= 16:\n",
    "    license = True\n",
    "else:\n",
    "    license = False\n",
    "\n",
    "type(license)"
   ]
  },
  {
   "cell_type": "code",
   "execution_count": 2,
   "id": "548dec4a-b6bb-4af0-95ad-18d83cea1399",
   "metadata": {},
   "outputs": [
    {
     "data": {
      "text/plain": [
       "False"
      ]
     },
     "execution_count": 2,
     "metadata": {},
     "output_type": "execute_result"
    }
   ],
   "source": [
    "budget = 25.0\n",
    "cost_burger = 7.5\n",
    "cost_juice = 6.4\n",
    "\n",
    "\n",
    "can_afford_lunch = not (budget <= (cost_burger * 3) + (cost_juice * 2))\n",
    "can_afford_lunch\n"
   ]
  }
 ],
 "metadata": {
  "kernelspec": {
   "display_name": "Python 3 (ipykernel)",
   "language": "python",
   "name": "python3"
  },
  "language_info": {
   "codemirror_mode": {
    "name": "ipython",
    "version": 3
   },
   "file_extension": ".py",
   "mimetype": "text/x-python",
   "name": "python",
   "nbconvert_exporter": "python",
   "pygments_lexer": "ipython3",
   "version": "3.9.13"
  }
 },
 "nbformat": 4,
 "nbformat_minor": 5
}
