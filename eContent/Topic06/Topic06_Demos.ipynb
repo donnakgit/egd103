{
 "cells": [
  {
   "cell_type": "markdown",
   "id": "4441a545-e2f8-4524-a94b-b8df5fa254cf",
   "metadata": {},
   "source": [
    "### Vector Add\n",
    "$$\\begin{bmatrix} \n",
    "1 \\\\\n",
    "2 \\\\\n",
    "3\n",
    "\\end{bmatrix}\n",
    " + \n",
    "\\begin{bmatrix} \n",
    "3 \\\\\n",
    "4 \\\\\n",
    "5\n",
    "\\end{bmatrix}\n",
    "= \n",
    "\\begin{bmatrix} \n",
    "4 \\\\\n",
    "6 \\\\\n",
    "8\n",
    "\\end{bmatrix}\n",
    "$$\n"
   ]
  },
  {
   "cell_type": "code",
   "execution_count": null,
   "id": "635b7f67-96d4-4b3a-b58b-d87a9aa309cf",
   "metadata": {},
   "outputs": [],
   "source": [
    "# index     0  1  2\n",
    "vector_a = [1, 2, 3]\n",
    "vector_b = [3, 4, 5]\n",
    "\n",
    "# vector_sum = []\n",
    "# vector_sum.append(vector_a[0] + vector_b[0])\n",
    "# vector_sum.append(vector_a[1] + vector_b[1])\n",
    "# vector_sum.append(vector_a[2] + vector_b[2])\n",
    "\n",
    "\n",
    "def add_vectors(vector_1, vector_2):\n",
    "    \n",
    "    # new list for storing the result of addition\n",
    "    vector_sum = []\n",
    "    \n",
    "    # iterate over list of indexes\n",
    "    for index in range(len(vector_1)):\n",
    "        # add the sum to the new vector\n",
    "        vector_sum.append(vector_1[index] + vector_2[index])\n",
    "        \n",
    "    return vector_sum\n",
    "\n",
    "add_vectors(vector_a, vector_b)\n"
   ]
  },
  {
   "cell_type": "markdown",
   "id": "bc3f90a9-5d8f-4619-aec9-fc831ef30c76",
   "metadata": {},
   "source": [
    "### Vector Multiply\n",
    "$$\\begin{bmatrix} \n",
    "1 \\\\\n",
    "2 \\\\\n",
    "3\n",
    "\\end{bmatrix}\n",
    " \\times\n",
    "\\begin{bmatrix} \n",
    "3 \\\\\n",
    "4 \\\\\n",
    "5\n",
    "\\end{bmatrix}\n",
    "= \n",
    "26\n",
    "$$\n",
    "\n",
    "$$\\begin{bmatrix} \n",
    "2 \\\\\n",
    "4 \\\\\n",
    "6 \\\\\n",
    "8\n",
    "\\end{bmatrix}\n",
    " \\times\n",
    "\\begin{bmatrix} \n",
    "1 \\\\\n",
    "3 \\\\\n",
    "5 \\\\\n",
    "7\n",
    "\\end{bmatrix}\n",
    "= \n",
    "100\n",
    "$$"
   ]
  },
  {
   "cell_type": "code",
   "execution_count": null,
   "id": "1e5d39ec-80d9-485f-8cdd-c86fa2de9041",
   "metadata": {},
   "outputs": [],
   "source": [
    "def multiply_vectors(vector_1, vector_2):\n",
    "    \n",
    "    # result of dot product of vectors\n",
    "    product = 0\n",
    "    \n",
    "    # iterate over list of indexes\n",
    "    for index in range(len(vector_1)):\n",
    "        # add to the product\n",
    "        product += (vector_1[index] * vector_2[index])\n",
    "        \n",
    "    return product\n",
    "\n",
    "multiply_vectors(vector_a, vector_b)\n",
    "multiply_vectors([2, 4, 6, 8], [1, 3, 5, 7]) # 100"
   ]
  },
  {
   "cell_type": "markdown",
   "id": "0a0764c9-57a0-4c3f-9d38-d4df8cb8db3f",
   "metadata": {},
   "source": [
    "### Matrix Add\n",
    "$$\\begin{bmatrix} \n",
    "1 & 2 & 3 \\\\\n",
    "4 & 5 & 6 \\\\\n",
    "7 & 8 & 9\n",
    "\\end{bmatrix}\n",
    " + \n",
    "\\begin{bmatrix} \n",
    "10 & 11 & 12 \\\\\n",
    "13 & 14 & 15 \\\\\n",
    "16 & 17 & 18\n",
    "\\end{bmatrix}\n",
    "= \n",
    "\\begin{bmatrix} \n",
    "11 & 13 & 15 \\\\\n",
    "17 & 19 & 21 \\\\\n",
    "23 & 25 & 27\n",
    "\\end{bmatrix}\n",
    "$$\n"
   ]
  },
  {
   "cell_type": "code",
   "execution_count": null,
   "id": "711bdc66-ac10-45a9-96e1-026d5aeefe00",
   "metadata": {},
   "outputs": [],
   "source": [
    "matrix_a = [[1,  2,  3],\n",
    "            [4,  5,  6],\n",
    "            [7,  8,  9]]\n",
    "\n",
    "matrix_b = [[10, 11, 12],\n",
    "            [13, 14, 15],\n",
    "            [16, 17, 18]]\n",
    "\n",
    "# Add two matrices together\n",
    "def add_matrices(matrix_1, matrix_2):\n",
    "    \n",
    "    # new list for storing the result of addition\n",
    "    matrix_sum = []\n",
    "\n",
    "    # for each row\n",
    "    for row in range(len(matrix_1)):\n",
    "        \n",
    "        # create a result row\n",
    "        new_row = []\n",
    "    \n",
    "        # iterate over list of indexes\n",
    "        for column in range(len(matrix_1[0])):\n",
    "            # add the sum to the new row\n",
    "            new_row.append(matrix_1[row][column] + matrix_2[row][column])\n",
    "            \n",
    "        # append the new row to the new matrix\n",
    "        matrix_sum.append(new_row)\n",
    "        \n",
    "    return matrix_sum\n",
    "\n",
    "add_matrices(matrix_a, matrix_b)\n",
    "\n"
   ]
  },
  {
   "cell_type": "markdown",
   "id": "05a0eeeb-590e-4635-acf4-023ecf54e7d1",
   "metadata": {},
   "source": [
    "### Matrix Multiply\n",
    "\n",
    "$$\\begin{bmatrix} \n",
    "1 & 2 & 3 \\\\\n",
    "4 & 5 & 6 \n",
    "\\end{bmatrix}\n",
    " \\times \n",
    "\\begin{bmatrix} \n",
    "10 & 11 \\\\\n",
    "12 & 13 \\\\\n",
    "14 & 15 \n",
    "\\end{bmatrix}\n",
    "= \n",
    "\\begin{bmatrix} \n",
    "76 & 82 \\\\\n",
    "184 & 199\n",
    "\\end{bmatrix}\n",
    "$$\n"
   ]
  },
  {
   "cell_type": "code",
   "execution_count": null,
   "id": "8b47fb0d-545f-444c-91ea-dcb4a06b3b59",
   "metadata": {},
   "outputs": [],
   "source": [
    "matrix_c = [[1,  2,  3],\n",
    "            [4,  5,  6]]\n",
    "\n",
    "matrix_d = [[10, 11],\n",
    "            [12, 13], \n",
    "            [14, 15]]\n",
    "\n",
    "# Add two matrices together\n",
    "def multiply_matrices(matrix_1, matrix_2):\n",
    "    \n",
    "    # Sanity check\n",
    "    # Check that the number of columns in first matrix is the same\n",
    "    # as the number of rows in the second matrix\n",
    "    \n",
    "    # new list for storing the result \n",
    "    matrix_product = []\n",
    "\n",
    "    # for each of the indexes for the rows of the first matrix\n",
    "    for row in range(len(matrix_1)):\n",
    "        \n",
    "        # create a result row\n",
    "        new_row = []\n",
    "    \n",
    "        # for each of the indexes for the columns in the second matrix\n",
    "        for column in range(len(matrix_2[0])):\n",
    "            \n",
    "            # accumulate the sum of the products\n",
    "            total = 0\n",
    "            \n",
    "            # first value in matrix_1 row * first value in the matrix_2 column\n",
    "            # second value in matrix_1 row * second value in the matrix_2 column\n",
    "            # ...etc\n",
    "            \n",
    "            # add the sum to the new row\n",
    "            new_row.append(total)\n",
    "            \n",
    "        # append the new row to the new matrix\n",
    "        matrix_product.append(new_row)\n",
    "        \n",
    "    return matrix_product\n",
    "\n",
    "multiply_matrices(matrix_c, matrix_d)\n"
   ]
  },
  {
   "cell_type": "code",
   "execution_count": 25,
   "id": "9ca4be17-b1e0-4136-b913-120a0a6aa4e7",
   "metadata": {},
   "outputs": [
    {
     "data": {
      "text/plain": [
       "2"
      ]
     },
     "execution_count": 25,
     "metadata": {},
     "output_type": "execute_result"
    }
   ],
   "source": [
    "import numpy\n",
    "\n",
    "my_array = numpy.array([1, 2, 3])\n",
    "type(my_array)\n",
    "\n",
    "second_array = numpy.array([[1, 2, 3], [4, 5, 6]])\n",
    "second_array\n",
    "\n",
    "second_array[0][1]\n",
    "second_array[0, 1]\n"
   ]
  },
  {
   "cell_type": "code",
   "execution_count": 32,
   "id": "55fe3d0a-c9a7-4538-b7f8-aa2e0a749da8",
   "metadata": {},
   "outputs": [
    {
     "data": {
      "text/plain": [
       "array([[ 76,  82],\n",
       "       [184, 199]])"
      ]
     },
     "execution_count": 32,
     "metadata": {},
     "output_type": "execute_result"
    }
   ],
   "source": [
    "matrix_c = [[1,  2,  3],\n",
    "            [4,  5,  6],\n",
    "            [7,  8,  9]]\n",
    "\n",
    "matrix_d = [[10, 11, 12],\n",
    "            [13, 14, 15],\n",
    "            [16, 17, 18]]\n",
    "\n",
    "#matrix_c + matrix_d\n",
    "\n",
    "matrix_e = numpy.array(matrix_c)\n",
    "matrix_f = numpy.array(matrix_d)\n",
    "#matrix_e + matrix_f\n",
    "\n",
    "\n",
    "numpy.add(matrix_e, matrix_f)\n",
    "numpy.dot(matrix_e, matrix_f)\n",
    "\n",
    "matrix_g = numpy.array([[1, 2, 3], [4, 5, 6]])\n",
    "matrix_h = numpy.array([[10, 11], [12, 13], [14, 15]])\n",
    "numpy.dot(matrix_g, matrix_h)\n"
   ]
  },
  {
   "cell_type": "markdown",
   "id": "74c37cb9-13bc-4593-bdf9-fdf45e1a2ea6",
   "metadata": {},
   "source": [
    "### Matrix Multiply\n",
    "\n",
    "$$\\begin{bmatrix} \n",
    "1 & 2 & 3 \\\\\n",
    "4 & 5 & 6 \n",
    "\\end{bmatrix}\n",
    " \\times \n",
    "\\begin{bmatrix} \n",
    "10 & 11 \\\\\n",
    "12 & 13 \\\\\n",
    "14 & 15 \n",
    "\\end{bmatrix}\n",
    "= \n",
    "\\begin{bmatrix} \n",
    "76 & 82 \\\\\n",
    "184 & 199\n",
    "\\end{bmatrix}\n",
    "$$\n"
   ]
  },
  {
   "cell_type": "code",
   "execution_count": 33,
   "id": "a53ca384-4b02-42a4-9cb6-5d54b379f70c",
   "metadata": {},
   "outputs": [
    {
     "data": {
      "text/plain": [
       "array([[1, 4],\n",
       "       [2, 5],\n",
       "       [3, 6]])"
      ]
     },
     "execution_count": 33,
     "metadata": {},
     "output_type": "execute_result"
    }
   ],
   "source": [
    "numpy.transpose(matrix_g)"
   ]
  },
  {
   "cell_type": "code",
   "execution_count": 37,
   "id": "def9e4fb-516a-4e6b-ac1e-b9299875efdc",
   "metadata": {},
   "outputs": [
    {
     "data": {
      "text/plain": [
       "array([[[0., 0.],\n",
       "        [0., 0.],\n",
       "        [0., 0.]],\n",
       "\n",
       "       [[0., 0.],\n",
       "        [0., 0.],\n",
       "        [0., 0.]],\n",
       "\n",
       "       [[0., 0.],\n",
       "        [0., 0.],\n",
       "        [0., 0.]],\n",
       "\n",
       "       [[0., 0.],\n",
       "        [0., 0.],\n",
       "        [0., 0.]],\n",
       "\n",
       "       [[0., 0.],\n",
       "        [0., 0.],\n",
       "        [0., 0.]]])"
      ]
     },
     "execution_count": 37,
     "metadata": {},
     "output_type": "execute_result"
    }
   ],
   "source": [
    "numpy.zeros((5, 3, 2))"
   ]
  },
  {
   "cell_type": "code",
   "execution_count": 44,
   "id": "1fb8918b-a85f-4a15-99f7-0749db533d7b",
   "metadata": {},
   "outputs": [
    {
     "data": {
      "text/plain": [
       "99999.0"
      ]
     },
     "execution_count": 44,
     "metadata": {},
     "output_type": "execute_result"
    }
   ],
   "source": [
    "array_of_ones = numpy.ones((4, 6))\n",
    "array_of_ones\n",
    "\n",
    "array_of_ones[1, -1] = 99999\n",
    "array_of_ones\n",
    "array_of_ones[1, -1]\n"
   ]
  },
  {
   "cell_type": "code",
   "execution_count": 48,
   "id": "91c11a35-8928-4e21-829f-4e53c3ab96cc",
   "metadata": {},
   "outputs": [
    {
     "data": {
      "text/plain": [
       "array([1020, 2700, 2100, 1780, 1100, 1900, 1700])"
      ]
     },
     "execution_count": 48,
     "metadata": {},
     "output_type": "execute_result"
    }
   ],
   "source": [
    "# indexes of columns       0    1    2\n",
    "calories = numpy.array([[900, 750, 1020],  # index 0 of rows\n",
    "                        [300, 1000, 2700], #       1\n",
    "                        [500, 700, 2100],  #       2\n",
    "                        [400, 900, 1780],  #       3\n",
    "                        [600, 1200, 1100], #       4\n",
    "                        [575, 1150, 1900], #       5\n",
    "                        [600, 1020, 1700]])#       6\n",
    "\n",
    "# lookup the third row\n",
    "calories[2]\n",
    "calories[2, :]\n",
    "\n",
    "# just the second column in the third row\n",
    "calories[2, 1:2]\n",
    "\n",
    "# all of the dinner values (3rd column)\n",
    "calories[:,2]\n"
   ]
  }
 ],
 "metadata": {
  "kernelspec": {
   "display_name": "Python 3 (ipykernel)",
   "language": "python",
   "name": "python3"
  },
  "language_info": {
   "codemirror_mode": {
    "name": "ipython",
    "version": 3
   },
   "file_extension": ".py",
   "mimetype": "text/x-python",
   "name": "python",
   "nbconvert_exporter": "python",
   "pygments_lexer": "ipython3",
   "version": "3.9.13"
  }
 },
 "nbformat": 4,
 "nbformat_minor": 5
}
