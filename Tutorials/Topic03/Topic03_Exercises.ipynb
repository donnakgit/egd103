{
 "cells": [
  {
   "cell_type": "markdown",
   "id": "42c8c84d",
   "metadata": {},
   "source": [
    "# Topic: Selection\n",
    "Making decisions, conditional branching, Boolean, Numeric values\n",
    "\n",
    "## Python Concepts: \n",
    "* Numeric representations\n",
    "* Boolean expressions\n",
    "* Boolean operators\n",
    "* Boolean literals\n",
    "* Conditional statements\n",
    "\n",
    "### Keywords\n",
    "* <code>if</code>\n",
    "* <code>elif</code>\n",
    "* <code>else</code>\n",
    "* <code>and</code>\n",
    "* <code>or</code>\n",
    "* <code>not</code>\n",
    "* <code>True</code>\n",
    "* <code>False</code>\n",
    "\n",
    "### Data Types\n",
    "* <code>bool</code>\n",
    "\n",
    "---"
   ]
  },
  {
   "cell_type": "markdown",
   "id": "dbb476ef-9485-4c05-9a47-6ea0a348a81f",
   "metadata": {},
   "source": [
    "## EXERCISES:    \n",
    "\n",
    "### [Numeric Types](#numeric_types)\n",
    "\n",
    "### Civil - Traffic\n",
    "> [Estimate of Flow](#estimate_of_flow)<br/>\n",
    "> [Speed Estimator](#speed_estimator)<br/>\n",
    "> [Density for Pacific Motorway Scenario](#pac_motorway)<br/>\n",
    "\n",
    "### [Predicates](#predicates)\n",
    "> [Is Divisible](#is_divisible)<br/>\n",
    "> [Leap Year](#leap_year)<br/>\n",
    "\n",
    "\n",
    "### [Boolean Algebra](#boolean_algebra)\n",
    "> [XOR function](#xor_function)<br/>\n",
    "\n",
    "### [Binary Representation](#binary_representation)\n",
    "\n",
    "> [AND equivalent](#and_equivalent)<br/>\n",
    "> [OR equivalent](#or_equivalent)<br/>\n",
    "> [NOT equivalent](#not_equivalent)<br/>\n",
    "\n",
    "### [Electronic Circuits](#electronic_circuits)\n",
    "### [Digital Arithmetic](#digital_arithmetic)\n",
    "> [AND Gate](#and_gate)<br/>\n",
    "> [OR Gate](#or_gate)<br/>\n",
    "> [NOT Gate](#not_gate)<br/>\n",
    "> [NAND Gate](#nand_gate)<br/>\n",
    "> [NOR Gate](#nor_gate)<br/>\n",
    "\n",
    "### [Universality of NAND and NOR gates](#universality)\n",
    "> [Alternative AND Gate](#alternative_and_gate)<br/>\n",
    "> [Alternative OR Gate](#alternative_or_gate)<br/>\n",
    "> [Alternative NOT gate](#alternative_not_gate)<br/>\n",
    "> [Full Adder](#full_adder)<br/>\n",
    "\n"
   ]
  },
  {
   "cell_type": "markdown",
   "id": "ac83bacb-64b0-4bbd-ac66-5c3c8e60cfb2",
   "metadata": {},
   "source": [
    "<a name=\"numeric_types\"></a>\n",
    "<b>Q: Numeric Types</b>"
   ]
  },
  {
   "cell_type": "code",
   "execution_count": null,
   "id": "32741fb8-3d8d-4f78-aefd-2e8237f408b4",
   "metadata": {},
   "outputs": [],
   "source": [
    "# The following are expressions of different types. \n",
    "# Look at each expression and without executing the code, decide what Python type it will evaluate to.\n",
    "# Once you have made a decision on each expression, check your answer.\n",
    "\n",
    "type(24 / 8)\n",
    "# what type will it be?"
   ]
  },
  {
   "cell_type": "code",
   "execution_count": null,
   "id": "b44a87a7-0e55-414f-9a67-7fc3f52fd92b",
   "metadata": {},
   "outputs": [],
   "source": [
    "type(2 * 8)\n",
    "# what type will it be?"
   ]
  },
  {
   "cell_type": "code",
   "execution_count": 10,
   "id": "2f5496ef-84b4-48fd-8aff-0ea8fddd1892",
   "metadata": {},
   "outputs": [
    {
     "data": {
      "text/plain": [
       "complex"
      ]
     },
     "execution_count": 10,
     "metadata": {},
     "output_type": "execute_result"
    }
   ],
   "source": [
    "type(3 + 0j)\n",
    "# what type will it be?"
   ]
  },
  {
   "cell_type": "code",
   "execution_count": null,
   "id": "54e9deca-542e-477b-b0d0-d8b7b2f9944f",
   "metadata": {},
   "outputs": [],
   "source": [
    "type(3 * (4 + 5.0))\n",
    "# what type will it be?"
   ]
  },
  {
   "cell_type": "code",
   "execution_count": null,
   "id": "80ddb580-8740-44cc-ae25-ad205e5bb37a",
   "metadata": {},
   "outputs": [],
   "source": [
    "# Finally, consider this expression where logically\n",
    "# the left hand side of the comparison operator\n",
    "# has the same value as the right hand side.\n",
    "# Explain why then the expression evaluates to False.\n",
    "# \n",
    "(0.1 * 6) / 0.1 == 6\n",
    "\n",
    "# WRITE YOUR EXPLANATION HERE - as a comment\n"
   ]
  },
  {
   "cell_type": "markdown",
   "id": "e86995c7-7943-4ded-a074-16eaacf9a11c",
   "metadata": {},
   "source": [
    "<a name=\"traffic\"></a>\n",
    "# Context: Traffic\n",
    "    "
   ]
  },
  {
   "cell_type": "markdown",
   "id": "540e6ac2-3b60-4cf8-bd2d-39b0e89cc925",
   "metadata": {},
   "source": [
    "Traffic flow (q), speed (v) and density (k) are three fundamental variables used to define the dynamics of the traffic flow on the road. \n",
    "\n",
    "Below is the fundamental relationship between the variables:\n",
    "$$q =k.v$$\n",
    "\n",
    "A simple mathematical model relating two variables, flow (q) and density (k) is:\n",
    "\n",
    "<img src=\"data:image/png;base64,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\">\n",
    "\n",
    "Where:\n",
    "* $q_{max}$ = capacity\n",
    "* $k_c$ = critical density\n",
    "* $k_j$ = jam density"
   ]
  },
  {
   "cell_type": "markdown",
   "id": "44f75549-abad-4798-aacb-dd8dad0e00ad",
   "metadata": {},
   "source": [
    "<a name=\"estimate_of_flow\"></a>\n",
    "<b>Traffic - Q: Estimate Flow</b>"
   ]
  },
  {
   "cell_type": "code",
   "execution_count": null,
   "id": "12723076-d437-4d0e-a007-81e54e6f6873",
   "metadata": {
    "tags": []
   },
   "outputs": [],
   "source": [
    "# Write a function to estimate flow, given the density, critical density, jam density and capacity.\n",
    "\n",
    "def estimate_flow(k, k_c, k_j, q_max):\n",
    "    # add your solution here\n",
    "    \n",
    "# What do you think the flow would be if the density is greater than the jam density? \n",
    "# Make adjustments to your function to account for that."
   ]
  },
  {
   "cell_type": "code",
   "execution_count": null,
   "id": "45c1e1c9-aa35-442d-9a9d-ef59b2a130e8",
   "metadata": {},
   "outputs": [],
   "source": [
    "# Create a test case (by calling your above function)\n",
    "# to estimate the flow on the road where:\n",
    "# density is 100 veh/km/lane\n",
    "# critical density is 80 veh/km/lane and\n",
    "# jam density is 180 veh/km/lane\n",
    "# capacity is 2000 veh/hr/lane\n",
    "\n",
    "# Insert function call here\n",
    "\n",
    "# Result should be 1600.0 veh/hr/lane"
   ]
  },
  {
   "cell_type": "code",
   "execution_count": null,
   "id": "e5083000-65be-47cc-945b-1305dd11f467",
   "metadata": {},
   "outputs": [],
   "source": [
    "# Create a second test case to estimate \n",
    "# the flow on the road in the same conditions except where:\n",
    "# density is 20 veh/km/lane\n",
    "\n",
    "# Insert function call here\n",
    "\n",
    "# Result should be 500.0 veh/hr/lane"
   ]
  },
  {
   "cell_type": "markdown",
   "id": "e0535d1c-4583-4252-80cc-122c9bf8ba88",
   "metadata": {},
   "source": [
    "<a name=\"speed_estimator\"></a>\n",
    "<b>Traffic - Q: Speed Estimator</b>\n",
    "\n",
    "The relationship between flow (q) and speed (v) is expressed as:\n",
    "\n",
    "<img src=\"data:image/png;base64,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\">\n",
    "\n",
    "Where $v_{ff}$ is the free flow speed of the road (speed limit)"
   ]
  },
  {
   "cell_type": "code",
   "execution_count": null,
   "id": "745ec0c7-48ee-4aa9-8384-5ae4c245bbc5",
   "metadata": {},
   "outputs": [],
   "source": [
    "# Define function for speed estimation given flow and free flow speed.\n",
    "# Print a warning if the flow is out of bounds.\n",
    "\n",
    "def speed_estimator(q, v_ff):   \n",
    "    # write your solution here\n",
    "    pass"
   ]
  },
  {
   "cell_type": "code",
   "execution_count": null,
   "id": "f5d0a995-b901-493f-9b30-ccb27f48cc4e",
   "metadata": {},
   "outputs": [],
   "source": [
    "# A test case:\n",
    "# flow = 2000, max speed = 100 km/hr\n",
    "speed_estimator(2000, 100) \n",
    "# should be 95.83214072946132 km/hr"
   ]
  },
  {
   "cell_type": "code",
   "execution_count": null,
   "id": "13e306ff-049b-4b2d-8bf2-50bd96f5c35d",
   "metadata": {},
   "outputs": [],
   "source": [
    "# A test case:\n",
    "# flow = 1600, max speed = 100 km/hr\n",
    "speed_estimator(1600, 100)\n",
    "# should be 100 km/hr"
   ]
  },
  {
   "cell_type": "markdown",
   "id": "b8b85152-efa3-49eb-a6f6-0c32ab0f5775",
   "metadata": {},
   "source": [
    "<a name=\"pac_motorway\"></a>\n",
    "<b>Traffic - Q: Density for Pacific Motorway Scenario</b>"
   ]
  },
  {
   "cell_type": "code",
   "execution_count": null,
   "id": "f5f0091a-93bd-48a0-8c8b-f0e67eb38883",
   "metadata": {
    "tags": []
   },
   "outputs": [],
   "source": [
    "# Use a cals to the speed_estimator function you have written,\n",
    "# to estimate the density on Pacific motorway with v_ff = 100 km/hr and q = 2000 veh/hr/lane\n",
    "# Note q = k.v  \n",
    "\n",
    "\n",
    "# Result should be 20.869824933224596 veh/km/lane"
   ]
  },
  {
   "cell_type": "markdown",
   "id": "783041c7-40f1-42cb-8c1a-1439fd6aa436",
   "metadata": {},
   "source": [
    "--- \n",
    "\n",
    "<a name=\"predicates\"></a>\n",
    "## Predicates\n",
    "\n",
    "**Below you will create some Boolean-valued functions (or *predicates*)**\n",
    "\n",
    "Hint: use the % (modulo) operator\n",
    "\n",
    "https://docs.python.org/3.3/reference/expressions.html#binary-arithmetic-operations"
   ]
  },
  {
   "cell_type": "markdown",
   "id": "53fc10f1-c65f-41c0-acac-73aea046fa85",
   "metadata": {},
   "source": [
    "<a name=\"is_divisible\"></a>\n",
    "<b>Q: Is Divisible</b>"
   ]
  },
  {
   "cell_type": "code",
   "execution_count": null,
   "id": "6ee78640-787e-45b6-9cbc-00108044bce3",
   "metadata": {},
   "outputs": [],
   "source": [
    "# Write a function to determines if one number is divisible by some other number\n",
    "\n",
    "def is_divisible(numerator, denominator):\n",
    "    \n",
    "    # write your solution here\n",
    "    pass\n",
    "    \n",
    "#---------------------------------------------------------\n",
    "# These are the tests your function must pass.\n",
    "\n",
    "\"\"\" \n",
    "\n",
    ">>> is_divisible(4, 4) # Test 1 \n",
    "True\n",
    "\n",
    ">>> is_divisible(12, 4) # Test 2\n",
    "True\n",
    "\n",
    ">>> is_divisible(13, 4) # Test 3\n",
    "False\n",
    "\n",
    ">>> is_divisible(0, 4) # Test 4\n",
    "True\n",
    "\n",
    ">>> is_divisible(13, 1) # Test 5\n",
    "True\n",
    "\n",
    "\"\"\"\n",
    "#---------------------------------------------------------\n",
    "# This main program executes all the tests above when this\n",
    "# code is run.  Comment out the code below if you do not want\n",
    "# to run the tests automatically.\n",
    "\n",
    "from doctest import testmod, REPORT_ONLY_FIRST_FAILURE\n",
    "print(testmod(verbose = False))"
   ]
  },
  {
   "cell_type": "markdown",
   "id": "7e3b15fa",
   "metadata": {
    "tags": []
   },
   "source": [
    "<a name=\"leap_year\"></a>\n",
    "<b>Q: Leap Year</b>"
   ]
  },
  {
   "cell_type": "code",
   "execution_count": null,
   "id": "20f7dd69",
   "metadata": {},
   "outputs": [],
   "source": [
    "# Write a function which returns True if a given year is a leap year and False otherwise.  \n",
    "# Step one: research how leap years are determined!\n",
    "\n",
    "def leap_year(year):\n",
    "    # write your solution here\n",
    "    pass\n",
    "        \n",
    "# Have you violated any Boolean anti-patterns?\n",
    "\n",
    "# Can you write the function without using constants True or False?\n",
    "\n",
    "#---------------------------------------------------------\n",
    "# These are the tests your function must pass.\n",
    "\n",
    "\"\"\" \n",
    "\n",
    ">>> leap_year(2008)  # Test 1 \n",
    "True\n",
    "\n",
    ">>> leap_year(1600) # Test 2\n",
    "True\n",
    "\n",
    ">>> leap_year(2014) # Test 3\n",
    "False\n",
    "\n",
    ">>> leap_year(1900) # Test 4\n",
    "False\n",
    "\n",
    ">>> leap_year(2100) # Test 5\n",
    "False\n",
    "\n",
    "\"\"\"\n",
    "#---------------------------------------------------------\n",
    "# This main program executes all the tests above when this\n",
    "# code is run.  Comment out the code below if you do not want\n",
    "# to run the tests automatically.\n",
    "\n",
    "from doctest import testmod, REPORT_ONLY_FIRST_FAILURE\n",
    "print(testmod(verbose = False))"
   ]
  },
  {
   "cell_type": "markdown",
   "id": "a9fd324e-9776-4012-a0b9-6cd18e2797b4",
   "metadata": {},
   "source": [
    "<a name=\"boolean_algebra\"></a>\n",
    "# Boolean Algebra\n",
    "\n",
    "Consider the Python logical ***and*** operator. There are two boolean literals, each of which can be either <code>True</code> or <code>False</code>. That makes a total of 4 possible combinations:"
   ]
  },
  {
   "cell_type": "code",
   "execution_count": null,
   "id": "c0de38f2-be8d-4789-8c40-4d25058160b6",
   "metadata": {},
   "outputs": [],
   "source": [
    "False and False"
   ]
  },
  {
   "cell_type": "code",
   "execution_count": null,
   "id": "3b35669b-28a3-4522-802a-49905738049e",
   "metadata": {},
   "outputs": [],
   "source": [
    "False and True"
   ]
  },
  {
   "cell_type": "code",
   "execution_count": null,
   "id": "6fa3911f-a506-416d-a63d-4abb125e8e6f",
   "metadata": {},
   "outputs": [],
   "source": [
    "True and False"
   ]
  },
  {
   "cell_type": "code",
   "execution_count": null,
   "id": "0a6e325b-2004-4e72-87f9-359cf2c861f5",
   "metadata": {},
   "outputs": [],
   "source": [
    "True and True"
   ]
  },
  {
   "cell_type": "markdown",
   "id": "c3753aac-acac-4f57-b177-f28ceb11d6ad",
   "metadata": {},
   "source": [
    "These results can be summarised in a ***truth table***:\n",
    "\n",
    "| A | B | A and B |\n",
    "| --- | --- | --- |\n",
    "| False | False | False |\n",
    "| False | True | False |\n",
    "| True | False | False |\n",
    "| True | True | True |"
   ]
  },
  {
   "cell_type": "code",
   "execution_count": null,
   "id": "1be5d619-688f-4a73-b611-ffd2f23abf4e",
   "metadata": {},
   "outputs": [],
   "source": [
    "# Perform the same tests and create similar truth tables for the Python logical \"or\" and \"not\"  operators"
   ]
  },
  {
   "cell_type": "code",
   "execution_count": null,
   "id": "75b8aefe-b7d1-41ce-ab4f-360c0d94057b",
   "metadata": {},
   "outputs": [],
   "source": [
    "False or False"
   ]
  },
  {
   "cell_type": "code",
   "execution_count": null,
   "id": "1cb459f4-89a0-4687-9f89-e74359e0bae4",
   "metadata": {},
   "outputs": [],
   "source": [
    "False or True"
   ]
  },
  {
   "cell_type": "code",
   "execution_count": null,
   "id": "6f1f09c6-bcf1-49fc-b64d-0d6d1a6d36eb",
   "metadata": {},
   "outputs": [],
   "source": [
    "True or False"
   ]
  },
  {
   "cell_type": "code",
   "execution_count": null,
   "id": "2cf0b8d6-a6da-4d61-8c32-41e2cf9dd091",
   "metadata": {},
   "outputs": [],
   "source": [
    "True or True"
   ]
  },
  {
   "cell_type": "code",
   "execution_count": null,
   "id": "ac697a0e-098e-44d5-8849-7f178cb00b5e",
   "metadata": {},
   "outputs": [],
   "source": [
    "not True"
   ]
  },
  {
   "cell_type": "code",
   "execution_count": null,
   "id": "4681dc96-2f76-4f49-94ae-4f8ec6986811",
   "metadata": {},
   "outputs": [],
   "source": [
    "not False"
   ]
  },
  {
   "cell_type": "markdown",
   "id": "b458a019-590f-47df-a44c-5c3a57d0f8f2",
   "metadata": {},
   "source": [
    "| A | B | A or B |\n",
    "| --- | --- | --- |\n",
    "| False | False | ? |\n",
    "| False | True | ? |\n",
    "| True | False | ? |\n",
    "| True | True | ? |\n",
    "\n",
    "| A | not A |\n",
    "| --- | --- |\n",
    "| False | ? |\n",
    "| True | ? |"
   ]
  },
  {
   "cell_type": "markdown",
   "id": "ef0d128e-bdb2-4080-94bf-9e57d392b7fb",
   "metadata": {},
   "source": [
    "<a name=\"xor_function\"></a>\n",
    "<b>Q: XOR function</b>"
   ]
  },
  {
   "cell_type": "code",
   "execution_count": null,
   "id": "8486a1c9",
   "metadata": {},
   "outputs": [],
   "source": [
    "# In Boolean logic, the XOR (Exclusive-OR) expression is True when only one\n",
    "# of its operands is True.  If both operands are True or both operands \n",
    "# are False, then XOR is False.  Write a function to implement the XOR operator.\n",
    "\n",
    "def XOR(first, second):\n",
    "    # write you solution here\n",
    "    pass\n",
    "\n",
    "# Have you violated any Boolean anti-patterns?\n",
    "\n",
    "# Can you write the function without using constants True or False?\n",
    "\n",
    "#---------------------------------------------------------\n",
    "# These are the tests your function must pass.\n",
    "\n",
    "\"\"\" \n",
    "\n",
    ">>> XOR(False, False)  # Test 1 \n",
    "False\n",
    "\n",
    ">>> XOR(False, True) # Test 2\n",
    "True\n",
    "\n",
    ">>> XOR(True, False) # Test 3\n",
    "True\n",
    "\n",
    ">>> XOR(True, True) # Test 4\n",
    "False\n",
    "\n",
    "\"\"\"\n",
    "#---------------------------------------------------------\n",
    "# This main program executes all the tests above when this\n",
    "# code is run.  Comment out the code below if you do not want\n",
    "# to run the tests automatically.\n",
    "\n",
    "from doctest import testmod, REPORT_ONLY_FIRST_FAILURE\n",
    "print(testmod(verbose = False))"
   ]
  },
  {
   "cell_type": "markdown",
   "id": "1fb6ea3a-0c2e-469c-883b-8e809a918bf7",
   "metadata": {},
   "source": [
    "<a name=\"binary_representation\"></a>\n",
    "# Binary Representation\n",
    "\n",
    "We know that numbers are represented internally as a sequence of binary digits.\n",
    "\n",
    "For example, the decimal number 13 is represented as the binary number 1101.\n",
    "Python has a built-in function <code>bin</code> to conver a decimal number to a binary string.  See: https://docs.python.org/3/library/functions.html#bin"
   ]
  },
  {
   "cell_type": "code",
   "execution_count": null,
   "id": "8692d2be-6f33-4ef3-bc47-aa95211f2438",
   "metadata": {},
   "outputs": [],
   "source": [
    "# What is the binary representation of the number 14?\n"
   ]
  },
  {
   "cell_type": "code",
   "execution_count": null,
   "id": "14f1a800-4d6e-4740-a11e-029131fdfcfa",
   "metadata": {},
   "outputs": [],
   "source": [
    "# What is the decimal representation of the binary number 10010?\n"
   ]
  },
  {
   "cell_type": "markdown",
   "id": "9c35a815-4dc6-49a1-b6eb-4654720eb69d",
   "metadata": {},
   "source": [
    "Boolean values in Python are also represented internally in binary, with 0 used for <code>False</code> and 1 used for <code>True</code>.\n",
    "\n",
    "Some programming languages don't even have a Boolean type, they just use integer numbers directly to represent boolean concepts.\n",
    "\n",
    "Python also 'overloads' (uses the same operator/function with different types of operands) the boolean operators *and*, *or* and *not* by allowing them to operate on numbers as well as boolean values. \n",
    "\n",
    "Try evaluating the following expressions:\n",
    "- 0 and 0\n",
    "- 0 and 1\n",
    "- 1 and 0\n",
    "- 1 and 1"
   ]
  },
  {
   "cell_type": "code",
   "execution_count": null,
   "id": "1dd2a75e-3b1e-40fd-97ed-022c216c86d1",
   "metadata": {},
   "outputs": [],
   "source": [
    "0 and 0"
   ]
  },
  {
   "cell_type": "code",
   "execution_count": null,
   "id": "e3d62fcc-d126-4521-b55f-75ee8730694b",
   "metadata": {},
   "outputs": [],
   "source": [
    "0 and 1"
   ]
  },
  {
   "cell_type": "code",
   "execution_count": null,
   "id": "8f95d06c-bb74-49d8-a198-4089c48e0cdc",
   "metadata": {},
   "outputs": [],
   "source": [
    "1 and 0"
   ]
  },
  {
   "cell_type": "code",
   "execution_count": null,
   "id": "ed45caef-3001-4f8b-af45-7777c7d6e502",
   "metadata": {},
   "outputs": [],
   "source": [
    "1 and 1"
   ]
  },
  {
   "cell_type": "code",
   "execution_count": null,
   "id": "97367b62-0528-4f85-8024-6bd85b23a400",
   "metadata": {},
   "outputs": [],
   "source": [
    "# What pattern do you observe? \n",
    "\n",
    "# Answer: "
   ]
  },
  {
   "cell_type": "markdown",
   "id": "54ccc756-13ee-4f4d-bc6f-60efa1b08f5e",
   "metadata": {},
   "source": [
    "Perform the same tests for the *or* and *not* operators."
   ]
  },
  {
   "cell_type": "code",
   "execution_count": null,
   "id": "61d77efa-9728-468d-b59f-dd6892faed61",
   "metadata": {},
   "outputs": [],
   "source": [
    "0 or 0"
   ]
  },
  {
   "cell_type": "code",
   "execution_count": null,
   "id": "2c485643-2254-422f-8be5-e053b0ec3e54",
   "metadata": {},
   "outputs": [],
   "source": [
    "0 or 1"
   ]
  },
  {
   "cell_type": "code",
   "execution_count": null,
   "id": "e8cd1465-a418-4a78-b4b6-5d16285b5420",
   "metadata": {},
   "outputs": [],
   "source": [
    "1 or 0"
   ]
  },
  {
   "cell_type": "code",
   "execution_count": null,
   "id": "7c7bbe9a-39cf-458f-8e57-dbd2eb0f8d73",
   "metadata": {},
   "outputs": [],
   "source": [
    "1 or 1"
   ]
  },
  {
   "cell_type": "code",
   "execution_count": null,
   "id": "675e56df-a976-41b7-92ea-3b522a0942dc",
   "metadata": {},
   "outputs": [],
   "source": [
    "not 0"
   ]
  },
  {
   "cell_type": "code",
   "execution_count": null,
   "id": "3faff022-2ebf-47f2-b3ce-adf0769d2628",
   "metadata": {},
   "outputs": [],
   "source": [
    "not 1"
   ]
  },
  {
   "cell_type": "code",
   "execution_count": null,
   "id": "06e65f93-afe3-4600-b001-d8d2106db758",
   "metadata": {},
   "outputs": [],
   "source": [
    "# What pattern do you observe? \n",
    "# Answer: "
   ]
  },
  {
   "cell_type": "markdown",
   "id": "c6f90540-2d05-4218-ac46-78fded8330e9",
   "metadata": {},
   "source": [
    "What happens if we perform boolean operations on numbers other than 0 and 1?\n",
    "\n",
    "Try evaluating the following expressions:"
   ]
  },
  {
   "cell_type": "code",
   "execution_count": null,
   "id": "e72e97f9-c547-469f-b777-933c8d91c95d",
   "metadata": {},
   "outputs": [],
   "source": [
    "0 and 5"
   ]
  },
  {
   "cell_type": "code",
   "execution_count": null,
   "id": "9a0b228c-fb5b-413f-8a65-6a91cb0a169f",
   "metadata": {},
   "outputs": [],
   "source": [
    "0 and 3"
   ]
  },
  {
   "cell_type": "code",
   "execution_count": null,
   "id": "e57e8d1f-d98f-406d-9ad9-0e7af7431359",
   "metadata": {},
   "outputs": [],
   "source": [
    "1 and 3"
   ]
  },
  {
   "cell_type": "code",
   "execution_count": null,
   "id": "02cdce74-e89d-4a89-8aac-aae6841cfa1f",
   "metadata": {},
   "outputs": [],
   "source": [
    "1 and 5"
   ]
  },
  {
   "cell_type": "code",
   "execution_count": null,
   "id": "27636e4a-59a5-42a5-9f43-589a0e030af9",
   "metadata": {},
   "outputs": [],
   "source": [
    "3 and 1"
   ]
  },
  {
   "cell_type": "code",
   "execution_count": null,
   "id": "b589725e-5cd6-49d9-b239-1b5507af87e4",
   "metadata": {},
   "outputs": [],
   "source": [
    "3 and 5"
   ]
  },
  {
   "cell_type": "code",
   "execution_count": null,
   "id": "8ca2ba7d-5d8c-46c8-b057-bfffac46143b",
   "metadata": {},
   "outputs": [],
   "source": [
    "-1 and 3"
   ]
  },
  {
   "cell_type": "code",
   "execution_count": null,
   "id": "1c7df171-9a08-44c1-b879-c8314c625778",
   "metadata": {},
   "outputs": [],
   "source": [
    "3.4 and 5.6"
   ]
  },
  {
   "cell_type": "code",
   "execution_count": null,
   "id": "61cbf0dd-0696-48f4-8871-75e38586d4c6",
   "metadata": {},
   "outputs": [],
   "source": [
    "False and 4"
   ]
  },
  {
   "cell_type": "code",
   "execution_count": null,
   "id": "b8b9de6f-b96f-489b-b938-918eb303fc2a",
   "metadata": {},
   "outputs": [],
   "source": [
    "3 and True"
   ]
  },
  {
   "cell_type": "code",
   "execution_count": null,
   "id": "fe6e1353-270f-48a9-b68a-72bad63bc7ad",
   "metadata": {},
   "outputs": [],
   "source": [
    "# What pattern do you observe?\n",
    "# Answer: "
   ]
  },
  {
   "cell_type": "markdown",
   "id": "34d6cc2c-eeef-4cbf-9afe-22b93c40cbcb",
   "metadata": {},
   "source": [
    "<a name=\"and_equivalent\"></a>\n",
    "<b>Q: AND equivalent</b>"
   ]
  },
  {
   "cell_type": "code",
   "execution_count": null,
   "id": "37bbada2-67f7-4547-a457-8c04e245287d",
   "metadata": {},
   "outputs": [],
   "source": [
    "# Write a function that takes two numbers first and second as parameters \n",
    "# and returns the equivalent of the Python *and* operator\n",
    "# WITHOUT USING *and*\n",
    "def and_equivalent(first, second):\n",
    "    # write your solution here\n",
    "    pass\n",
    "\n",
    "#---------------------------------------------------------\n",
    "# These are the tests your function must pass.\n",
    "\n",
    "\"\"\" \n",
    "\n",
    ">>> and_equivalent(0, 5) == (0 and 5)  # Test 1 \n",
    "True\n",
    "\n",
    ">>> and_equivalent(0, 3) == (0 and 3) # Test 2\n",
    "True\n",
    "\n",
    ">>> and_equivalent(1, 3) == (1 and 3) # Test 3\n",
    "True\n",
    "\n",
    ">>> and_equivalent(1, 5) == (1 and 5) # Test 4\n",
    "True\n",
    "\n",
    ">>> and_equivalent(3, 1) == (3 and 1) # Test 5\n",
    "True\n",
    "\n",
    ">>> and_equivalent(3, 5) == (3 and 5) # Test 6\n",
    "True\n",
    "\n",
    ">>> and_equivalent(-1, 3) == (-1 and 3) # Test 7\n",
    "True\n",
    "\n",
    ">>> and_equivalent(3.4, 5.6) == (3.4 and 5.6) # Test 8\n",
    "True\n",
    "\n",
    ">>> and_equivalent(False, 4) == (False and 4) # Test 9\n",
    "True\n",
    "\n",
    ">>> and_equivalent(3, True) == (3 and True) # Test 10\n",
    "True\n",
    "\n",
    "\"\"\"\n",
    "#---------------------------------------------------------\n",
    "# This main program executes all the tests above when this\n",
    "# code is run.  Comment out the code below if you do not want\n",
    "# to run the tests automatically.\n",
    "\n",
    "from doctest import testmod, REPORT_ONLY_FIRST_FAILURE\n",
    "print(testmod(verbose = False))"
   ]
  },
  {
   "cell_type": "markdown",
   "id": "aaa7cf12-98c4-4637-8452-604a240e8470",
   "metadata": {},
   "source": [
    "Perform similar tests for Python's logical <code>or</code> and <code>not</code> operators.\n",
    "Try evaluating the following expressions:"
   ]
  },
  {
   "cell_type": "code",
   "execution_count": null,
   "id": "3da69240-8b96-49b9-bed2-2fd1959e6654",
   "metadata": {},
   "outputs": [],
   "source": [
    "0 or 5"
   ]
  },
  {
   "cell_type": "code",
   "execution_count": null,
   "id": "501d828a-a49e-4478-8a79-ab74a3feaa3e",
   "metadata": {},
   "outputs": [],
   "source": [
    "0 or 3"
   ]
  },
  {
   "cell_type": "code",
   "execution_count": null,
   "id": "9706837f-3175-4d46-a615-2a7e85c39398",
   "metadata": {},
   "outputs": [],
   "source": [
    "1 or 3"
   ]
  },
  {
   "cell_type": "code",
   "execution_count": null,
   "id": "3fa726ef-bd55-4482-ab37-3baeb4cc6544",
   "metadata": {},
   "outputs": [],
   "source": [
    "1 or 5"
   ]
  },
  {
   "cell_type": "code",
   "execution_count": null,
   "id": "8c0e4bc0-aa9d-4751-9ace-42e11d2ec08a",
   "metadata": {},
   "outputs": [],
   "source": [
    "3 or 1"
   ]
  },
  {
   "cell_type": "code",
   "execution_count": null,
   "id": "17db18b8-5ba4-4188-bf29-adbd505ac845",
   "metadata": {},
   "outputs": [],
   "source": [
    "3 or 5"
   ]
  },
  {
   "cell_type": "code",
   "execution_count": null,
   "id": "70b6d486-7b11-408b-8092-4f7b816fa36d",
   "metadata": {},
   "outputs": [],
   "source": [
    "-1 or 3"
   ]
  },
  {
   "cell_type": "code",
   "execution_count": null,
   "id": "fa18b210-e208-46c9-80d4-c2f67d1fb411",
   "metadata": {},
   "outputs": [],
   "source": [
    "3.4 or 5.6"
   ]
  },
  {
   "cell_type": "code",
   "execution_count": null,
   "id": "0c315d7d-1d66-4cc9-9417-3a7c795c125c",
   "metadata": {},
   "outputs": [],
   "source": [
    "False or 4"
   ]
  },
  {
   "cell_type": "code",
   "execution_count": null,
   "id": "4b199c2d-20f2-4b2a-8f9e-409982a9c98f",
   "metadata": {},
   "outputs": [],
   "source": [
    "3 or True"
   ]
  },
  {
   "cell_type": "code",
   "execution_count": null,
   "id": "61bd25cb-2027-4899-a9fd-ec35ee019720",
   "metadata": {},
   "outputs": [],
   "source": [
    "not 2"
   ]
  },
  {
   "cell_type": "code",
   "execution_count": null,
   "id": "d1838e47-394e-4f4d-a312-06a5dd9062ce",
   "metadata": {},
   "outputs": [],
   "source": [
    "not -3"
   ]
  },
  {
   "cell_type": "code",
   "execution_count": null,
   "id": "8a6ccdee-8ba7-496e-a2a0-1697af95bc32",
   "metadata": {},
   "outputs": [],
   "source": [
    "# What pattern do you observe?\n",
    "\n",
    "# Answer: "
   ]
  },
  {
   "cell_type": "markdown",
   "id": "b8f1d21e-f4eb-447b-9718-99ec4fab26ee",
   "metadata": {},
   "source": [
    "<a name=\"or_equivalent\"></a>\n",
    "<b>Q: OR equivalent</b>"
   ]
  },
  {
   "cell_type": "code",
   "execution_count": null,
   "id": "58ac9e32-af29-4513-a4e8-738bb06b2e5b",
   "metadata": {},
   "outputs": [],
   "source": [
    "# Write a function that takes two numbers first and second as parameters \n",
    "# and returns the equivalent of the Python *or* operator\n",
    "# WITHOUT USING *or*\n",
    "def or_equivalent(first, second):\n",
    "    # write your solution here\n",
    "    pass\n",
    "\n",
    "    \n",
    "#---------------------------------------------------------\n",
    "# These are the tests your function must pass.\n",
    "\n",
    "\"\"\" \n",
    "\n",
    ">>> or_equivalent(0, 5) == (0 or 5)  # Test 1 \n",
    "True\n",
    "\n",
    ">>> or_equivalent(0, 3) == (0 or 3) # Test 2\n",
    "True\n",
    "\n",
    ">>> or_equivalent(1, 3) == (1 or 3) # Test 3\n",
    "True\n",
    "\n",
    ">>> or_equivalent(1, 5) == (1 or 5) # Test 4\n",
    "True\n",
    "\n",
    ">>> or_equivalent(3, 1) == (3 or 1) # Test 5\n",
    "True\n",
    "\n",
    ">>> or_equivalent(3, 5) == (3 or 5) # Test 6\n",
    "True\n",
    "\n",
    ">>> or_equivalent(-1, 3) == (-1 or 3) # Test 7\n",
    "True\n",
    "\n",
    ">>> or_equivalent(3.4, 5.6) == (3.4 or 5.6) # Test 8\n",
    "True\n",
    "\n",
    ">>> or_equivalent(False, 4) == (False or 4) # Test 9\n",
    "True\n",
    "\n",
    ">>> or_equivalent(3, True) == (3 or True) # Test 10\n",
    "True\n",
    "\n",
    "\"\"\"\n",
    "#---------------------------------------------------------\n",
    "# This main program executes all the tests above when this\n",
    "# code is run.  Comment out the code below if you do not want\n",
    "# to run the tests automatically.\n",
    "\n",
    "from doctest import testmod, REPORT_ONLY_FIRST_FAILURE\n",
    "print(testmod(verbose = False))"
   ]
  },
  {
   "cell_type": "markdown",
   "id": "190eea4f-e24b-4ab7-aa3a-6ac9021dd2c2",
   "metadata": {},
   "source": [
    "<a name=\"not_equivalent\"></a>\n",
    "<b>Q: NOT equivalent</b>"
   ]
  },
  {
   "cell_type": "code",
   "execution_count": null,
   "id": "87f888cd-32eb-4858-a8db-45beeec18afd",
   "metadata": {},
   "outputs": [],
   "source": [
    "# Write a function that takes a number as a parameter \n",
    "# and returns the equivalent of the Python *not* operator\n",
    "# WITHOUT USING *not*\n",
    "\n",
    "def not_equivalent(number):\n",
    "    # write your solution here\n",
    "    pass\n",
    "\n",
    "#---------------------------------------------------------\n",
    "# These are the tests your function must pass.\n",
    "\n",
    "\"\"\" \n",
    "\n",
    ">>> not_equivalent(2) == (not 2)  # Test 1 \n",
    "True\n",
    "\n",
    ">>> not_equivalent(0) == (not 0) # Test 2\n",
    "True\n",
    "\n",
    ">>> not_equivalent(-3) == (not -3) # Test 3\n",
    "True\n",
    "\n",
    "\"\"\"\n",
    "#---------------------------------------------------------\n",
    "# This main program executes all the tests above when this\n",
    "# code is run.  Comment out the code below if you do not want\n",
    "# to run the tests automatically.\n",
    "\n",
    "from doctest import testmod, REPORT_ONLY_FIRST_FAILURE\n",
    "print(testmod(verbose = False))"
   ]
  },
  {
   "cell_type": "markdown",
   "id": "b95f5117-9eaf-4737-9842-248b1bd57c73",
   "metadata": {},
   "source": [
    "<a name=\"electronic_circuits\"></a>\n",
    "    \n",
    "# Electronic circuits\n",
    "\n",
    "Consider the following simple electronic circuit:\n",
    "\n",
    "<img src=\"data:image/jpeg;base64,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\">\n",
    "\n",
    "When the switch is in the *closed* position the light bulb turns on. When the switch is in the *open* position, the light bulb turns off.\n",
    "\n",
    "Image now that we wish to add a second switch to the circuit ..."
   ]
  },
  {
   "cell_type": "code",
   "execution_count": null,
   "id": "2079ffc6-61d2-48cb-b333-736d6bfceb57",
   "metadata": {},
   "outputs": [],
   "source": [
    "# How would we rearrange the wires and the switches such that the light bulb will turn on \n",
    "# only if both switches are in the closed position?\n",
    "\n",
    "# Answer: "
   ]
  },
  {
   "cell_type": "code",
   "execution_count": null,
   "id": "613409b9-ac15-48bc-8ebc-f7c8f019c263",
   "metadata": {},
   "outputs": [],
   "source": [
    "# How would we rearrange the wires and the switches such that the light bulb will turn on \n",
    "# if only one of the switches is in the closed position? \n",
    "\n",
    "# Answer: "
   ]
  },
  {
   "cell_type": "markdown",
   "id": "0225bfba-ba5d-45d7-97e8-144c63efad14",
   "metadata": {},
   "source": [
    "This demonstrates how electronic computers can perform boolean logic.\n",
    "\n",
    "Each switch can be in one of two positions, which we can think of as *on* and *off* or *1* and *0*.\n",
    "\n",
    "The position or state of a physical light switch can be changed by someone physically pressing on the switch. \n",
    "Such a switch has two terminals: an input terminal (where the current flows from) and an output terminal (where the current flows to, if the switch is closed).\n",
    "\n",
    "In a computer, the switches are electronic, i.e. the state of a switch (either open or closed) is controlled not by someone physically pressing on it, but rather by an electronic input. Such switches have three terminals: an input terminal, an output  terminal and a control terminal. \n",
    "\n",
    "<img src=\"data:image/png;base64,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\">\n",
    "\n",
    "If current flows in to the control terminal, then the switch is closed and current is able to flow from the input terminal to the output terminal. If no current flows to the control terminal then the switch remains in the open position and no current flows from the input terminal to the output terminal. Such an electronic switch is called a ***Transistor*** and is the fundamental building block of electronic computers. \n",
    "\n",
    "Note: this is a very simplified explanation of how a transistor works using non-standard terminology.\n",
    "\n",
    "https://en.wikipedia.org/wiki/Transistor"
   ]
  },
  {
   "cell_type": "markdown",
   "id": "aa11c150-5ae3-4171-b0c4-0098b186c98e",
   "metadata": {},
   "source": [
    "<a name=\"digital_arithmetic\"></a>\n",
    "# Digital Arithmetic\n",
    "\n",
    "Boolean operations can be used to implement numeric arithmetic operations such as addition.\n",
    "\n",
    "Consider first how we add together two decimal numbers:\n",
    "\n",
    "<table>\n",
    "    <tr><td style=\"text-align:right\">456</td></tr>\n",
    "    <tr><td style=\"text-align:right\">+729</td></tr>    \n",
    "    <tr><td style=\"text-align:right; border-top:solid\">1185</td></tr>     \n",
    "</table>\n",
    "\n",
    "We work from right to left: \n",
    "- We first calculate 6 + 9 = 15 which gives us 5 and carry the 1.\n",
    "- We then calculate 5 + 2 + 1 (carry) = 8 which gives us 8 with a carry of 0.\n",
    "- We then calculate 4 + 7 + 0 (carry) = 11 which gives us 1 with a carry of 1.\n",
    "\n",
    "So at each stage we are adding 2 digits (between 0 and 9) plus a carry (either 0 or 1) and the result will be a number between 0 and 19 which is then converted into a digit between 0 and 9 plus a carry of either 0 or 1.\n",
    "\n",
    "Now let's do the same thing, but using binary numbers rather than decimal numbers.\n",
    "\n",
    "<table>\n",
    "    <tr><td style=\"text-align:right\">101</td></tr>\n",
    "    <tr><td style=\"text-align:right\">+001</td></tr>    \n",
    "    <tr><td style=\"text-align:right; border-top:solid\">110</td></tr>     \n",
    "</table>\n",
    "\n",
    "We work from right to left: \n",
    "- We first calculate 1 + 1 = 10 which give us 0 and carry the 1.\n",
    "- We then calculate 0 + 0 + 1 (carry) = 1 which gives us 1 with a carry of 0.\n",
    "- We then calculate 1 + 0 + 0 (carry) = 1 which gives us 1 with a carry of 0.\n",
    "\n",
    "So at each stage we are adding 2 binary digits or bits (either 0 or 1) plus a carry bit (either 0 or 1) and the result will be a number between 0 and 3 which is then converted into a bit (either 0 or 1) plus a carry of either 0 or 1."
   ]
  },
  {
   "cell_type": "code",
   "execution_count": null,
   "id": "75df0e21-5960-4318-86d6-193bd7cfaaa0",
   "metadata": {},
   "outputs": [],
   "source": [
    "# Use pencil and paper to add the following binary numbers using the process described above:\n",
    "\n",
    "1011 + 1101\n",
    "\n",
    "# By the way, in Python we can express a number in binary form by adding the prefix 0b or 0B.\n",
    "# We can also output the binary representation of a number by using the bin function:\n",
    "bin(0b1011 + 0b1101)"
   ]
  },
  {
   "cell_type": "markdown",
   "id": "a657f273-866e-4071-b2d2-ea3974c66437",
   "metadata": {},
   "source": [
    "We can create a circuit to implement such a 1-bit adder. \n",
    "\n",
    "We can then chain together a number of such 1-bit adders to create an 32-bit adder or a 64bit adder."
   ]
  },
  {
   "cell_type": "markdown",
   "id": "629640b0-2144-4b6f-b08e-233b2b29f653",
   "metadata": {},
   "source": [
    "In embedded electronics, logic circuits are built using a series of logic gates.\n",
    "\n",
    "Below we see 5 different logic gates. \n",
    "\n",
    "<img src=\"LogicGates.png\">"
   ]
  },
  {
   "cell_type": "code",
   "execution_count": null,
   "id": "deb47eb2-39d7-4705-9943-df99cd3654ab",
   "metadata": {},
   "outputs": [],
   "source": [
    "# Create functions to represent each of the logic gates above\n",
    "# The input to all functions will be integer values of either 0 or 1 and the output will be a integer value of 0 or 1.\n",
    "# Your functions do not need deal with cases where a value other than 0 or 1 is passed in as a parameter."
   ]
  },
  {
   "cell_type": "markdown",
   "id": "d58c90be-76ea-4ff1-abef-24e05ae9af86",
   "metadata": {},
   "source": [
    "<a name=\"and_gate\"></a>\n",
    "<b>Q: AND Gate</b>"
   ]
  },
  {
   "cell_type": "code",
   "execution_count": null,
   "id": "35142226-dcdc-4cbe-b634-653bfa9817c5",
   "metadata": {},
   "outputs": [],
   "source": [
    "def AND_gate(first, second):\n",
    "    # write your solution here\n",
    "    pass\n",
    "    \n",
    "#---------------------------------------------------------\n",
    "# These are the tests your function must pass.\n",
    "\n",
    "\"\"\" \n",
    "\n",
    ">>> AND_gate(0, 0) == 0 # Test 1 \n",
    "True\n",
    "\n",
    ">>> AND_gate(0, 1) == 0 # Test 2\n",
    "True\n",
    "\n",
    ">>> AND_gate(1, 0) == 0 # Test 3\n",
    "True\n",
    "\n",
    ">>> AND_gate(1, 1) == 1 # Test 4\n",
    "True\n",
    "\n",
    "\"\"\"\n",
    "#---------------------------------------------------------\n",
    "# This main program executes all the tests above when this\n",
    "# code is run.  Comment out the code below if you do not want\n",
    "# to run the tests automatically.\n",
    "\n",
    "from doctest import testmod, REPORT_ONLY_FIRST_FAILURE\n",
    "print(testmod(verbose = False))"
   ]
  },
  {
   "cell_type": "markdown",
   "id": "1e1cb240-48c3-412c-8c61-3d6f608e925a",
   "metadata": {},
   "source": [
    "<a name=\"or_gate\"></a>\n",
    "<b>Q: OR Gate</b>"
   ]
  },
  {
   "cell_type": "code",
   "execution_count": null,
   "id": "1b5dadff-db98-4a0f-a842-4dff773144b8",
   "metadata": {},
   "outputs": [],
   "source": [
    "def OR_gate(first, second):\n",
    "    # write your solution here\n",
    "    pass\n",
    "\n",
    "#---------------------------------------------------------\n",
    "# These are the tests your function must pass.\n",
    "\n",
    "\"\"\" \n",
    "\n",
    ">>> OR_gate(0, 0) == 0 # Test 1 \n",
    "True\n",
    "\n",
    ">>> OR_gate(0, 1) == 1 # Test 2\n",
    "True\n",
    "\n",
    ">>> OR_gate(1, 0) == 1 # Test 3\n",
    "True\n",
    "\n",
    ">>> OR_gate(1, 1) == 1 # Test 4\n",
    "True\n",
    "\n",
    "\"\"\"\n",
    "#---------------------------------------------------------\n",
    "# This main program executes all the tests above when this\n",
    "# code is run.  Comment out the code below if you do not want\n",
    "# to run the tests automatically.\n",
    "\n",
    "from doctest import testmod, REPORT_ONLY_FIRST_FAILURE\n",
    "print(testmod(verbose = False))"
   ]
  },
  {
   "cell_type": "markdown",
   "id": "174c1ef8-8884-4157-b052-3c8ce8c7f5f6",
   "metadata": {},
   "source": [
    "<a name=\"not_gate\"></a>\n",
    "<b>Q: NOT Gate</b>"
   ]
  },
  {
   "cell_type": "code",
   "execution_count": null,
   "id": "1aa552d4-451f-4842-b9ad-741d663dbdce",
   "metadata": {},
   "outputs": [],
   "source": [
    "def NOT_gate(value):\n",
    "    # write your solution here\n",
    "    pass\n",
    "\n",
    "#---------------------------------------------------------\n",
    "# These are the tests your function must pass.\n",
    "\n",
    "\"\"\" \n",
    "\n",
    ">>> NOT_gate(0) == 1 # Test 1 \n",
    "True\n",
    "\n",
    ">>> NOT_gate(1) == 0 # Test 2\n",
    "True\n",
    "\n",
    "\n",
    "\"\"\"\n",
    "#---------------------------------------------------------\n",
    "# This main program executes all the tests above when this\n",
    "# code is run.  Comment out the code below if you do not want\n",
    "# to run the tests automatically.\n",
    "\n",
    "from doctest import testmod, REPORT_ONLY_FIRST_FAILURE\n",
    "print(testmod(verbose = False))"
   ]
  },
  {
   "cell_type": "markdown",
   "id": "b109e63c-7347-4974-8ee9-27351dd55acf",
   "metadata": {},
   "source": [
    "<a name=\"nand_gate\"></a>\n",
    "<b>Q: NAND Gate</b>"
   ]
  },
  {
   "cell_type": "code",
   "execution_count": null,
   "id": "1895677c-7602-4f6f-8b40-cd7d1b501ced",
   "metadata": {},
   "outputs": [],
   "source": [
    "# NAND is short for Not And\n",
    "def NAND_gate(first, second):\n",
    "    # write your solution here\n",
    "    pass\n",
    "\n",
    "#---------------------------------------------------------\n",
    "# These are the tests your function must pass.\n",
    "\n",
    "\"\"\" \n",
    "\n",
    ">>> NAND_gate(0, 0) == 1 # Test 1 \n",
    "True\n",
    "\n",
    ">>> NAND_gate(0, 1) == 1 # Test 2\n",
    "True\n",
    "\n",
    ">>> NAND_gate(1, 0) == 1 # Test 3\n",
    "True\n",
    "\n",
    ">>> NAND_gate(1, 1) == 0 # Test 4\n",
    "True\n",
    "\n",
    "\"\"\"\n",
    "#---------------------------------------------------------\n",
    "# This main program executes all the tests above when this\n",
    "# code is run.  Comment out the code below if you do not want\n",
    "# to run the tests automatically.\n",
    "\n",
    "from doctest import testmod, REPORT_ONLY_FIRST_FAILURE\n",
    "print(testmod(verbose = False))"
   ]
  },
  {
   "cell_type": "markdown",
   "id": "c478d26d-8b0e-4b93-aa38-b5ff5714c59e",
   "metadata": {},
   "source": [
    "<a name=\"nor_gate\"></a>\n",
    "<b>Q: NOR Gate</b>"
   ]
  },
  {
   "cell_type": "code",
   "execution_count": null,
   "id": "0e7a7443-da16-4601-9fd4-89c9ac4ad6bb",
   "metadata": {},
   "outputs": [],
   "source": [
    "# NOR is short for Not Or\n",
    "def NOR_gate(first, second):\n",
    "    # write your solution here\n",
    "    pass\n",
    "\n",
    "#---------------------------------------------------------\n",
    "# These are the tests your function must pass.\n",
    "\n",
    "\"\"\" \n",
    "\n",
    ">>> NOR_gate(0, 0) == 1 # Test 1 \n",
    "True\n",
    "\n",
    ">>> NOR_gate(0, 1) == 0 # Test 2\n",
    "True\n",
    "\n",
    ">>> NOR_gate(1, 0) == 0 # Test 3\n",
    "True\n",
    "\n",
    ">>> NOR_gate(1, 1) == 0 # Test 4\n",
    "True\n",
    "\n",
    "\"\"\"\n",
    "#---------------------------------------------------------\n",
    "# This main program executes all the tests above when this\n",
    "# code is run.  Comment out the code below if you do not want\n",
    "# to run the tests automatically.\n",
    "\n",
    "from doctest import testmod, REPORT_ONLY_FIRST_FAILURE\n",
    "print(testmod(verbose = False))"
   ]
  },
  {
   "cell_type": "markdown",
   "id": "19c80624-19ae-4ffe-85e0-4dffb55acf73",
   "metadata": {},
   "source": [
    "<a name=\"universality\"></a>\n",
    "## Universality of NAND and NOR gates\n",
    "\n",
    "One of the nice properties of NAND and NOR gates is that we can build all other gates (AND, OR, NOT) by using a combination of just NOR gates or just NAND gates (none of the other logic gates possess this property).\n",
    "\n",
    "For example, an AND gate can be implemented using 2 NAND_gates as follows:"
   ]
  },
  {
   "cell_type": "markdown",
   "id": "4a1de1ae-2989-427a-927a-84b49e9b639e",
   "metadata": {},
   "source": [
    "<a name=\"alternative_and_gate\"></a>\n",
    "<b>Q: Alternative AND Gate</b>"
   ]
  },
  {
   "cell_type": "code",
   "execution_count": null,
   "id": "4a2762e8-1081-442b-ba9f-a8fa72d15380",
   "metadata": {},
   "outputs": [],
   "source": [
    "def alternative_AND_gate(first, second):\n",
    "    return NAND_gate(NAND_gate(first, second), 1) \n",
    "\n",
    "\n",
    "#---------------------------------------------------------\n",
    "# test this implementation still produces the correct results for an AND gate.\n",
    "\n",
    "\"\"\" \n",
    "\n",
    ">>> alternative_AND_gate(0, 0) == AND_gate(0, 0) # Test 1 \n",
    "True\n",
    "\n",
    ">>> alternative_AND_gate(0, 1) == AND_gate(0, 1) # Test 2\n",
    "True\n",
    "\n",
    ">>> alternative_AND_gate(1, 0) == AND_gate(1, 0) # Test 3\n",
    "True\n",
    "\n",
    ">>> alternative_AND_gate(1, 1) == AND_gate(1, 1) # Test 4\n",
    "True\n",
    "\n",
    "\"\"\"\n",
    "#---------------------------------------------------------\n",
    "# This main program executes all the tests above when this\n",
    "# code is run.  Comment out the code below if you do not want\n",
    "# to run the tests automatically.\n",
    "\n",
    "from doctest import testmod, REPORT_ONLY_FIRST_FAILURE\n",
    "print(testmod(verbose = False))"
   ]
  },
  {
   "cell_type": "markdown",
   "id": "729f5973-53eb-4bd4-be1e-b13fa4625b1a",
   "metadata": {},
   "source": [
    "<a name=\"alternative_or_gate\"></a>\n",
    "<b>Q: Alternative OR Gate</b>"
   ]
  },
  {
   "cell_type": "markdown",
   "id": "17b911fd-a273-49b9-b144-291194ef8b23",
   "metadata": {},
   "source": [
    "Perform a Google search  for \"Universality of NAND and NOR gates\" to learn how OR_gate can be implemented using NAND_gates."
   ]
  },
  {
   "cell_type": "code",
   "execution_count": null,
   "id": "38e5e6c6-dc05-4fa9-96b6-f0dc954481b0",
   "metadata": {},
   "outputs": [],
   "source": [
    "def alternative_OR_gate(first, second):\n",
    "    # write your solution here\n",
    "    pass\n",
    "    \n",
    "#---------------------------------------------------------\n",
    "# test this implementation still produces the correct results for an OR gate.\n",
    "\n",
    "\"\"\" \n",
    "\n",
    ">>> alternative_OR_gate(0, 1) == OR_gate(0, 1) # Test 1 \n",
    "True\n",
    "\n",
    ">>> alternative_OR_gate(0, 1) == OR_gate(0, 1) # Test 2\n",
    "True\n",
    "\n",
    ">>> alternative_OR_gate(1, 0) == OR_gate(1, 0) # Test 3\n",
    "True\n",
    "\n",
    ">>> alternative_OR_gate(1, 1) == OR_gate(1, 1) # Test 4\n",
    "True\n",
    "\n",
    "\"\"\"\n",
    "#---------------------------------------------------------\n",
    "# This main program executes all the tests above when this\n",
    "# code is run.  Comment out the code below if you do not want\n",
    "# to run the tests automatically.\n",
    "\n",
    "from doctest import testmod, REPORT_ONLY_FIRST_FAILURE\n",
    "print(testmod(verbose = False))"
   ]
  },
  {
   "cell_type": "markdown",
   "id": "cbb283d2-5d29-48c5-bf95-b5cefea6eda2",
   "metadata": {},
   "source": [
    "<a name=\"alternative_not_gate\"></a>\n",
    "<b>Q: Alternative NOT Gate</b>"
   ]
  },
  {
   "cell_type": "markdown",
   "id": "3c9b44d9-beb8-44dc-b5a6-b32aad2669db",
   "metadata": {},
   "source": [
    "Perform a Google search  for \"Universality of NAND and NOR gates\" to learn how NOT_gate can be implemented using NAND_gates."
   ]
  },
  {
   "cell_type": "code",
   "execution_count": null,
   "id": "1b54e805-d240-4dd3-8b43-5464306b4a63",
   "metadata": {},
   "outputs": [],
   "source": [
    "def alternative_NOT_gate(value):\n",
    "    # write your solution here\n",
    "    pass\n",
    "    \n",
    "#---------------------------------------------------------\n",
    "# test this implementation still produces the correct results for an NOT gate.\n",
    "\n",
    "\"\"\" \n",
    "\n",
    ">>> alternative_NOT_gate(0) == NOT_gate(0) # Test 1 \n",
    "True\n",
    "\n",
    ">>> alternative_NOT_gate(1) == NOT_gate(1) # Test 2\n",
    "True\n",
    "\n",
    "\n",
    "\"\"\"\n",
    "#---------------------------------------------------------\n",
    "# This main program executes all the tests above when this\n",
    "# code is run.  Comment out the code below if you do not want\n",
    "# to run the tests automatically.\n",
    "\n",
    "from doctest import testmod, REPORT_ONLY_FIRST_FAILURE\n",
    "print(testmod(verbose = False))"
   ]
  },
  {
   "cell_type": "markdown",
   "id": "5359717e-189f-487e-b7a4-824295ffc3ee",
   "metadata": {},
   "source": [
    "# 1-bit numeric addition\n",
    "\n",
    "We can now use the above logic gates to illustrate how a 1-bit adder can be constructed.\n",
    "\n",
    "There are many different ways of doing so using different combinations of logic gates.\n",
    "\n",
    "Start by doing a Google image search for \"full adder using logic gates\".\n",
    "\n",
    "You will come across many equivalent logic gate networks.\n",
    "\n",
    "Choose one of those diagrams and convert it into Python code for a full 1-bit adder\n",
    "(you might also need to add an XOR_gate if your diagram includes that kind of logic gate)."
   ]
  },
  {
   "cell_type": "markdown",
   "id": "88673df3-2e38-49bd-8933-ad0eacf2d369",
   "metadata": {},
   "source": [
    "<a name=\"full_adder\"></a>\n",
    "<b>Q: Full Adder</b>"
   ]
  },
  {
   "cell_type": "code",
   "execution_count": null,
   "id": "0bebfd42-d80b-4577-8ef9-ec6a36882233",
   "metadata": {},
   "outputs": [],
   "source": [
    "def full_adder(first, second, third):\n",
    "    # the inputs first, second, third will each be 0 or 1\n",
    "    # add code here to compute total (sum) and carry bits \n",
    "    \n",
    "    # returning two values as a sequence (more later)\n",
    "    return(carry, total)\n",
    "    \n",
    "#---------------------------------------------------------\n",
    "# These are the tests your function must pass.\n",
    "\n",
    "\"\"\" \n",
    "\n",
    ">>> full_adder(0, 0, 0) # Test 1 - 0 + 0 + 0 = decimal 0 (binary 00) \n",
    "(0, 0)\n",
    "\n",
    ">>> full_adder(0, 0, 1) # Test 2 - 0 + 0 + 1 = decimal 1 (binary 01)\n",
    "(0, 1)\n",
    "\n",
    ">>> full_adder(0, 1, 0) # Test 3 - 0 + 1 + 0 = decimal 1 (binary 01) \n",
    "(0, 1)\n",
    "\n",
    ">>> full_adder(0, 1, 1) # Test 4 - 0 + 1 + 1 = decimal 2 (binary 10) \n",
    "(1, 0)\n",
    "\n",
    ">>> full_adder(1, 0, 0) # Test 5 - 1 + 0 + 0 = decimal 1 (binary 01)\n",
    "(0, 1)\n",
    "\n",
    ">>> full_adder(1, 0, 1) # Test 6 - 1 + 0 + 1 = decimal 2 (binary 10)\n",
    "(1, 0)\n",
    "\n",
    ">>> full_adder(1, 1, 0) # Test 7 - 1 + 1 + 0 = decimal 2 (binary 10) \n",
    "(1, 0)\n",
    "\n",
    ">>> full_adder(1, 1, 1) # Test 8 - 1 + 1 + 1 = decimal 3 (binary 11) # Test 8\n",
    "(1, 1)\n",
    "\n",
    "\n",
    "\"\"\"\n",
    "#---------------------------------------------------------\n",
    "# This main program executes all the tests above when this\n",
    "# code is run.  Comment out the code below if you do not want\n",
    "# to run the tests automatically.\n",
    "\n",
    "from doctest import testmod, REPORT_ONLY_FIRST_FAILURE\n",
    "print(testmod(verbose = False))"
   ]
  }
 ],
 "metadata": {
  "kernelspec": {
   "display_name": "Python 3 (ipykernel)",
   "language": "python",
   "name": "python3"
  },
  "language_info": {
   "codemirror_mode": {
    "name": "ipython",
    "version": 3
   },
   "file_extension": ".py",
   "mimetype": "text/x-python",
   "name": "python",
   "nbconvert_exporter": "python",
   "pygments_lexer": "ipython3",
   "version": "3.9.13"
  }
 },
 "nbformat": 4,
 "nbformat_minor": 5
}
