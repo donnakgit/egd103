{
 "cells": [
  {
   "cell_type": "markdown",
   "id": "79ca7265-c512-4275-89fc-5b7490d0a2d8",
   "metadata": {},
   "source": [
    "# Topic: Ranges and More Loops\n",
    "\n",
    "## Python Concepts: \n",
    "* Nested <code>for</code> loops\n",
    "* Nested <code>list</code>s\n",
    "* <code>while</code> loops\n",
    "* Iterating over index values\n",
    "\n",
    "### Keywords\n",
    "* <code>in</code>\n",
    "* <code>while</code>\n",
    "\n",
    "### Data Types\n",
    "* <code>list</code>\n",
    "* <code>range</code>\n",
    "\n",
    "### Built-In functions:\n",
    "* <code>range</code>\n",
    "* <code>len</code>\n",
    "* <code>hex</code>\n",
    "* <code>type</code>\n",
    "* <code>str</code>\n",
    "* <code>int</code>\n",
    "* <code>sum</code>\n",
    "\n",
    "### Methods:\n",
    "* <code><i>list</i>.append</code>\n",
    "* <code><i>str</i>.rjust</code>\n",
    "\n",
    "### Modules:\n",
    "* <code>random</code> [<code>randint</code>]\n",
    "\n",
    "<hr>"
   ]
  },
  {
   "cell_type": "markdown",
   "id": "21670ba6-1a43-438c-aedb-fe723e2f87ed",
   "metadata": {},
   "source": [
    "<u><b>EXERCISES:</b></u>\n",
    "      <br>\n",
    "\n",
    "[ASCII Art](#ascii_art)\n",
    "\n",
    "[Multiplication Matrix](#multiplication_matrix)\n",
    "\n",
    ">[Print_Multiplication Table](#print_multiplication_table)\n",
    "        <br>\n",
    "    [Store Multiplication Table](#store_multiplication_table)\n",
    "        <br>\n",
    "    [Lookup Multiplication Table](#lookup_multiplication_table)\n",
    "        <br>\n",
    "    [Multiplication Matrix Function](#Multiplication_Matrix_Function)\n",
    "    <br>\n",
    "\n",
    "[Generate Hex](#Generate_Hex_a)\n",
    "        <br>\n",
    "    [Generate Hex - Condensed](#Generate_Hex_b)\n",
    "        <br>\n",
    "  [Count Over Threshold](#count_over_threshold)\n",
    "    <br>\n",
    "    [Is List Sorted](#is_list_sorted)\n",
    "        <br>\n",
    "    [Reverse Slice](#reverse_slice)\n",
    "    <br>\n",
    "    \n",
    "[List Manipulation](#list_manipulation)\n",
    "  >[Shift_Left](#shift_left)\n",
    "    <br>\n",
    "    [Shift Left By N](#shift_left_by_N)\n",
    "    <br>\n",
    "\n",
    "[Count Digits](#count_digits)\n",
    "<br>\n",
    "[Print Binary](#print_binary)\n",
    "<br>\n",
    "[Print Decimal](#print_decimal)\n",
    "<br>\n",
    "[Golf](#golf)\n",
    "<br>\n",
    "\n",
    "\n",
    "[Structures - Concrete Cylinder Test Data Analysis](#concrete_cylinder_test_data_analysis)\n",
    " > [Cross Area](#cross_area)<br>\n",
    "    [Compressive Stress](#compressive_stress)<br>\n",
    "    \n",
    "[Structures - Stress-Strain Model for Concrete](#stress-strain)<br>\n",
    "   > [Stress](#stress)\n",
    "   <br>\n",
    "\n",
    "\n",
    "<hr>"
   ]
  },
  {
   "cell_type": "markdown",
   "id": "ce4557c3-a4a2-4666-89ea-3181c479fa7e",
   "metadata": {},
   "source": [
    "<a name=\"ascii_art\"></a>\n",
    "# ASCII Art"
   ]
  },
  {
   "cell_type": "code",
   "execution_count": 2,
   "id": "1e0ccb7c-98b7-4b07-946b-a6f7ac4a9a4c",
   "metadata": {},
   "outputs": [
    {
     "name": "stdout",
     "output_type": "stream",
     "text": [
      "*\n",
      "*\n",
      "*\n",
      "*\n",
      "*\n",
      "*\n",
      "*\n",
      "*\n",
      "*\n",
      "*\n"
     ]
    }
   ],
   "source": [
    "# Observe the difference between the following examples:\n",
    "for step in range(10) :\n",
    "    print('*')"
   ]
  },
  {
   "cell_type": "code",
   "execution_count": 3,
   "id": "c55b50e9-b92e-47dd-bd76-e8b487b3eb0c",
   "metadata": {},
   "outputs": [
    {
     "name": "stdout",
     "output_type": "stream",
     "text": [
      "*, *, *, *, *, *, *, *, *, *, "
     ]
    }
   ],
   "source": [
    "for step in range(10) :\n",
    "    print('*', end = ', ')"
   ]
  },
  {
   "cell_type": "code",
   "execution_count": 4,
   "id": "0dcd14b5-77da-4c15-9163-08812db4e89e",
   "metadata": {},
   "outputs": [
    {
     "name": "stdout",
     "output_type": "stream",
     "text": [
      "**********"
     ]
    }
   ],
   "source": [
    "for step in range(10) :\n",
    "    print('*', end = '')"
   ]
  },
  {
   "cell_type": "code",
   "execution_count": 4,
   "id": "a9d5c324-2238-4171-9cd7-48fc807357e6",
   "metadata": {},
   "outputs": [],
   "source": [
    "# What does the end parameter do?\n",
    "# WRITE YOUR ANSWER HERE\n",
    "\n"
   ]
  },
  {
   "cell_type": "markdown",
   "id": "81e61b93-2932-47d3-83b0-a5b53dec21fd",
   "metadata": {},
   "source": [
    "Use nested <code>for</code> loops and <code>print</code> to generate the following ASCII art drawings:"
   ]
  },
  {
   "cell_type": "markdown",
   "id": "73875a8b-447b-4eb9-ad37-927c1dbb39ae",
   "metadata": {},
   "source": [
    "* a 9 x 9 right angle triangle\n",
    "\n",
    "<pre>\n",
    "*\n",
    "**\n",
    "***\n",
    "****\n",
    "*****\n",
    "******\n",
    "*******\n",
    "********\n",
    "*********\n",
    "</pre>"
   ]
  },
  {
   "cell_type": "code",
   "execution_count": 85,
   "id": "0559354d-081e-473d-bd59-d647cf090ebb",
   "metadata": {},
   "outputs": [],
   "source": [
    "# Draw a 9 x 9 right angle triangle\n",
    "\n"
   ]
  },
  {
   "cell_type": "markdown",
   "id": "9736b653-c2e3-4851-9873-526ff11e9e9b",
   "metadata": {},
   "source": [
    "* a 5 x 5 upside down triangle\n",
    "\n",
    "<pre>\n",
    "*****\n",
    "****\n",
    "***\n",
    "**\n",
    "*\n",
    "</pre>"
   ]
  },
  {
   "cell_type": "code",
   "execution_count": 86,
   "id": "8e4c6c7f-e93c-4329-a8b5-6f71977f22d3",
   "metadata": {},
   "outputs": [],
   "source": [
    "# Draw a 5 x 5 upside\n",
    "\n",
    "# WRITE YOUR ANSWER HERE\n",
    "\n"
   ]
  },
  {
   "cell_type": "markdown",
   "id": "cca57feb-ee6c-49eb-84ff-c7783261905d",
   "metadata": {},
   "source": [
    "* a 4 x 11 rectangle\n",
    "\n",
    "<pre>\n",
    "***********\n",
    "***********\n",
    "***********\n",
    "***********\n",
    "</pre>"
   ]
  },
  {
   "cell_type": "code",
   "execution_count": 87,
   "id": "7095e5a1-8876-4215-8dac-f038cc37bc0e",
   "metadata": {},
   "outputs": [],
   "source": [
    "# Draw a 4 x 11 rectangle\n",
    "\n",
    "# WRITE YOUR ANSWER HERE\n"
   ]
  },
  {
   "cell_type": "markdown",
   "id": "ebc6fba4-276f-45d5-904f-d4b2ccf7571d",
   "metadata": {},
   "source": [
    "* a star representation of square numbers\n",
    "\n",
    "<pre>\n",
    "0\n",
    "*1\n",
    "****4\n",
    "*********9\n",
    "****************16\n",
    "*************************25\n",
    "************************************36\n",
    "*************************************************49\n",
    "****************************************************************64\n",
    "*********************************************************************************81\n",
    "</pre>"
   ]
  },
  {
   "cell_type": "code",
   "execution_count": 88,
   "id": "f67298a3-e60a-4f24-a143-27b72f659eda",
   "metadata": {},
   "outputs": [],
   "source": [
    "# Draw a star representation of square numbers\n",
    "\n",
    "# WRITE YOUR ANSWER HERE\n",
    "\n"
   ]
  },
  {
   "cell_type": "markdown",
   "id": "1fe00723-d48e-4873-94a2-37d4663450ee",
   "metadata": {
    "tags": []
   },
   "source": [
    "<a name=\"multiplication_matrix\"><a>\n",
    "# Multiplication Matrix\n",
    "<hr>"
   ]
  },
  {
   "cell_type": "code",
   "execution_count": 90,
   "id": "59340a2e-6c1c-4b7d-a57d-4de8eefab945",
   "metadata": {},
   "outputs": [
    {
     "data": {
      "text/plain": [
       "'36'"
      ]
     },
     "execution_count": 90,
     "metadata": {},
     "output_type": "execute_result"
    }
   ],
   "source": [
    "# what does the str function do?\n",
    "str(36)\n",
    "\n",
    "# WRITE YOUR ANSWER HERE\n"
   ]
  },
  {
   "cell_type": "code",
   "execution_count": 89,
   "id": "8435357b-6cf5-4e1f-b4f6-340b40df60df",
   "metadata": {},
   "outputs": [
    {
     "data": {
      "text/plain": [
       "'     36'"
      ]
     },
     "execution_count": 89,
     "metadata": {},
     "output_type": "execute_result"
    }
   ],
   "source": [
    "# what does the rjust string method do?\n",
    "str(36).rjust(7)\n",
    "\n",
    "# WRITE YOUR ANSWER HERE\n"
   ]
  },
  {
   "cell_type": "markdown",
   "id": "518a02f5-d331-43d0-b3fe-e266ef5e3a52",
   "metadata": {
    "tags": []
   },
   "source": [
    "<a name=\"print_multiplication_table\"></a>\n",
    "<b>Q: Print Multiplication Table</b>\n",
    "\n",
    " <img src=\"Images/Multiplication Matrix.png\">\n"
   ]
  },
  {
   "cell_type": "code",
   "execution_count": 12,
   "id": "72bbb675-8acd-48d5-949e-e6bfc2a6e3b9",
   "metadata": {
    "tags": []
   },
   "outputs": [],
   "source": [
    "# Imagine you are charged with tutoring a primary school child in arithmetic.\n",
    "# You want to produce a multiplication table for numbers from 1 to 12 to help the child memorise the 'times table'.\n",
    "# Using nested FOR loops, output (print) such a table that looks like the image above.\n",
    "# HINTs: \n",
    "# * The string method: \n",
    "#       rjust\n",
    "#   will be useful for outputting each number to a set number of spaces, right justified.\n",
    "# * Supplying an empty string as the argument for the default parameter (end)\n",
    "#   will ensure that a call to print does NOT output a newline character as well."
   ]
  },
  {
   "cell_type": "code",
   "execution_count": 91,
   "id": "9756e76d-c222-43be-94cf-0651f8241a9a",
   "metadata": {},
   "outputs": [],
   "source": [
    "# WRITE YOUR ANSWER HERE\n",
    "\n"
   ]
  },
  {
   "cell_type": "markdown",
   "id": "97d4f18b-9c58-4680-8728-7ca8023bf426",
   "metadata": {},
   "source": [
    "<a name=\"store_multiplication_table\"></a>\n",
    "<b>Q: Store Multiplication Table</b>"
   ]
  },
  {
   "cell_type": "code",
   "execution_count": 92,
   "id": "81fdfc53-cef8-464f-a74a-804498e4f903",
   "metadata": {},
   "outputs": [],
   "source": [
    "# After using a printout of the multiplication matrix from the\n",
    "# previous exercise for your student to memorise, you decide to further\n",
    "# automate your teaching resources by firstly storing\n",
    "# each of the values in a Python list.\n",
    "#\n",
    "# Using nested FOR loops, construct a list of lists\n",
    "# to store the 1 to 12 times table\n",
    "#\n",
    "# Check your answer against the one you printed above.\n",
    "# HINTs: \n",
    "# * Create an empty list for the times table, and append a new list \n",
    "# for each row in the table\n",
    "# * The list method: \n",
    "#        append\n",
    "# will be useful for adding a value to the sublist, and adding a list\n",
    "# to the table\n",
    "\n",
    "# WRITE YOUR ANSWER HERE\n",
    "\n"
   ]
  },
  {
   "cell_type": "markdown",
   "id": "b6166cc6-39b1-44bf-b458-e71d6e0ba95b",
   "metadata": {},
   "source": [
    "<a name=\"lookup_multiplication_table\"></a>\n",
    "<b>Q: Lookup Multiplication Table</b>"
   ]
  },
  {
   "cell_type": "code",
   "execution_count": 17,
   "id": "c953fa61-680a-4103-aba1-5c6039465fef",
   "metadata": {},
   "outputs": [
    {
     "name": "stdout",
     "output_type": "stream",
     "text": [
      "TestResults(failed=0, attempted=5)\n"
     ]
    }
   ],
   "source": [
    "# Now use the times table created in the previous exercise\n",
    "# to look up the product of two numbers\n",
    "#\n",
    "# You will need to index into the Python list of lists to extract\n",
    "# the product of two numbers in the form: table[row][column]\n",
    "#\n",
    "# Remember that Python lists are 0-indexed, so you will need\n",
    "# to take that into account when specifying the multiplicand\n",
    "# and multiplier\n",
    "\n",
    "\n",
    "def look_up_tables(first, second):\n",
    "\n",
    "    # WRITE YOUR ANSWER HERE\n",
    "    pass\n",
    "\n",
    "#---------------------------------------------------------\n",
    "# These are the tests your function must pass.\n",
    "\n",
    "\"\"\" \n",
    ">>> look_up_tables(7, 12)  # Test 1 - 7 x 12\n",
    "84\n",
    "\n",
    ">>> look_up_tables(9, 3) # Test 2 - 9 x 3\n",
    "27\n",
    "\n",
    ">>> look_up_tables(8, 7) # Test 3 - 8 x 7\n",
    "56\n",
    "\n",
    ">>> look_up_tables(12, 12) # Test 4 - 12 x 12\n",
    "144\n",
    "\n",
    ">>> look_up_tables(1, 1) # Test 5 - 1 x 1\n",
    "1\n",
    "\n",
    "\"\"\"\n",
    "\n",
    "#---------------------------------------------------------\n",
    "# This main program executes all the tests above when this\n",
    "# code is run.  Comment out the code below if you do not want\n",
    "# to run the tests automatically.\n",
    "\n",
    "from doctest import testmod\n",
    "print(testmod(verbose = False))"
   ]
  },
  {
   "cell_type": "markdown",
   "id": "73b2b580-3c72-4cbb-8769-de5ecf70bec1",
   "metadata": {},
   "source": [
    "<a name=\"Multiplication_Matrix_Function\"></a>\n",
    "<b>Q: Multiplication Matrix Function</b>"
   ]
  },
  {
   "cell_type": "code",
   "execution_count": null,
   "id": "5d55a45e-6f3f-4b47-8a43-22940a72e20b",
   "metadata": {},
   "outputs": [],
   "source": [
    "# As an exercise in refactoring existing code, \n",
    "# revisit your solution to the Print Multiplication Table.  \n",
    "# Your task is to write a parameterised function to produce a multiplication matrix \n",
    "# (aka 'times table') up to any number <= 20, like the examples shown below."
   ]
  },
  {
   "cell_type": "markdown",
   "id": "7fb80165-cbe8-4398-9f45-d439e55a852f",
   "metadata": {},
   "source": [
    " <img src=\"Images/Multiplication Matrix_up to 4.png\">\n",
    " <img src=\"Images/Multiplication Matrix_up to 20.png\">"
   ]
  },
  {
   "cell_type": "code",
   "execution_count": 93,
   "id": "937a7ec5-6338-4a1a-8a45-785009107192",
   "metadata": {},
   "outputs": [],
   "source": [
    "def times_tables(times_table_multiplicand):\n",
    "\n",
    "    # WRITE YOUR ANSWER HERE\n",
    "    pass"
   ]
  },
  {
   "cell_type": "code",
   "execution_count": 94,
   "id": "27e21f4c-75af-4e98-ae61-f489fc5f586b",
   "metadata": {},
   "outputs": [],
   "source": [
    "# A couple of tests to look at the output...\n",
    "times_tables(4)"
   ]
  },
  {
   "cell_type": "code",
   "execution_count": 95,
   "id": "0479ba47-8b0d-4e3c-b9fd-8c5f2492c57d",
   "metadata": {},
   "outputs": [],
   "source": [
    "times_tables(12)"
   ]
  },
  {
   "cell_type": "markdown",
   "id": "7069a4d7-875b-4f0c-b5b1-79c0583b155c",
   "metadata": {},
   "source": [
    "<a name=\"Generate_Hex_a\"><a>\n",
    "    \n",
    "<b>Q: Generate Hex</b>"
   ]
  },
  {
   "cell_type": "code",
   "execution_count": 97,
   "id": "ae5875bc-d050-4414-a59b-36c0c949bb18",
   "metadata": {},
   "outputs": [],
   "source": [
    "import random\n",
    "\n",
    "# Write code to generate a list of 20 randomly generated integers\n",
    "# between 1 and 1000, then convert those integers into hex string values.\n",
    "# Print out the list of hex values.\n",
    "# Hints: \n",
    "# * use function \n",
    "#        randint \n",
    "# to generate a random integer\n",
    "# * use function \n",
    "#        hex \n",
    "# to convert an integer to a string representation of a hex value\n",
    "\n",
    "# WRITE YOUR ANSWER HERE\n",
    "\n",
    "# Output should look something like:\n",
    "# ['0x2a5', '0x373', '0x13a', '0x3ac', '0x2c5', '0x36', '0xee', '0x18d', '0x285', '0x312', \n",
    "# '0x1e4', '0x1f7', '0x3bb', '0x1d8', '0x33b', '0x50', '0x171', '0x2da', '0x23c', '0x2b9']\n",
    "\n"
   ]
  },
  {
   "cell_type": "markdown",
   "id": "51fa8409-411a-4f71-b2f4-1700fa71c623",
   "metadata": {},
   "source": [
    "<a name=\"Generate_Hex_b\"><a>\n",
    "    \n",
    "<b>Q: Generate Hex - condensed</b>"
   ]
  },
  {
   "cell_type": "code",
   "execution_count": 96,
   "id": "ff7b9ba0-e018-4e05-9add-642a9e16d6b3",
   "metadata": {},
   "outputs": [],
   "source": [
    "# If you haven't already done so, modify your solution by condensing the body\n",
    "# of the FOR loop into a single line (with nested function calls)\n",
    "\n",
    "# WRITE YOUR ANSWER HERE\n",
    "\n"
   ]
  },
  {
   "cell_type": "markdown",
   "id": "1ccd730e-85cc-4bfb-b5f8-c1b4c22c1d35",
   "metadata": {},
   "source": [
    "<a name=\"count_over_threshold\"></a>\n",
    "<b>Q: Count Over Threshold</b>"
   ]
  },
  {
   "cell_type": "code",
   "execution_count": 98,
   "id": "5de0cd83-d53e-4cae-815f-d83b14e49039",
   "metadata": {},
   "outputs": [
    {
     "data": {
      "text/plain": [
       "True"
      ]
     },
     "execution_count": 98,
     "metadata": {},
     "output_type": "execute_result"
    }
   ],
   "source": [
    "# How to check if a value is some kind of number:\n",
    "  \n",
    "import numbers\n",
    "    \n",
    "isinstance(42, numbers.Number)"
   ]
  },
  {
   "cell_type": "code",
   "execution_count": 99,
   "id": "2b111929-26d2-442f-9f41-4c18cdaeaf91",
   "metadata": {},
   "outputs": [
    {
     "data": {
      "text/plain": [
       "False"
      ]
     },
     "execution_count": 99,
     "metadata": {},
     "output_type": "execute_result"
    }
   ],
   "source": [
    "isinstance([], numbers.Number)"
   ]
  },
  {
   "cell_type": "code",
   "execution_count": 100,
   "id": "3605e896-fef5-4ce4-b10a-41c2f67939e5",
   "metadata": {},
   "outputs": [
    {
     "data": {
      "text/plain": [
       "False"
      ]
     },
     "execution_count": 100,
     "metadata": {},
     "output_type": "execute_result"
    }
   ],
   "source": [
    "isinstance('fred', numbers.Number)"
   ]
  },
  {
   "cell_type": "code",
   "execution_count": 101,
   "id": "54151b99-dad9-4976-b92d-ce81aba1fd26",
   "metadata": {},
   "outputs": [
    {
     "data": {
      "text/plain": [
       "True"
      ]
     },
     "execution_count": 101,
     "metadata": {},
     "output_type": "execute_result"
    }
   ],
   "source": [
    "isinstance(3.14, numbers.Number)"
   ]
  },
  {
   "cell_type": "code",
   "execution_count": 102,
   "id": "e0efb7ee-3002-4e99-985e-9ec1ee0283e2",
   "metadata": {},
   "outputs": [
    {
     "data": {
      "text/plain": [
       "True"
      ]
     },
     "execution_count": 102,
     "metadata": {},
     "output_type": "execute_result"
    }
   ],
   "source": [
    "isinstance(2.7+4.2j, numbers.Number)"
   ]
  },
  {
   "cell_type": "code",
   "execution_count": null,
   "id": "c5c2903a-8a0f-4e53-a521-dd0302dd7dd4",
   "metadata": {
    "tags": []
   },
   "outputs": [],
   "source": [
    "# Given a Python list of lists, use iteration to count the number of numeric values over a certain threshold.  \n",
    "# Note that each sublist may contain any type of data, including strings, lists, integers and floats.\n",
    "# Your function must be capable of processing a list with any number of sublists\n",
    "\n",
    "\n",
    "import numbers\n",
    "\n",
    "# count how many numeric values contained in the list are over the threshold\n",
    "def count_over_threshold(values, threshold):\n",
    "\n",
    "    # WRITE YOUR ANSWER HERE\n",
    "    pass\n",
    "\n",
    "#---------------------------------------------------------\n",
    "# These are the tests your function must pass.\n",
    "\n",
    "\"\"\" \n",
    ">>> count_over_threshold([[65.656565, 6.01]], 0) # Test 1\n",
    "2\n",
    "\n",
    ">>> count_over_threshold([[-7.000001, -101.26], [-9]], 0) # Test 2\n",
    "0\n",
    "\n",
    ">>> count_over_threshold([[7.1093655, -101.26], [9, 0]], 4.239856) # Test 3\n",
    "2\n",
    "\n",
    ">>> count_over_threshold([[7, -101.26], [9.82736, 0]], -1000) # Test 4\n",
    "4\n",
    "\n",
    ">>> count_over_threshold([[7], [9, 33], [7, 11], [4], [5], [6]], 32.0) # Test 5\n",
    "1\n",
    "\n",
    ">>> count_over_threshold([['happy', 'hippy', 'hoppy'], [[7]]], 6) # Test 6\n",
    "0\n",
    "\n",
    ">>> count_over_threshold([['7.12', '8.8', '49.5'], ['1011101']], 6) # Test 7\n",
    "0\n",
    "\n",
    "\"\"\"\n",
    "\n",
    "#---------------------------------------------------------\n",
    "# This main program executes all the tests above when this\n",
    "# code is run.  Comment out the code below if you do not want\n",
    "# to run the tests automatically.\n",
    "\n",
    "from doctest import testmod\n",
    "print(testmod(verbose = False))            \n",
    "    "
   ]
  },
  {
   "cell_type": "markdown",
   "id": "fa1c67a2-1986-48c0-9b43-c522f8c3334f",
   "metadata": {},
   "source": [
    "<a name=\"is_list_sorted\"></a>\n",
    "<b>Qa: Is List Sorted? - algorithm</b>"
   ]
  },
  {
   "cell_type": "code",
   "execution_count": null,
   "id": "f866b31e-b948-4b05-8247-b2f8192a43c3",
   "metadata": {},
   "outputs": [],
   "source": [
    "# Write an algorithm (a set of clearly defined, unambiguous steps) to solve the following problem:\n",
    "# Given a non-empty list of integers with no duplicates (ie all values are unique), find out \n",
    "# if the list elements are in either ascending OR descending sorted order.  \n",
    "# Remember that a collection of only 1 or 2 values is already sorted.\n",
    "\n",
    "# Some test data with expected results is given below:\n",
    "# {1, 3, 6, 7, 8}  - True\n",
    "# {8, 7, 6, 2}     - True\n",
    "# {8, 2, 3, 4, 6}  - False\n",
    "# {1, 5, 4, 6, 2}  - False\n",
    "\n",
    "# WRITE YOUR ANSWER HERE\n",
    "\n"
   ]
  },
  {
   "cell_type": "markdown",
   "id": "8fb9bb0d-ab13-4c1d-98a3-f7e8e7fd55e9",
   "metadata": {},
   "source": [
    "<b>Qb: Is List Sorted? - implementation</b>"
   ]
  },
  {
   "cell_type": "code",
   "execution_count": 40,
   "id": "76722fdd-0093-4ca7-bdae-f967b536695a",
   "metadata": {},
   "outputs": [
    {
     "name": "stdout",
     "output_type": "stream",
     "text": [
      "TestResults(failed=0, attempted=6)\n"
     ]
    }
   ],
   "source": [
    "# Implement the algorithm using Python.\n",
    "# Given a non-empty list of integers with no duplicates, write a function\n",
    "# to determine if it is sorted in either ascending or descending order.\n",
    "\n",
    "# WRITE YOUR ANSWER HERE\n",
    "# See the doctests below for hints about function name and parameters required\n",
    "\n",
    "\n",
    "#---------------------------------------------------------\n",
    "# These are the tests your function must pass.\n",
    "\n",
    "\"\"\" \n",
    ">>> is_list_sorted([1, 3, 6, 7, 8]) # Test 1\n",
    "True\n",
    "\n",
    ">>> is_list_sorted([8, 7, 6, 2]) # Test2\n",
    "True\n",
    "\n",
    ">>> is_list_sorted([8, 2, 3, 4, 6]) # Test 3\n",
    "False\n",
    "\n",
    ">>> is_list_sorted([1, 5, 4, 6, 2]) # Test 4\n",
    "False\n",
    "\n",
    ">>> is_list_sorted([1, 5])  # Test 5\n",
    "True\n",
    "\n",
    ">>> is_list_sorted([5]) # Test 6\n",
    "True\n",
    "\n",
    "\"\"\"\n",
    "\n",
    "#---------------------------------------------------------\n",
    "# This main program executes all the tests above when this\n",
    "# code is run.  Comment out the code below if you do not want\n",
    "# to run the tests automatically.\n",
    "\n",
    "from doctest import testmod\n",
    "print(testmod(verbose = False))            \n",
    "    "
   ]
  },
  {
   "cell_type": "markdown",
   "id": "86866f0e-bcb4-46f3-9b27-d9cd39f0b27c",
   "metadata": {},
   "source": [
    "<a name=\"reverse_slice\"></a>\n",
    "<b>Qa: Reverse Slice - algorithm</b>"
   ]
  },
  {
   "cell_type": "code",
   "execution_count": null,
   "id": "bc067e5d-e576-4caa-ae64-38f0a572b427",
   "metadata": {},
   "outputs": [],
   "source": [
    "# Write an algorithm to reverse the elements in a list between a lower index position and an upper index position.\n",
    "# You may assume that the list is not empty and lower and upper indexes are within the bounds of the list\n",
    "\n",
    "# WRITE YOUR ANSWER HERE\n",
    "\n"
   ]
  },
  {
   "cell_type": "markdown",
   "id": "71066337-6d4e-4347-b939-4473b05ee0f5",
   "metadata": {},
   "source": [
    "<b>Qb: Reverse Slice - implementation</b>"
   ]
  },
  {
   "cell_type": "code",
   "execution_count": 42,
   "id": "93dc040c-8515-43c6-9c5e-57be508563c3",
   "metadata": {},
   "outputs": [
    {
     "name": "stdout",
     "output_type": "stream",
     "text": [
      "TestResults(failed=0, attempted=4)\n"
     ]
    }
   ],
   "source": [
    "# Implement the algorithm.\n",
    "# Given a list of values, and upper and lower bounds of a slice of that list,\n",
    "# write a function to reverse the values in the list between those bounds, \n",
    "# and return the modified list.\n",
    "# Use the supplied swap function to modify a list by swapping two values.\n",
    "# You may assume that the list is not empty and lower and upper indexes are within the bounds of the list\n",
    "\n",
    "# utility function to swap two values\n",
    "def swap(values, position_1, position_2):\n",
    "    # save the first value\n",
    "    temp = values[position_1]\n",
    "    # give the first position the value of the second\n",
    "    values[position_1] = values[position_2]\n",
    "    # give the second position the original value of the first\n",
    "    values[position_2] = temp\n",
    "\n",
    "    \n",
    "# WRITE YOUR ANSWER HERE\n",
    "\n",
    "\n",
    "#---------------------------------------------------------\n",
    "# These are the tests your function must pass.\n",
    "\n",
    "\"\"\" \n",
    ">>> reverse_slice([1, 3, 6, 7, 8, 10, 12], 1, 3) # Test 1\n",
    "[1, 7, 6, 3, 8, 10, 12]\n",
    "\n",
    ">>> reverse_slice([1, 3, 6, 7, 8, 10, 12], 2, 5) # Test 2\n",
    "[1, 3, 10, 8, 7, 6, 12]\n",
    "\n",
    ">>> reverse_slice( [1, 3, 6, 7, 8, 10, 12], 0, 6) # Test 3\n",
    "[12, 10, 8, 7, 6, 3, 1]\n",
    "\n",
    ">>> reverse_slice([1, 3, 6, 7, 8, 10, 12], 5, 5) # Test 4\n",
    "[1, 3, 6, 7, 8, 10, 12]\n",
    "\n",
    "\n",
    "\"\"\"\n",
    "\n",
    "#---------------------------------------------------------\n",
    "# This main program executes all the tests above when this\n",
    "# code is run.  Comment out the code below if you do not want\n",
    "# to run the tests automatically.\n",
    "\n",
    "from doctest import testmod\n",
    "print(testmod(verbose = False))  "
   ]
  },
  {
   "cell_type": "markdown",
   "id": "eb80db30-0699-430e-8e21-9e84120b4de9",
   "metadata": {
    "tags": []
   },
   "source": [
    "<a name=\"list_manipulation\"><a>\n",
    "# List Manipulation\n",
    "<hr>"
   ]
  },
  {
   "cell_type": "markdown",
   "id": "411b48cf-3326-426d-873a-6f6e9e794752",
   "metadata": {},
   "source": [
    "<a name=\"shift_left\"></a>\n",
    "<b>Qa: Shift Left</b>\n",
    " <img src=\"Images/rotate left.gif\">"
   ]
  },
  {
   "cell_type": "code",
   "execution_count": 44,
   "id": "2ad78b44-a137-4eb8-a383-d9c84f47ae20",
   "metadata": {},
   "outputs": [
    {
     "name": "stdout",
     "output_type": "stream",
     "text": [
      "TestResults(failed=0, attempted=5)\n"
     ]
    }
   ],
   "source": [
    "# Write an function to relocate each of the values in a non-empty list of floating point values one place to the left \n",
    "# (i.e., towards the beginning of the list).\n",
    "# The value originally in the first position should be relocated to the last position.\n",
    "# Return the list.\n",
    "\n",
    "# First design an algorithm for this task, then implement it in Python, retaining the algorithm as comments describing \n",
    "# each step in the algorithm.\n",
    "\n",
    "# WRITE YOUR ANSWER HERE\n",
    "# See the doctests below for hints about function name and parameters required\n",
    "\n",
    "#---------------------------------------------------------\n",
    "# These are the tests your function must pass.\n",
    "\n",
    "\"\"\" \n",
    ">>> shift_left([1, 2, 3, 4, 5]) # Test 1\n",
    "[2, 3, 4, 5, 1]\n",
    "\n",
    ">>> shift_left([2, 3, 4, 5, 1]) # Test 2\n",
    "[3, 4, 5, 1, 2]\n",
    "\n",
    ">>> shift_left([3, 4, 5, 1, 2]) # Test 3\n",
    "[4, 5, 1, 2, 3]\n",
    "\n",
    ">>> shift_left([5, 1, 2, 3, 4]) # Test 4\n",
    "[1, 2, 3, 4, 5]\n",
    "\n",
    ">>> shift_left([7]) # Test 5\n",
    "[7]\n",
    "\n",
    "\"\"\"\n",
    "\n",
    "#---------------------------------------------------------\n",
    "# This main program executes all the tests above when this\n",
    "# code is run.  Comment out the code below if you do not want\n",
    "# to run the tests automatically.\n",
    "\n",
    "from doctest import testmod\n",
    "print(testmod(verbose = False))  "
   ]
  },
  {
   "cell_type": "markdown",
   "id": "625cb47c-a8a6-46a8-8d16-3b82af37c981",
   "metadata": {},
   "source": [
    "<a name=\"shift_left_by_N\"></a>\n",
    "<b>Qb: Shift Left by N</b>"
   ]
  },
  {
   "cell_type": "code",
   "execution_count": 46,
   "id": "54886ac2-e063-43b4-9e5b-5252a04a32a3",
   "metadata": {},
   "outputs": [
    {
     "name": "stdout",
     "output_type": "stream",
     "text": [
      "TestResults(failed=0, attempted=5)\n"
     ]
    }
   ],
   "source": [
    "# Create a new function similar to the above function, but with another parameter \n",
    "# to represent the number of places the values should be shifted.\n",
    "\n",
    "# WRITE YOUR ANSWER HERE\n",
    "# See the doctests below for hints about function name and parameters required\n",
    "\n",
    "\n",
    "\n",
    "#---------------------------------------------------------\n",
    "# These are the tests your function must pass.\n",
    "\n",
    "\"\"\" \n",
    ">>> shift_left_by_N([1, 2, 3, 4, 5], 5) # Test 1\n",
    "[1, 2, 3, 4, 5]\n",
    "\n",
    ">>> shift_left_by_N([1, 2, 3, 4, 5], 2) # Test 2\n",
    "[3, 4, 5, 1, 2]\n",
    "\n",
    ">>> shift_left_by_N([1, 2, 3, 4, 5], 6) # Test 3\n",
    "[2, 3, 4, 5, 1]\n",
    "\n",
    ">>> shift_left_by_N([1, 2, 3, 4, 5], 1) # Test 4\n",
    "[2, 3, 4, 5, 1]\n",
    "\n",
    ">>> shift_left_by_N([1, 2, 3, 4, 5], 0) # Test 5\n",
    "[1, 2, 3, 4, 5]\n",
    "\n",
    "\"\"\"\n",
    "\n",
    "#---------------------------------------------------------\n",
    "# This main program executes all the tests above when this\n",
    "# code is run.  Comment out the code below if you do not want\n",
    "# to run the tests automatically.\n",
    "\n",
    "from doctest import testmod\n",
    "print(testmod(verbose = False))  "
   ]
  },
  {
   "cell_type": "markdown",
   "id": "905d6e6e-8602-49c3-93fe-a2c5129617d1",
   "metadata": {},
   "source": [
    "<a name=\"count_digits\"><b>Q: Count Digits\n",
    "    </b></a>"
   ]
  },
  {
   "cell_type": "code",
   "execution_count": 49,
   "id": "55d3f150-a2d3-4f93-a6ed-833fe92a483d",
   "metadata": {},
   "outputs": [
    {
     "name": "stdout",
     "output_type": "stream",
     "text": [
      "TestResults(failed=0, attempted=5)\n"
     ]
    }
   ],
   "source": [
    "# Given any positive integer, write a function to calculate how many digits in that number.\n",
    "# Hints:\n",
    "# * Dividing a number by 10 will reduce the integer part by 1 digit\n",
    "# * Use a WHILE loop to keep count of how many times the number can be divided by 10.\n",
    "\n",
    "# WRITE YOUR ANSWER HERE\n",
    "# See the doctests below for hints about function name and parameters required\n",
    "\n",
    "\n",
    "#---------------------------------------------------------\n",
    "# These are the tests your function must pass.\n",
    "\n",
    "\"\"\" \n",
    ">>> count_digits(123456789) # Test 1\n",
    "9\n",
    "\n",
    ">>> count_digits(10101010) # Test 2\n",
    "8\n",
    "\n",
    ">>> count_digits(7) # Test 3\n",
    "1\n",
    "\n",
    ">>> count_digits(724) # Test 4\n",
    "3\n",
    "\n",
    ">>> count_digits(10) # Test 5\n",
    "2\n",
    "\n",
    "\"\"\"\n",
    "\n",
    "#---------------------------------------------------------\n",
    "# This main program executes all the tests above when this\n",
    "# code is run.  Comment out the code below if you do not want\n",
    "# to run the tests automatically.\n",
    "\n",
    "from doctest import testmod\n",
    "print(testmod(verbose = False))  "
   ]
  },
  {
   "cell_type": "markdown",
   "id": "7b4ea2c4-b669-45d2-babd-d85be853554f",
   "metadata": {},
   "source": [
    "<a name=\"print_binary\"><b>Q: Print Binary\n",
    "    </b></a>"
   ]
  },
  {
   "cell_type": "code",
   "execution_count": 51,
   "id": "c6eb15d6-c72b-4d13-aee3-3df024161f9b",
   "metadata": {},
   "outputs": [
    {
     "name": "stdout",
     "output_type": "stream",
     "text": [
      "TestResults(failed=0, attempted=7)\n"
     ]
    }
   ],
   "source": [
    "# Write a function that expects a positive integer and returns a \n",
    "# list of binary numbers (0 or 1) that correspond to the binary representation of that integer.\n",
    "# NB there are built-in functions to convert from binary to\n",
    "# decimal (int) and vice versa (bin), but instead use the algorithm\n",
    "# implicit in this example to create your own solution:\n",
    "#\n",
    "# 23 to binary:\n",
    "# / 2 = 11 r 1\n",
    "# / 2 = 5  r 1\n",
    "# / 2 = 2  r 1\n",
    "# / 2 = 1  r 0\n",
    "# / 2 = 0  r 1\n",
    "# The binary number can be determined from the series of remainder values,\n",
    "# from last to first ie [1,0,1,1,1]\n",
    "\n",
    "# Hint: Remainder is calculated using the % modulo operator.\n",
    "\n",
    "# WRITE YOUR ANSWER HERE\n",
    "# See the doctests below for hints about function name and parameters required\n",
    "\n",
    "\n",
    "#---------------------------------------------------------\n",
    "# These are the tests your function must pass.\n",
    "\n",
    "\"\"\" \n",
    ">>> convert_to_binary(23) # Test 1\n",
    "[1, 0, 1, 1, 1]\n",
    "\n",
    ">>> convert_to_binary(7) # Test 2\n",
    "[1, 1, 1]\n",
    "\n",
    ">>> convert_to_binary(2) # Test 3\n",
    "[1, 0]\n",
    "\n",
    ">>> convert_to_binary(100) # Test 4\n",
    "[1, 1, 0, 0, 1, 0, 0]\n",
    "\n",
    ">>> convert_to_binary(1) # Test 5\n",
    "[1]\n",
    "\n",
    ">>> convert_to_binary(9999999999999999999999) # Test 6\n",
    "[1, 0, 0, 0, 0, 1, 1, 1, 1, 0, 0, 0, 0, 1, 1, 0, 0, 1, 1, 1, 1, 0, 0, 0, 0, 0, 1, 1, 0, 0, 1, 0, 0, 1, 1, 0, 1, 1, 1, 0, 1, 0, 1, 0, 1, 1, 0, 0, 1, 0, 0, 0, 1, 1, 1, 1, 1, 1, 1, 1, 1, 1, 1, 1, 1, 1, 1, 1, 1, 1, 1, 1, 1, 1]\n",
    "\n",
    "\n",
    ">>> convert_to_binary(int('10000111100001100111100000110010011011101010110010001111111111111111111111', 2)) # Test 7\n",
    "[1, 0, 0, 0, 0, 1, 1, 1, 1, 0, 0, 0, 0, 1, 1, 0, 0, 1, 1, 1, 1, 0, 0, 0, 0, 0, 1, 1, 0, 0, 1, 0, 0, 1, 1, 0, 1, 1, 1, 0, 1, 0, 1, 0, 1, 1, 0, 0, 1, 0, 0, 0, 1, 1, 1, 1, 1, 1, 1, 1, 1, 1, 1, 1, 1, 1, 1, 1, 1, 1, 1, 1, 1, 1]\n",
    "\n",
    "\n",
    "\"\"\"\n",
    "\n",
    "#---------------------------------------------------------\n",
    "# This main program executes all the tests above when this\n",
    "# code is run.  Comment out the code below if you do not want\n",
    "# to run the tests automatically.\n",
    "\n",
    "from doctest import testmod\n",
    "print(testmod(verbose = False))  "
   ]
  },
  {
   "cell_type": "markdown",
   "id": "95b4fe0a-0426-4e69-b639-36967527f940",
   "metadata": {},
   "source": [
    "<a name=\"print_decimal\"><b>Q: Print Decimal\n",
    "    </b></a>"
   ]
  },
  {
   "cell_type": "code",
   "execution_count": 60,
   "id": "bedf456c-1ed8-4c62-8fbe-56681f1f817a",
   "metadata": {},
   "outputs": [
    {
     "name": "stdout",
     "output_type": "stream",
     "text": [
      "TestResults(failed=0, attempted=6)\n"
     ]
    }
   ],
   "source": [
    "# Write a function that expects a list of binary digits \n",
    "# that correspond to the binary representation of an integer and return the equivalent decimal value.\n",
    "\n",
    "# NB there are built-in functions to convert from binary to\n",
    "# decimal (int) and vice versa (bin), but instead use the algorithm\n",
    "# implicit in this example to create your own solution:\n",
    "#\n",
    "# [1,0,1,1,1] to decimal:\n",
    "# 1 x 2^4 +\n",
    "# 0 x 2^3 +\n",
    "# 1 x 2^2 +\n",
    "# 1 x 2^1 +\n",
    "# 1 x 2^0\n",
    "\n",
    "# WRITE YOUR ANSWER HERE\n",
    "# See the doctests below for hints about function name and parameters required\n",
    "\n",
    "#---------------------------------------------------------\n",
    "# These are the tests your function must pass.\n",
    "\n",
    "\"\"\" \n",
    ">>> convert_to_decimal([1, 0, 1, 1, 1]) # Test 1\n",
    "23\n",
    "\n",
    ">>> convert_to_decimal([1, 1, 1]) # Test 2\n",
    "7\n",
    "\n",
    ">>> convert_to_decimal([1, 0])# Test 3\n",
    "2\n",
    "\n",
    ">>> convert_to_decimal([1, 1, 0, 0, 1, 0, 0]) # Test 4\n",
    "100\n",
    "\n",
    ">>> convert_to_decimal([1]) # Test 5\n",
    "1\n",
    "\n",
    ">>> convert_to_decimal([1, 0, 0, 0, 0, 1, 1, 1, 1, 0, 0, 0, 0, 1, 1, 0, 0, 1, 1, 1, 1, 0, 0, 0, 0, 0, 1, 1, 0, 0, 1, 0, 0, 1, 1, 0, 1, 1, 1, 0, 1, 0, 1, 0, 1, 1, 0, 0, 1, 0, 0, 0, 1, 1, 1, 1, 1, 1, 1, 1, 1, 1, 1, 1, 1, 1, 1, 1, 1, 1, 1, 1, 1, 1]) \n",
    "9999999999999999999999\n",
    "\n",
    "\n",
    "\"\"\"\n",
    "\n",
    "#---------------------------------------------------------\n",
    "# This main program executes all the tests above when this\n",
    "# code is run.  Comment out the code below if you do not want\n",
    "# to run the tests automatically.\n",
    "\n",
    "from doctest import testmod\n",
    "print(testmod(verbose = False))  "
   ]
  },
  {
   "cell_type": "markdown",
   "id": "fde2560a-0e3d-44c0-b6d8-ff054c7c0306",
   "metadata": {},
   "source": [
    "\n",
    "<a name=\"golf\"><b>Q: Golf\n",
    "    </b></a>\n",
    "    \n",
    " <img src=\"Images/golf.png\">"
   ]
  },
  {
   "cell_type": "code",
   "execution_count": 54,
   "id": "ddc450a4-ef2d-420b-b852-4b1e42078f7f",
   "metadata": {},
   "outputs": [
    {
     "data": {
      "text/plain": [
       "34"
      ]
     },
     "execution_count": 54,
     "metadata": {},
     "output_type": "execute_result"
    }
   ],
   "source": [
    "# A game of golf consists of one or more groups of 9 holes.\n",
    "# (A 'hole' in general consists of not only the tiny hole in the ground\n",
    "# with a flag in it that is the ultimate destination of the ball,\n",
    "# but also the tee (starting area), fairway, fairway surrounds (trees, scrubs,\n",
    "# sand bunkers, water hazards etc.) as well as the putting green\n",
    "# with the hole and flag.  Most often 18 holes in total are played in a game,\n",
    "# with the object being to hit the ball the least number of times between\n",
    "# the tee and the hole.\n",
    "\n",
    "# Once a male-dominated domain, golf has become a popular sport for all genders and ages.\n",
    "\n",
    "# Each hole is classified in terms of how many strokes (hits of the ball)\n",
    "# it should take from tee to hole.  This is called the 'par' for the hole.\n",
    "# A handicapping system takes care of putting all players on a level\n",
    "# playing ground, the finer details of which are not important for this task.\n",
    "\n",
    "# Below is a Python list of integers representing\n",
    "# the pars for 18 holes at one golf course in Brisbane.\n",
    "# The par values are ordered from hole 1 to 18 with:\n",
    "#    1 to 9 (the 'front nine') and 10 to 18 (the 'back nine').\n",
    "# Remember that Python lists are 0-indexed.\n",
    "# So the par value for hole 5, for example will be found at\n",
    "# index 4 of the pars list.\n",
    "\n",
    "course_pars = [5, 4, 3, 4, 4, 3, 4, 4, 3,\n",
    "               3, 4, 3, 5, 3, 4, 5, 4, 4]\n",
    "\n",
    "# 1.  Write expressions to calculate the sum of the pars for each\n",
    "#     of the front and back nine and store them in separate (aptly named!)\n",
    "#     variables.  \n",
    "#     Hint: use list slicing\n",
    "\n",
    "# Sum of pars for front nine\n",
    "\n",
    "# WRITE YOUR ANSWER HERE\n",
    "# result should be 34\n",
    "\n"
   ]
  },
  {
   "cell_type": "code",
   "execution_count": 55,
   "id": "d964e70b-f939-4d15-b384-6cf35d0835a3",
   "metadata": {},
   "outputs": [
    {
     "data": {
      "text/plain": [
       "35"
      ]
     },
     "execution_count": 55,
     "metadata": {},
     "output_type": "execute_result"
    }
   ],
   "source": [
    "# Sum of pars for back nine\n",
    "\n",
    "# WRITE YOUR ANSWER HERE\n",
    "# result should be 35"
   ]
  },
  {
   "cell_type": "code",
   "execution_count": 56,
   "id": "8a67fa33-cbd4-4cd1-adfc-392d400a6b3a",
   "metadata": {},
   "outputs": [
    {
     "data": {
      "text/plain": [
       "43"
      ]
     },
     "execution_count": 56,
     "metadata": {},
     "output_type": "execute_result"
    }
   ],
   "source": [
    "# Now imagine that you have played 18 holes (holes 1 to 18 inclusive)\n",
    "# and have recorded your strokes in another Python list as follows:\n",
    "my_results = [6, 6, 4, 5, 4, 3, 4, 5, 6,\n",
    "              3, 3, 4, 6, 5, 5, 6, 5, 5]\n",
    "\n",
    "# 2. It is normal to calculate the total number of strokes taken\n",
    "#    in your game for both the front and back nines.\n",
    "#    Write expressions to calculate the sum of strokes for the\n",
    "#    front and back nines that you played\n",
    "#    and store them in two separate (aptly named!) variables\n",
    "\n",
    "# Sum of strokes for front nine\n",
    "# WRITE YOUR ANSWER HERE\n",
    "\n"
   ]
  },
  {
   "cell_type": "code",
   "execution_count": 57,
   "id": "85f7ed39-6a5f-47db-8553-8b7f21ef69ca",
   "metadata": {},
   "outputs": [
    {
     "data": {
      "text/plain": [
       "42"
      ]
     },
     "execution_count": 57,
     "metadata": {},
     "output_type": "execute_result"
    }
   ],
   "source": [
    "# Sum of strokes for back nine\n",
    "# WRITE YOUR ANSWER HERE\n",
    "\n"
   ]
  },
  {
   "cell_type": "code",
   "execution_count": 58,
   "id": "9cf185e6-a6a8-489e-831b-8b828e1712f9",
   "metadata": {},
   "outputs": [
    {
     "name": "stdout",
     "output_type": "stream",
     "text": [
      "Result on front nine : +  9\n",
      "Result on back nine : +  7\n"
     ]
    }
   ],
   "source": [
    "# 3. Write expressions to calculate the difference between the par totals\n",
    "#    and your results, for both the front and back nine.\n",
    "#    Result will represent how many strokes you played 'over par'\n",
    "#    (unless of course you are a seriously good golfer, and end up\n",
    "#    with a negative result!).  Output the result of your game.\n",
    "\n",
    "# WRITE YOUR ANSWER HERE\n",
    "#    Answer should be:\n",
    "#       Result on front nine : + 9\n",
    "#       Result on back nine: + 7\n",
    "\n"
   ]
  },
  {
   "cell_type": "code",
   "execution_count": 59,
   "id": "3e26422e-6e77-4298-8504-86e9979697b2",
   "metadata": {},
   "outputs": [
    {
     "name": "stdout",
     "output_type": "stream",
     "text": [
      "Pars:    4\n",
      "Birdies: 1\n",
      "Eagles:  0\n"
     ]
    }
   ],
   "source": [
    "# 4. In order to brag about your performance in golf, it will be\n",
    "#    necessary to know a few more statistics about your results.\n",
    "#    The following are some of the more common terms used:\n",
    "#    Bogey = where your stroke count is 1 more than par for that hole\n",
    "#    (Double Bogey is 2 more than par, Triple Bogey is 3 more etc. etc.)\n",
    "#    Par = where your stroke count is the same as par for that hole\n",
    "#    Birdie = where your stroke count is 1 less than par for that hole\n",
    "#    Eagle = where your stroke count is 2 less than par for that hole\n",
    "#    etc.  Ignoring results you don't want to brag about\n",
    "#    (bogeys or worse!) store the number of pars, birdies and eagles\n",
    "#    you achieved in your game.\n",
    "#    Hint: Use iteration to compare your result for each hole with the\n",
    "#    par for that hole, and calculate the difference.\n",
    "#\n",
    "#    Display your brag sheet like this:\n",
    "#\n",
    "#       Pars:    4\n",
    "#       Birdies: 1\n",
    "#       Eagles:  0\n",
    "\n",
    "# WRITE YOUR ANSWER HERE\n",
    "\n"
   ]
  },
  {
   "cell_type": "markdown",
   "id": "8b61b48d-6201-487a-8b7f-c3b9aeb7cee3",
   "metadata": {},
   "source": [
    "<a name=\"concrete_cylinder_test_data_analysis\"><a>\n",
    "# Context: Structures - Concrete Cylinder Test Data Analysis\n",
    "    "
   ]
  },
  {
   "cell_type": "markdown",
   "id": "e197e519-2c72-4c2e-b92b-f1ec471a7b82",
   "metadata": {},
   "source": [
    "Concrete is one of the most used construction materials. Its quality is determined by casting and testing cylindrical samples. In second year, students get an opportunity to perform these experiments in lab. Analysis of raw data collected from the testing machine is important to find maximum and average strength of the tested samples. At least three samples as minimum are casted and tested. Raw data is also used to develop stress-strain curves of concrete to find other mechanical properties such as young’s modulus.  \n",
    "\n",
    "<strong>Standard Test Sample Size</strong>: 100 mm diameter x 200mm height (Cylindrical)\n",
    "\n",
    "<img src=\"Images/Structures_Concrete Cylinder Test Data Analysis.png\">"
   ]
  },
  {
   "cell_type": "markdown",
   "id": "12771456-2424-4f68-9e84-aa1ed728ca0e",
   "metadata": {},
   "source": [
    "<a name=\"cross_area\"><a>\n",
    "    \n",
    "<b>Q: Cross Area</b>   \n"
   ]
  },
  {
   "cell_type": "code",
   "execution_count": 61,
   "id": "97ba8a58-db06-4da7-90de-f7c54cde7259",
   "metadata": {},
   "outputs": [
    {
     "name": "stdout",
     "output_type": "stream",
     "text": [
      "TestResults(failed=0, attempted=3)\n"
     ]
    }
   ],
   "source": [
    "import math\n",
    "\n",
    "# Define a function to calculate the cross-sectional area of a cylinder given its diameter\n",
    "\n",
    "\n",
    "# WRITE YOUR ANSWER HERE\n",
    "# See the doctests below for hints about function name and parameters required\n",
    "\n",
    "\n",
    "\n",
    "\n",
    "#---------------------------------------------------------\n",
    "# These are the tests your function must pass.\n",
    "\n",
    "\"\"\" \n",
    ">>> cross_sectional_area(0) # Test 1\n",
    "0.0\n",
    "\n",
    ">>> cross_sectional_area(2) # Test 2\n",
    "3.141592653589793\n",
    "\n",
    ">>> cross_sectional_area(100) # Test 3\n",
    "7853.981633974483\n",
    "\n",
    "\n",
    "\"\"\"\n",
    "\n",
    "#---------------------------------------------------------\n",
    "# This main program executes all the tests above when this\n",
    "# code is run.  Comment out the code below if you do not want\n",
    "# to run the tests automatically.\n",
    "\n",
    "from doctest import testmod\n",
    "print(testmod(verbose = False))  "
   ]
  },
  {
   "cell_type": "markdown",
   "id": "d1cd29ef-b333-4041-b91f-6d6698672a39",
   "metadata": {},
   "source": [
    "<a name=\"compressive_stress\"><a>\n",
    "    \n",
    "<b>Q: Compressive Stress</b>   \n",
    "    \n",
    "The Compressive Stress of concrete is given by the following formula:\n",
    "$f_c = \\frac{P}{A}$\n",
    "    \n",
    "where $f_c$ is the compressive stress in MPa, $P$ is the Load in Newtons and $A$ is the Cross Sectional Area in ${mm}^2$"
   ]
  },
  {
   "cell_type": "code",
   "execution_count": 62,
   "id": "5da51000-f1cc-4e26-86bc-7a9313a77082",
   "metadata": {},
   "outputs": [
    {
     "name": "stdout",
     "output_type": "stream",
     "text": [
      "TestResults(failed=0, attempted=3)\n"
     ]
    }
   ],
   "source": [
    "# Define a function to calculate the compressive stress given the load and the cyclinder diameter.\n",
    "\n",
    "\n",
    "\n",
    "# WRITE YOUR ANSWER HERE\n",
    "# See the doctests below for hints about function name and parameters required\n",
    "\n",
    "#---------------------------------------------------------\n",
    "# These are the tests your function must pass.\n",
    "\n",
    "\"\"\" \n",
    ">>> compressive_stress(3, 100) # Test 1\n",
    "0.0003819718634205488\n",
    "\n",
    ">>> compressive_stress(4, 120) # Test 2\n",
    "0.000353677651315323\n",
    "\n",
    ">>> compressive_stress(2, 90) # Test 3\n",
    "0.00031438013450250935\n",
    "\n",
    "\n",
    "\"\"\"\n",
    "\n",
    "#---------------------------------------------------------\n",
    "# This main program executes all the tests above when this\n",
    "# code is run.  Comment out the code below if you do not want\n",
    "# to run the tests automatically.\n",
    "\n",
    "from doctest import testmod\n",
    "print(testmod(verbose = False))  "
   ]
  },
  {
   "cell_type": "markdown",
   "id": "708dfcb9-ede4-416b-83f1-f5c4d543cbf7",
   "metadata": {},
   "source": [
    "<a name=\"stress-strain\"><a>\n",
    "# Context: Structures - Stress-Strain Model for Concrete\n",
    "    "
   ]
  },
  {
   "cell_type": "markdown",
   "id": "ce18907d-5e8d-4561-8c3b-7adcef5b8f36",
   "metadata": {},
   "source": [
    "Analytical stress-strain models of structural materials (also called material models) in terms of mathematical equations are important for developing simulation models of large-scale structures to analyse them under various loads such as earthquakes, gravity loads or wind loads. These material models can be used as subroutines in finite element analysis packages (such as ABAQUS, LS DYNA, STRANDS 7, SPASGASS) to simulate large size structures such as concrete or masonry walls or steel frames. \n",
    "\n",
    "<strong>Analytical model of concrete:</strong><br>\n",
    "<img src=\"Images/Structures_Analytical Model of Concrete.png\">\n",
    "\n",
    "Where:<br>\n",
    "$\\sigma$ = stress at any strain instant (MPa)<br>\n",
    "$\\sigma_{max}$ = Ultimate or peak strength from material tests (20 MPa to 50 MPa)<br>\n",
    "$\\epsilon$ = strain at any instant (MPa)<br>\n",
    "$\\epsilon_p$ = peak strain corresponding to peak strength (MPa) = $0.0007(\\sigma_{max})^{0.31}$\n",
    "\n"
   ]
  },
  {
   "cell_type": "markdown",
   "id": "fa2b843d-2329-4747-b445-7bd217e73d33",
   "metadata": {},
   "source": [
    "<a name=\"stress\"><a>\n",
    "    \n",
    "<b>Q: Stress</b>   "
   ]
  },
  {
   "cell_type": "code",
   "execution_count": 64,
   "id": "b5adc6be-e6e3-400e-83bb-06bf3c2c4dc5",
   "metadata": {},
   "outputs": [
    {
     "name": "stdout",
     "output_type": "stream",
     "text": [
      "TestResults(failed=0, attempted=3)\n"
     ]
    }
   ],
   "source": [
    "# Define a function to estimate stress (σ) given values for strain (ε) \n",
    "# and peak strength (σ_max)\n",
    "\n",
    "\n",
    "# WRITE YOUR ANSWER HERE\n",
    "# See the doctests below for hints about function name and parameters required\n",
    "\n",
    "\n",
    "#---------------------------------------------------------\n",
    "# These are the tests your function must pass.\n",
    "\n",
    "\"\"\" \n",
    ">>> stress(20, 0.0001) # Test 1\n",
    "5.709293206599784\n",
    "\n",
    ">>> stress(20, 0.002) # Test 2\n",
    "39.85529960905406\n",
    "\n",
    ">>> stress(20, 0.0004) # Test 3\n",
    "20.223285905497978\n",
    "\n",
    "\n",
    "\"\"\"\n",
    "\n",
    "#---------------------------------------------------------\n",
    "# This main program executes all the tests above when this\n",
    "# code is run.  Comment out the code below if you do not want\n",
    "# to run the tests automatically.\n",
    "\n",
    "from doctest import testmod\n",
    "print(testmod(verbose = False))  "
   ]
  },
  {
   "cell_type": "code",
   "execution_count": 68,
   "id": "e62f5223-f2a6-4203-90cd-e3867b66ef11",
   "metadata": {},
   "outputs": [
    {
     "name": "stdout",
     "output_type": "stream",
     "text": [
      "0.0 0.0\n",
      "0.0001 5.709293206599784\n",
      "0.0002 11.043854370287827\n",
      "0.0003 15.898444177682146\n",
      "0.0004 20.223285905497978\n",
      "0.0005 24.006947840072765\n",
      "0.0006 27.264622974950395\n",
      "0.0007 30.02873755450169\n",
      "0.0008 32.34160754762151\n",
      "0.0009 34.249998118208815\n",
      "0.001 35.80133389226734\n",
      "0.0011 37.04123981458318\n",
      "0.0012 38.012088209021584\n",
      "0.0013 38.752264932471185\n",
      "0.0014 39.29592222772489\n",
      "0.0015 39.6730420108662\n",
      "0.0016 39.909682636640945\n",
      "0.0017 40.02832174052634\n",
      "0.0018 40.048237589985604\n",
      "0.0019 39.98589285740078\n",
      "0.002 39.85529960905406\n",
      "0.0021 39.66835425812353\n",
      "0.0022 39.43513765017691\n",
      "0.0023 39.16417941932487\n",
      "0.0024 38.86268807125474\n",
      "0.0025 38.53674948531205\n",
      "0.0026 38.19149707617342\n",
      "0.0027 37.83125698327449\n",
      "0.0028 37.45967153942217\n",
      "0.0029 37.07980402285357\n",
      "0.003 36.6942273910198\n"
     ]
    }
   ],
   "source": [
    "# Assuming a peak strength of 20\n",
    "# Write a FOR loop to estimate the stress for a range of strains from 0 to 0.003 with increments of 0.0001\n",
    "\n",
    "# WRITE YOUR ANSWER HERE\n",
    "\n",
    "# from 0 to 30 inclusive\n",
    "for step in range(31):\n",
    "    # calculate the strain\n",
    "    strain = step / 10000\n",
    "    # calculate and print the stress using previous function\n",
    "    print(strain, stress(20, strain))\n",
    "    "
   ]
  },
  {
   "cell_type": "markdown",
   "id": "3ac5322a-3fe5-47ea-a69a-9298c4b8454e",
   "metadata": {},
   "source": [
    "<b>Expected output:</b>\n",
    "<pre>\n",
    "0.0 0.0\n",
    "0.0001 5.709293206599784\n",
    "0.0002 11.043854370287827\n",
    "0.0003 15.898444177682146\n",
    "0.0004 20.223285905497978\n",
    "0.0005 24.006947840072765\n",
    "0.0006 27.264622974950395\n",
    "0.0007 30.02873755450169\n",
    "0.0008 32.34160754762151\n",
    "0.0009 34.249998118208815\n",
    "0.001 35.80133389226734\n",
    "0.0011 37.04123981458318\n",
    "0.0012 38.012088209021584\n",
    "0.0013 38.752264932471185\n",
    "0.0014 39.29592222772489\n",
    "0.0015 39.6730420108662\n",
    "0.0016 39.909682636640945\n",
    "0.0017 40.02832174052634\n",
    "0.0018 40.048237589985604\n",
    "0.0019 39.98589285740078\n",
    "0.002 39.85529960905406\n",
    "0.0021 39.66835425812353\n",
    "0.0022 39.43513765017691\n",
    "0.0023 39.16417941932487\n",
    "0.0024 38.86268807125474\n",
    "0.0025 38.53674948531205\n",
    "0.0026 38.19149707617342\n",
    "0.0027 37.83125698327449\n",
    "0.0028 37.45967153942217\n",
    "0.0029 37.07980402285357\n",
    "0.003 36.6942273910198\n",
    "</pre>"
   ]
  },
  {
   "cell_type": "code",
   "execution_count": 84,
   "id": "47d7f876-5584-476b-b32a-18576edd8b1d",
   "metadata": {},
   "outputs": [
    {
     "data": {
      "text/plain": [
       "Text(0, 0.5, 'Stress MPa')"
      ]
     },
     "execution_count": 84,
     "metadata": {},
     "output_type": "execute_result"
    },
    {
     "data": {
      "image/png": "[encoded data removed]",
      "text/plain": [
       "<Figure size 640x480 with 1 Axes>"
      ]
     },
     "metadata": {},
     "output_type": "display_data"
    }
   ],
   "source": [
    "# DEMO ONLY FYI: Plot the stress versus strain for the above values\n",
    "\n",
    "import matplotlib.pyplot\n",
    "\n",
    "sig_list = []\n",
    "esp_list = []\n",
    "for strain in range(0, 31):\n",
    "    esp = strain / 10000\n",
    "    sig = stress(20, esp)\n",
    "    sig_list.append(sig)\n",
    "    esp_list.append(esp)\n",
    "    \n",
    "matplotlib.pyplot.plot(esp_list, sig_list)\n",
    "matplotlib.pyplot.xlabel(\"Strain MPa\")\n",
    "matplotlib.pyplot.ylabel(\"Stress MPa\")\n",
    "\n"
   ]
  }
 ],
 "metadata": {
  "kernelspec": {
   "display_name": "Python 3 (ipykernel)",
   "language": "python",
   "name": "python3"
  },
  "language_info": {
   "codemirror_mode": {
    "name": "ipython",
    "version": 3
   },
   "file_extension": ".py",
   "mimetype": "text/x-python",
   "name": "python",
   "nbconvert_exporter": "python",
   "pygments_lexer": "ipython3",
   "version": "3.9.13"
  }
 },
 "nbformat": 4,
 "nbformat_minor": 5
}
