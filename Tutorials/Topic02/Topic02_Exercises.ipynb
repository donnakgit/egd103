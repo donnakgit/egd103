{
 "cells": [
  {
   "cell_type": "markdown",
   "id": "1dcaabca",
   "metadata": {},
   "source": [
    "# Topic: Assignment and Functions\n",
    "\n",
    "## Python Concepts: \n",
    "* Variables\n",
    "* Assignment Statements\n",
    "* Defining new functions\n",
    "* Returning value from function\n",
    "* Parameters and arguments\n",
    "\n",
    "### Keywords\n",
    "* <code>def</code>\n",
    "* <code>return</code>"
   ]
  },
  {
   "cell_type": "markdown",
   "id": "7e069b29",
   "metadata": {},
   "source": [
    "## EXERCISES:    \n",
    "\n",
    "### [Variables_and_Assignment](#variables_and_assignment)\n",
    "> [Average Speed](#average_speed)<br/>\n",
    "> [Earth vs Moon](#earth_vs_moon)<br/>\n",
    "> [Microcentury](#microcentury)\n",
    "\n",
    "### [Code Tracing](#code_tracing)\n",
    "\n",
    "### [User Defined Functions](#user_defined_functions)\n",
    "> [Hot Air Balloon](#hot_air_balloon)<br/>\n",
    "> [Transport Safety](#transport_safety)<br/>\n",
    "> [Distance Travelled](#distance_travelled)<br/>\n",
    "> [Difference in Distance Travelled](#difference_in_distance_travelled)<br/>\n",
    "> [Road Curvature Design](#road_curvature_design)\n",
    "\n",
    "### [Function Call Control Flow](#function_call_control)\n",
    "\n",
    "### [Derivatives](#derivatives)\n",
    "> [Find 𝑓′(𝑥^2)](#find_𝑓′(𝑥2))\n",
    "        <br>\n",
    "> [Find 𝑓′(a𝑥^b)](#find_𝑓′(a𝑥b))\n",
    "        <br>\n",
    "> [Find 𝑓′(4𝑥^2+7𝑥^3−9𝑥+5)](#find_𝑓′(4𝑥2+7𝑥3−9𝑥+5))\n",
    "        <br>\n",
    "> [Find 𝑓′(𝑎𝑥^𝑏)](#find_𝑓′(𝑎𝑥𝑏))\n",
    "        <br>\n",
    "> [Find 𝑓′(a√𝑥)](#find_𝑓′((√𝑥))\n",
    "        <br>\n",
    "> [Find 𝑓′(a√𝑥^b)](#find_𝑓′(a√𝑥b))\n",
    "       <br>\n"
   ]
  },
  {
   "cell_type": "markdown",
   "id": "1c615356-abd7-448d-b17a-923755a482cd",
   "metadata": {},
   "source": [
    "<a name=\"variables_and_assignment\"></a>\n",
    "<hr/>\n",
    "\n",
    "# Variables and Assignment"
   ]
  },
  {
   "cell_type": "markdown",
   "id": "49377f7c-186f-4d49-b798-3085891f8dc9",
   "metadata": {
    "tags": []
   },
   "source": [
    "<a name=\"average_speed\">\n",
    "<b>Average Speed</b></a>"
   ]
  },
  {
   "cell_type": "code",
   "execution_count": 1,
   "id": "f37616e8-0d13-4677-9909-647f3a6ccadf",
   "metadata": {},
   "outputs": [
    {
     "data": {
      "text/plain": [
       "24.0"
      ]
     },
     "execution_count": 1,
     "metadata": {},
     "output_type": "execute_result"
    }
   ],
   "source": [
    "# Author: Colin Fidge 2021\n",
    "# Imagine that you get on your bicycle and travel from\n",
    "# your home to QUT at 30 km/hr.  After a hard day's\n",
    "# study you cycle home again more slowly at 20 km/hr.\n",
    "#\n",
    "# Quickly now, what is your average speed for the whole\n",
    "# round trip?  Be careful - most people get this\n",
    "# wrong!  (Thanks to Professor Julius Sumner Miller for\n",
    "# this brainteaser.)\n",
    "#\n",
    "# To check the correct answer, complete the code below.\n",
    "# We have chosen an arbitrary distance of 6 km between\n",
    "# your house and the university but the result is the\n",
    "# same regardless of the distance.\n",
    "\n",
    "# Given values:\n",
    "distance_from_home_to_uni = 6 # km\n",
    "speed_from_home_to_uni = 30 # km/hr\n",
    "speed_from_uni_to_home = 20 # km/hr\n",
    "\n",
    "# Complete the following code by replacing the question marks:\n",
    "\n",
    "time_to_get_to_uni = ??? # hours\n",
    "\n",
    "time_to_get_home = ??? # hours\n",
    "\n",
    "total_travelling_time = ??? # hours\n",
    "\n",
    "total_distance_travelled = ??? # km\n",
    "\n",
    "speed_for_round_trip = ??? # km/hr\n",
    "\n",
    "speed_for_round_trip"
   ]
  },
  {
   "cell_type": "markdown",
   "id": "63175083-14fe-46e5-aad4-f51683a3267e",
   "metadata": {},
   "source": [
    "<a name=\"earth_vs_moon\"></a>\n",
    "<b>Earth vs Moon</b>"
   ]
  },
  {
   "cell_type": "code",
   "execution_count": 2,
   "id": "899e5891-05f4-412b-a943-64135ff38ad4",
   "metadata": {},
   "outputs": [
    {
     "name": "stdout",
     "output_type": "stream",
     "text": [
      "37936694.78750525 147900000.0\n"
     ]
    }
   ],
   "source": [
    "# Which has more dry land, the earth or the moon?\n",
    "# [Quiz question from Time magazine]\n",
    "# Author: Colin Fidge (2021)\n",
    "\n",
    "# Complete the following code by replacing the question marks:\n",
    "\n",
    "import math\n",
    "\n",
    "# First calculate the amount of dry land on the earth\n",
    "\n",
    "# The surface area of the earth is 5.1 x 10^8 sq km\n",
    "earths_surface_area = ??? # sq km\n",
    "\n",
    "# 71% of the earth's surface is covered in water.\n",
    "earths_water_area = ???\n",
    "\n",
    "earths_dry_land = ???\n",
    "\n",
    "# Now calculate the moon's surface area\n",
    "# NB: There is no water on the moon!\n",
    "# Remember that the surface area of a sphere is\n",
    "# 4 times pi times r squared\n",
    "\n",
    "# The diameter of the moon is 3,475 km\n",
    "moons_radius = ??? # km\n",
    "\n",
    "# Change the following expression to calculate the moons dry land\n",
    "# using the variable moons_radius\n",
    "# Answer is: 37936694 \n",
    "\n",
    "moons_dry_land = ??? # change the RHS of this expression\n",
    "\n",
    "# Which has more dry land, the earth or the moon?\n",
    "\n",
    "print(moons_dry_land, earths_dry_land)"
   ]
  },
  {
   "cell_type": "markdown",
   "id": "6639c9fc-53b4-4e92-9404-9f4261ae2d3b",
   "metadata": {
    "tags": []
   },
   "source": [
    "<a name=\"microcentury\"></a>\n",
    "<b>Microcentury</b>"
   ]
  },
  {
   "cell_type": "code",
   "execution_count": 3,
   "id": "f30b34c8-7c7b-4d73-a86c-4108c8ce266c",
   "metadata": {},
   "outputs": [
    {
     "data": {
      "text/plain": [
       "52.56"
      ]
     },
     "execution_count": 3,
     "metadata": {},
     "output_type": "execute_result"
    }
   ],
   "source": [
    "# When asked how long his lectures were, Professor\n",
    "# Julius Sumner Miller usually answered \"about a\n",
    "# microcentury.\"  As an arithmetic exercise\n",
    "# we can find out how many minutes in a microcentury\n",
    "# by multiplying the minutes in an hour x hours in a day x\n",
    "# days in a year x years in a century\n",
    "# then dividing by 1 million (\"micro\" means one millionth).\n",
    "\n",
    "# Some of the values are familiar to us without much thought:\n",
    "minutes_per_hour = 60\n",
    "hours_per_day = 24\n",
    "days_per_year = 365 # ish\n",
    "years_per_century = 100\n",
    "\n",
    "# But others require a bit of calculation.\n",
    "# For each of the remaining variables, change the question marks \n",
    "# to an appropriate expression that uses the variables\n",
    "# above, and no numeric literals\n",
    "\n",
    "minutes_per_day = ???\n",
    "minutes_per_century = ???\n",
    "microcentury = ???\n",
    "\n",
    "microcentury"
   ]
  },
  {
   "cell_type": "markdown",
   "id": "a9f80050-c6a5-4abb-a2f7-e8e61bcf2bff",
   "metadata": {},
   "source": [
    "<a name=\"code_tracing\"></a>\n",
    "<hr/>\n",
    "\n",
    "# Code Tracing"
   ]
  },
  {
   "cell_type": "code",
   "execution_count": 4,
   "id": "8fbade2b-a9c6-4032-82e6-7dfb0eb3cb0d",
   "metadata": {
    "tags": []
   },
   "outputs": [
    {
     "name": "stdout",
     "output_type": "stream",
     "text": [
      "3489.48 2452.04\n"
     ]
    }
   ],
   "source": [
    "# Now trace the following code with a Trace Table.\n",
    "# You will need a piece of paper with some columns for each variable.\n",
    "# Check that the final value for each variable is the same as that\n",
    "# produced by the Python code\n",
    "\n",
    "# Scenario:\n",
    "# Savings account attracts no fees for deposits or withdrawals.\n",
    "# The Bank charges a fee of 1% per credit card transaction!\n",
    "# Credit charge calculations are rounded to two decimal places\n",
    "\n",
    "# opening balance of two bank accounts\n",
    "savings_account = 1535.0 # credit\n",
    "credit_account = 2997.56  # available credit \n",
    "\n",
    "# Some transactions on those accounts\n",
    "# Deposit salary into savings acccount\n",
    "salary = 2500\n",
    "savings_account += salary # shortform of: savings_account = savings_account + salary\n",
    "\n",
    "# Pay a bill using the credit account\n",
    "rego_fees = 540.12\n",
    "credit_charge = round(rego_fees * .01, 2)\n",
    "credit_account = credit_account - (rego_fees + credit_charge)\n",
    "\n",
    "# Transfer from savings to cover rego payment and charges\n",
    "savings_account -= rego_fees + credit_charge # shortform of: savings_account = savings_account - (rego_fees + credit_charge)\n",
    "\n",
    "print(savings_account, credit_account)"
   ]
  },
  {
   "cell_type": "markdown",
   "id": "6d598c74-fd2c-478d-918c-6a70f7625d4e",
   "metadata": {},
   "source": [
    "<div style=\"background-color:pink\">\n",
    "Now trace the above code using the Jupyter Debugger.\n",
    "</div>"
   ]
  },
  {
   "cell_type": "markdown",
   "id": "4dc328ba-d63b-4672-a7db-547b6a126885",
   "metadata": {},
   "source": [
    "## User Defined Functions\n",
    "\n",
    "<a name=\"user_defined_functions\"> </a>\n"
   ]
  },
  {
   "cell_type": "markdown",
   "id": "0afa0c57-c55d-4123-a917-c7fe3ff4928c",
   "metadata": {},
   "source": [
    "\n",
    "<a name=\"hot_air_balloon\"><b>Hot Air Balloon\n",
    "    </b></a>"
   ]
  },
  {
   "cell_type": "code",
   "execution_count": 5,
   "id": "8f4d8c19-4209-4ad7-8d7a-770f36211e53",
   "metadata": {},
   "outputs": [
    {
     "data": {
      "text/plain": [
       "41092.031908954494"
      ]
     },
     "execution_count": 5,
     "metadata": {},
     "output_type": "execute_result"
    }
   ],
   "source": [
    "# Write a function to calculate the maximum weight a hot air balloon of\n",
    "# negligible mass can carry given:\n",
    "# a radius (in metres) and the outside and inside air densities\n",
    "\n",
    "# Use the Buoyancy force equation:\n",
    "#     F = ρV g\n",
    "# where:\n",
    "#    F is the Buoyancy force\n",
    "#    ρ is the density difference\n",
    "#    V is the displaced volume (4/3 πr^3) and \n",
    "#    g is the local gravitational constant (normally assumed to be equal to 9.81).\n",
    "\n",
    "# Using Newton’s third law; we find that the maximum weight it could carry\n",
    "# equals the lifting force of the balloon. Therefore: F_max = ρV g\n",
    "\n",
    "# WRITE YOUR FUNCTION HERE\n",
    "\n",
    "# Test 1 - outside air density is 1.2 kg.m^-3; inside helium is 0.2 kg.m^-3\n",
    "hot_air_balloon_capacity(10, 1.2, 0.2) \n",
    "# should return 41092.03190895449"
   ]
  },
  {
   "cell_type": "code",
   "execution_count": 6,
   "id": "61b382b9-0f28-4cb4-855d-15881ce4142b",
   "metadata": {},
   "outputs": [
    {
     "data": {
      "text/plain": [
       "45616.26462213038"
      ]
     },
     "execution_count": 6,
     "metadata": {},
     "output_type": "execute_result"
    }
   ],
   "source": [
    "# Test 2 - outside air density is 1.2 kg.m^-3; inside hydrogen is 0.0899 kg.m^-3\n",
    "hot_air_balloon_capacity(10, 1.2, 0.0899)\n",
    "# should return 45616.264622130366"
   ]
  },
  {
   "cell_type": "markdown",
   "id": "700faf57-d96a-44f5-878d-b22e48642744",
   "metadata": {},
   "source": [
    "<a name=\"transport_safety\"><a>\n",
    "## Transport - Safety\n"
   ]
  },
  {
   "cell_type": "markdown",
   "id": "28ba873b-fb02-4045-bd4a-dedced6d4968",
   "metadata": {},
   "source": [
    "Formulas:\n",
    "    <ul><li>distance travelled = $\\frac{5}{18} sr$\n",
    "    </li>\n",
    "    </ul>\n",
    "Where:\n",
    "* s = speed\n",
    "* r = reaction time\n",
    "\n",
    "<hr>"
   ]
  },
  {
   "cell_type": "markdown",
   "id": "b3cbe86d-eaaa-4226-ad98-372434bc5afd",
   "metadata": {},
   "source": [
    "\n",
    "<a name=\"distance_travelled\"><b>Distance Travelled</b></a>"
   ]
  },
  {
   "cell_type": "code",
   "execution_count": 7,
   "id": "62bedfb6-5e08-4103-9ce1-dc1ddfe12290",
   "metadata": {},
   "outputs": [
    {
     "data": {
      "text/plain": [
       "33.333333333333336"
      ]
     },
     "execution_count": 7,
     "metadata": {},
     "output_type": "execute_result"
    }
   ],
   "source": [
    "# Time taken by a driver of a vehicle to react to a situation is termed as \n",
    "# drivers’ reaction time. \n",
    "\n",
    "# Define a function to estimate the distance (in metres)\n",
    "# travelled by the vehicle before driver initiates \n",
    "# a physical response to a situation (such as commence breaking).\n",
    "def distance_travelled(speed, reaction_time):\n",
    "    \n",
    "    # Write your solution here\n",
    "    \n",
    "distance_travelled(100, 1.2)\n",
    "# should return 33.333333333333336"
   ]
  },
  {
   "cell_type": "markdown",
   "id": "cb096fc1-a21b-434f-9785-9420872288ce",
   "metadata": {},
   "source": [
    "\n",
    "<a name=\"difference_in_distance_travelled\"><b>Difference in Distance Travelled\n",
    "    </b></a>"
   ]
  },
  {
   "cell_type": "code",
   "execution_count": 8,
   "id": "5a818b89-2a97-46a6-85d5-8b69fda433ad",
   "metadata": {},
   "outputs": [
    {
     "data": {
      "text/plain": [
       "105.55555555555554"
      ]
     },
     "execution_count": 8,
     "metadata": {},
     "output_type": "execute_result"
    }
   ],
   "source": [
    "# Driving under the influence of alcohol has a significant impact on drivers’ driving ability.\n",
    "# Say a driver has a normal reaction time of 1.2 seconds and his/her reaction time\n",
    "# increases to 5 seconds for driving under the influence of alcohol. \n",
    "# A driver is diving at a speed of 100 km/hr and is unfortunately under the influence \n",
    "# of alcohol. Compared to a normal situation, how much extra the vehicle will move \n",
    "# before driver initiates a physical response to the situation?\n",
    "\n",
    "# Use the distance_travelled function again to find the difference."
   ]
  },
  {
   "cell_type": "markdown",
   "id": "a2f04b62-9100-4319-95ab-a6d9186e7034",
   "metadata": {},
   "source": [
    "<hr>\n",
    "<a name=\"road_curvature_design\"><b>Road Curvature Design\n",
    "    </b></a>"
   ]
  },
  {
   "cell_type": "markdown",
   "id": "5fa9448d-441f-498a-aed4-d611a4c93b68",
   "metadata": {},
   "source": [
    "minimum radius of curvature: $R = \\frac{S^2}{127 . (f + e)}$\n",
    "where:\n",
    "* R = minimum radiusc of curvature in meters\n",
    "* S = speed in km/hr\n",
    "* f = coefficient of side friction on the road \n",
    "* e = superelevation expressed as a decimal\n"
   ]
  },
  {
   "cell_type": "code",
   "execution_count": 9,
   "id": "5c79d8f8-07b7-4dcc-9882-5a11cd5bd780",
   "metadata": {},
   "outputs": [
    {
     "name": "stdout",
     "output_type": "stream",
     "text": [
      "TestResults(failed=0, attempted=1)\n"
     ]
    }
   ],
   "source": [
    "# Roads are not perfectly straight and do have curves in the horizontal plane. \n",
    "# For safe driving, the horizontal curvature of the road should have minimum radius \n",
    "# (termed as minimum radius of curvature) and it is expressed as the equation shown above.\n",
    "            \n",
    "# Write a Python function to estimate R, given S, f and e.\n",
    "\n",
    "def radius_of_curvature(speed, friction, superelevation):\n",
    "    \n",
    "    # replace this 'do nothing' function body with your solution\n",
    "    pass\n",
    "\n",
    "\n",
    "#---------------------------------------------------------\n",
    "# The following is a 'doctest' that will automatically run\n",
    "# when you execute the code in this cell.  Each doctest\n",
    "# must include a call to the function with appropriate\n",
    "# argument/s, followed by the expected output from that \n",
    "# function call.  When executed, you will see a summary of\n",
    "# what tests have passed and failed.  For example, in this case:\n",
    "#     TestResults(failed=0, attempted=1)\n",
    "\n",
    "\"\"\" \n",
    "\n",
    ">>> radius_of_curvature(80, 0.14, 0.08) # Test 1 \n",
    "229.06227630637076\n",
    "\n",
    "# add another test of your own to test your function\n",
    "# using the same syntax as the two lines above ie:\n",
    "#      >>> -function call-(-argument/s-)\n",
    "#      -expected result-\n",
    "\n",
    "\n",
    "\"\"\"\n",
    "#---------------------------------------------------------\n",
    "# This main program executes all the tests above when this\n",
    "# code is run.  Comment out the code below if you do not want\n",
    "# to run the tests automatically.\n",
    "\n",
    "from doctest import testmod, REPORT_ONLY_FIRST_FAILURE\n",
    "print(testmod(verbose = False,\n",
    "              optionflags = REPORT_ONLY_FIRST_FAILURE))"
   ]
  },
  {
   "cell_type": "markdown",
   "id": "19b86124-4339-455f-ab30-897bca60d70d",
   "metadata": {
    "tags": []
   },
   "source": [
    "<a name=\"function_call_control\"></a>\n",
    "<hr/>\n",
    "\n",
    "# Function Call Control Flow\n"
   ]
  },
  {
   "cell_type": "code",
   "execution_count": 10,
   "id": "5dec66fb-959d-44e7-a8e6-ecd70d25a22e",
   "metadata": {},
   "outputs": [
    {
     "ename": "ZeroDivisionError",
     "evalue": "float division by zero",
     "output_type": "error",
     "traceback": [
      "\u001b[0;31m---------------------------------------------------------------------------\u001b[0m",
      "\u001b[0;31mZeroDivisionError\u001b[0m                         Traceback (most recent call last)",
      "Cell \u001b[0;32mIn [10], line 25\u001b[0m\n\u001b[1;32m     22\u001b[0m tile_size \u001b[38;5;241m=\u001b[39m \u001b[38;5;241m0.9\u001b[39m\n\u001b[1;32m     24\u001b[0m \u001b[38;5;66;03m# Calculate and display the number of tiles required to completely cover the floor\u001b[39;00m\n\u001b[0;32m---> 25\u001b[0m get_tiles_required(get_surface_area(room_width, room_length), math\u001b[38;5;241m.\u001b[39mfloor(tile_size))\n",
      "Cell \u001b[0;32mIn [10], line 17\u001b[0m, in \u001b[0;36mget_tiles_required\u001b[0;34m(surface_area, tile_area)\u001b[0m\n\u001b[1;32m     16\u001b[0m \u001b[38;5;28;01mdef\u001b[39;00m \u001b[38;5;21mget_tiles_required\u001b[39m(surface_area, tile_area):\n\u001b[0;32m---> 17\u001b[0m     \u001b[38;5;28;01mreturn\u001b[39;00m math\u001b[38;5;241m.\u001b[39mceil(\u001b[43msurface_area\u001b[49m\u001b[43m \u001b[49m\u001b[38;5;241;43m/\u001b[39;49m\u001b[43m \u001b[49m\u001b[43mtile_area\u001b[49m)\n",
      "\u001b[0;31mZeroDivisionError\u001b[0m: float division by zero"
     ]
    }
   ],
   "source": [
    "# This exercise is designed to illustrate the order and flow of execution\n",
    "# of Python code that involves function calls.  The code below\n",
    "# calculates the number of carpet tiles required to completely\n",
    "# cover a floor in a building. However, it contains a logical error... \n",
    "\n",
    "import math\n",
    "\n",
    "# Given a rectangular room's dimensions in metres,\n",
    "# calculate the floor area \n",
    "def get_surface_area(width, length):\n",
    "    return width * length\n",
    "\n",
    "# Given the surface area of a room and the size of a single carpet tile,\n",
    "# calculate the number of tiles required to cover the entire room (assuming\n",
    "# no space is required between the tiles).\n",
    "def get_tiles_required(surface_area, tile_area):\n",
    "    return math.ceil(surface_area / tile_area)\n",
    "\n",
    "# Here are the dimensions of the room and tiles\n",
    "room_width =  5.1\n",
    "room_length = 3.3\n",
    "tile_size = 0.9\n",
    "\n",
    "# Calculate and display the number of tiles required to completely cover the floor\n",
    "get_tiles_required(get_surface_area(room_width, room_length), math.floor(tile_size))\n",
    "\n",
    "# As you will see when you execute this code, it generates a runtime error.  \n",
    "\n",
    "# Looking at the code, list the function calls in the order they would be made by Python.\n",
    "\n",
    "# Now look at the traceback information that is displayed below after you run the code.\n",
    "# It is obvious that an error has occurred because the output is highlighted in a striking colour!\n",
    "# The traceback indicates the flow of control from top to bottom - that is, the last --->\n",
    "# that you see in the traceback indicates the line of code where the exception (error) is generated,\n",
    "# and the previous ---> in the traceback is the call that is made prior to that.\n",
    "\n",
    "# You may also use the debugger and/or the post mortem debugger to help diagnose the problem if necessary. \n",
    "# To access the post mortem debugger after an error has occured, execute a new code cell containing \"%debug\".\n",
    "\n",
    "# Now rectify the code where the error originated by removing an unnecessary and illogical, but aptly named function call."
   ]
  },
  {
   "cell_type": "markdown",
   "id": "190358b9-d0da-4253-9e88-af125fbe77a2",
   "metadata": {},
   "source": [
    "<hr>\n",
    "\n",
    "<a name=\"derivatives\"><a>\n",
    "# Context: Derivatives\n",
    "    \n",
    "### $f'(x)$\n",
    "\"Find the derivative of x\"\n",
    "\n",
    "Notes:\n",
    "    <ul><li>$f'(ax^b) = a . b . x^{b-1}$\n",
    "    </li>\n",
    "    <li>the derivative of a constant is $0$\n",
    "    </li>\n",
    "    </ul>\n",
    "<hr>\n",
    "\n"
   ]
  },
  {
   "cell_type": "markdown",
   "id": "56cac558-a19a-497d-8ee3-41cca5f1d17e",
   "metadata": {},
   "source": [
    "<a name=\"find_𝑓′(𝑥2)\"><b>Derivatives - Q: Find $f'(x^2)$\n",
    "    </b></a>"
   ]
  },
  {
   "cell_type": "code",
   "execution_count": 11,
   "id": "a1315326-c29f-44b3-95e9-96f6b92c24bd",
   "metadata": {},
   "outputs": [
    {
     "name": "stdout",
     "output_type": "stream",
     "text": [
      "TestResults(failed=0, attempted=4)\n"
     ]
    }
   ],
   "source": [
    "# Given x, write a function to calculate and\n",
    "# return the derivative of the above.\n",
    "\n",
    "def find_derivative_2(x):\n",
    "    return 2 * x ** 1\n",
    "   \n",
    "\n",
    "#---------------------------------------------------------\n",
    "# These are the tests your function must pass.\n",
    "\n",
    "\"\"\" \n",
    "\n",
    ">>> find_derivative_2(2) # Test 1 \n",
    "4\n",
    "\n",
    ">>> find_derivative_2(10) # Test 2\n",
    "20\n",
    "\n",
    ">>> find_derivative_2(-7) # Test 3\n",
    "-14\n",
    "\n",
    ">>> find_derivative_2(8 ** 5) # Test 4\n",
    "65536\n",
    "\n",
    "\n",
    "\"\"\"\n",
    "#---------------------------------------------------------\n",
    "# This main program executes all the tests above when this\n",
    "# code is run.  Comment out the code below if you do not want\n",
    "# to run the tests automatically.\n",
    "\n",
    "from doctest import testmod, REPORT_ONLY_FIRST_FAILURE\n",
    "print(testmod(verbose = False,\n",
    "              optionflags = REPORT_ONLY_FIRST_FAILURE))\n"
   ]
  },
  {
   "cell_type": "markdown",
   "id": "c3f12d37-1c9d-4557-b8be-9537b22708d6",
   "metadata": {},
   "source": [
    "<hr>\n",
    "<a name=\"find_𝑓′(a𝑥b)\"><b>Derivatives - Q: Find $f'(ax^b)$\n",
    "    </b></a>"
   ]
  },
  {
   "cell_type": "code",
   "execution_count": 12,
   "id": "87704ba8-398a-4e49-bc96-8fa689c4b3f0",
   "metadata": {},
   "outputs": [
    {
     "name": "stdout",
     "output_type": "stream",
     "text": [
      "TestResults(failed=0, attempted=6)\n"
     ]
    }
   ],
   "source": [
    "# Given the coefficient, x and exponent, \n",
    "# write a function to calculate and return the derivative of the above.\n",
    "\n",
    "# SAMPLE SOLUTION\n",
    "def find_derivative_3(x, coefficient, exponent):\n",
    "    return coefficient * exponent * (x ** (exponent - 1))\n",
    "   \n",
    "\n",
    "#---------------------------------------------------------\n",
    "# These are the tests your function must pass.\n",
    "\n",
    "\"\"\" \n",
    "\n",
    ">>> find_derivative_3(3, 5, 2) # Test 1 \n",
    "30\n",
    "\n",
    ">>> find_derivative_3(3, 13, 2) # Test 2\n",
    "78\n",
    "\n",
    ">>> find_derivative_3(9 * 3, 2, 5) # Test 3 - large x\n",
    "5314410\n",
    "\n",
    ">>> find_derivative_3(-1, 1, 3) # Test 4 - negative x\n",
    "3\n",
    "\n",
    ">>> find_derivative_3(1, 4, 2) # Test 5 - x is 1\n",
    "8\n",
    "\n",
    ">>> find_derivative_3(0, 6, 1) # Test 6 - x is 0\n",
    "6\n",
    "\n",
    "\"\"\"\n",
    "#---------------------------------------------------------\n",
    "# This main program executes all the tests above when this\n",
    "# code is run.  Comment out the code below if you do not want\n",
    "# to run the tests automatically.\n",
    "\n",
    "from doctest import testmod, REPORT_ONLY_FIRST_FAILURE\n",
    "print(testmod(verbose = False,\n",
    "              optionflags = REPORT_ONLY_FIRST_FAILURE))\n"
   ]
  },
  {
   "cell_type": "markdown",
   "id": "b6a0d80c-7143-446a-a401-0302f71a9abf",
   "metadata": {},
   "source": [
    "<hr>\n",
    "<a name=\"find_𝑓′(4𝑥2+7𝑥3−9𝑥+5)\"><b>Derivatives - Q: Find $f'(4x^2 + 7x^3 - 9x + 5)$\n",
    "    </b></a>"
   ]
  },
  {
   "cell_type": "code",
   "execution_count": 13,
   "id": "24658355-78cc-4805-919b-7fe82e837e57",
   "metadata": {},
   "outputs": [
    {
     "name": "stdout",
     "output_type": "stream",
     "text": [
      "TestResults(failed=0, attempted=5)\n"
     ]
    }
   ],
   "source": [
    "# Given x, write a function to calculate and return the derivative of the above.\n",
    "\n",
    "# SAMPLE SOLUTION\n",
    "def find_derivative_4(x):\n",
    "    return 4 * 2 * x ** 1 + 7 * 3 * x ** 2 - 9 * 1 * x ** 0 + 5 * 0\n",
    "    # more simply: \n",
    "        # return 4 * 2 * x + 7 * 3 * x ** 2 - 9\n",
    "\n",
    "   \n",
    "\n",
    "#---------------------------------------------------------\n",
    "# These are the tests your function must pass.\n",
    "\n",
    "\"\"\" \n",
    "\n",
    ">>> find_derivative_4(4) # Test 1 \n",
    "359\n",
    "\n",
    ">>> find_derivative_4(14) # Test 2\n",
    "4219\n",
    "\n",
    ">>> find_derivative_4(-7) # Test 3 \n",
    "964\n",
    "\n",
    ">>> find_derivative_4(1) # Test 4\n",
    "20\n",
    "\n",
    ">>> find_derivative_4(0) # Test 5 \n",
    "-9\n",
    "\n",
    "\n",
    "\"\"\"\n",
    "#---------------------------------------------------------\n",
    "# This main program executes all the tests above when this\n",
    "# code is run.  Comment out the code below if you do not want\n",
    "# to run the tests automatically.\n",
    "\n",
    "from doctest import testmod, REPORT_ONLY_FIRST_FAILURE\n",
    "print(testmod(verbose = False,\n",
    "              optionflags = REPORT_ONLY_FIRST_FAILURE))\n"
   ]
  },
  {
   "cell_type": "markdown",
   "id": "ae09ec50-b6a2-4e7b-a3a5-8549052fdc86",
   "metadata": {},
   "source": [
    "<hr>\n",
    "<a name=\"find_𝑓′(𝑎𝑥𝑏)\"><b>Derivatives - Q: Find $f'(ax^b)$\n",
    "    </b></a>"
   ]
  },
  {
   "cell_type": "code",
   "execution_count": 14,
   "id": "df0632b7-fa25-49c8-b14f-d84b4453fdcb",
   "metadata": {},
   "outputs": [
    {
     "name": "stdout",
     "output_type": "stream",
     "text": [
      "TestResults(failed=0, attempted=5)\n"
     ]
    }
   ],
   "source": [
    "# Given x as well as the coefficient and exponent, write a function \n",
    "# to calculate and return the derivative of the above.\n",
    "\n",
    "# SAMPLE SOLUTION\n",
    "def find_derivative_5(x, coefficient, exponent):\n",
    "    return coefficient * exponent * x ** (exponent - 1)\n",
    "   \n",
    "\n",
    "#---------------------------------------------------------\n",
    "# These are the tests your function must pass.\n",
    "\n",
    "\"\"\" \n",
    "\n",
    ">>> find_derivative_5(3, 5, 3) # Test 1 \n",
    "135\n",
    "\n",
    ">>> find_derivative_5(3, 2, 4) # Test 2\n",
    "216\n",
    "\n",
    ">>> find_derivative_5(1, 1, 1) # Test 3 \n",
    "1\n",
    "\n",
    ">>> find_derivative_5(-11, -3, 4) # Test 4\n",
    "15972\n",
    "\n",
    ">>> find_derivative_5(7, 2, .5) # Test 5\n",
    "0.37796447300922725\n",
    "\n",
    "\"\"\"\n",
    "#---------------------------------------------------------\n",
    "# This main program executes all the tests above when this\n",
    "# code is run.  Comment out the code below if you do not want\n",
    "# to run the tests automatically.\n",
    "\n",
    "from doctest import testmod, REPORT_ONLY_FIRST_FAILURE\n",
    "print(testmod(verbose = False,\n",
    "              optionflags = REPORT_ONLY_FIRST_FAILURE))\n"
   ]
  },
  {
   "cell_type": "markdown",
   "id": "0aacbbe9-f79d-478f-a6f9-e3984c5bdd8f",
   "metadata": {},
   "source": [
    "<hr>\n",
    "<a name=\"find_𝑓′((√𝑥)\"><b>Derivatives - Q: Find $f'(\\sqrt[a](x))$\n",
    "    </b></a>"
   ]
  },
  {
   "cell_type": "code",
   "execution_count": 15,
   "id": "e7511295-142c-4e55-871d-f4916f971465",
   "metadata": {},
   "outputs": [
    {
     "name": "stdout",
     "output_type": "stream",
     "text": [
      "TestResults(failed=0, attempted=5)\n"
     ]
    }
   ],
   "source": [
    "# Given x, write a function to calculate and return the derivative of the above, \n",
    "# rounded to 4 decimal places.\n",
    "\n",
    "# SAMPLE SOLUTION\n",
    "def find_derivative_6(x, root):\n",
    "    \n",
    "    return round(1 / root * x ** (1 / root - 1), 4)\n",
    "    \n",
    "\n",
    "#---------------------------------------------------------\n",
    "# These are the tests your function must pass.\n",
    "\n",
    "\"\"\" \n",
    "\n",
    ">>> find_derivative_6(5, 2) # Test 1 \n",
    "0.2236\n",
    "\n",
    ">>> find_derivative_6(7.5, 2) # Test 2\n",
    "0.1826\n",
    "\n",
    ">>> find_derivative_6(5, 7) # Test 3\n",
    "0.036\n",
    "\n",
    ">>> find_derivative_6(3, 3) # Test 4\n",
    "0.1602\n",
    "\n",
    ">>> find_derivative_6(1, 1) # Test 5 \n",
    "1.0\n",
    "\n",
    "\"\"\"\n",
    "#---------------------------------------------------------\n",
    "# This main program executes all the tests above when this\n",
    "# code is run.  Comment out the code below if you do not want\n",
    "# to run the tests automatically.\n",
    "\n",
    "from doctest import testmod, REPORT_ONLY_FIRST_FAILURE\n",
    "print(testmod(verbose = False,\n",
    "              optionflags = REPORT_ONLY_FIRST_FAILURE))\n",
    "\n"
   ]
  },
  {
   "cell_type": "markdown",
   "id": "3a73abe1-c6c4-4f86-8139-f707e44dcb31",
   "metadata": {},
   "source": [
    "<hr>\n",
    "<a name=\"find_𝑓′(a√𝑥b)\"><b>Derivatives - Q: Find $f'(\\sqrt[a](x^b))$\n",
    "    </b></a>"
   ]
  },
  {
   "cell_type": "code",
   "execution_count": 16,
   "id": "ba654bf0-51b7-4947-9193-c4fac6c83e88",
   "metadata": {},
   "outputs": [
    {
     "name": "stdout",
     "output_type": "stream",
     "text": [
      "TestResults(failed=0, attempted=4)\n"
     ]
    }
   ],
   "source": [
    "# Given x, root and exponent\n",
    "# define a function to calculate and return the derivative of the above\n",
    "\n",
    "# SAMPLE SOLUTION\n",
    "def find_derivative_7(x, root, exponent):\n",
    "    \n",
    "    return (exponent / root) * x ** ((exponent / root) - 1)\n",
    "    \n",
    "\n",
    "#---------------------------------------------------------\n",
    "# These are the tests your function must pass.\n",
    "\n",
    "\"\"\" \n",
    ">>> find_derivative_7(3, 4, 2) # Test 1\n",
    "0.28867513459481287\n",
    "\n",
    ">>> find_derivative_7(7.1, 4, 2) # Test 2\n",
    "0.18764665626020038\n",
    "\n",
    ">>> find_derivative_7(2.654, 3, 2) # Test 3\n",
    "0.4815134634093008\n",
    "\n",
    ">>> find_derivative_7(3, 4, 3) # Test 4\n",
    "0.5698767642386944\n",
    "\n",
    "\"\"\"\n",
    "\n",
    "#---------------------------------------------------------\n",
    "# This main program executes all the tests above when this\n",
    "# code is run.  Comment out the code below if you do not want\n",
    "# to run the tests automatically.\n",
    "\n",
    "from doctest import testmod, REPORT_ONLY_FIRST_FAILURE\n",
    "print(testmod(verbose = False,\n",
    "              optionflags = REPORT_ONLY_FIRST_FAILURE))\n",
    "\n"
   ]
  }
 ],
 "metadata": {
  "kernelspec": {
   "display_name": "Python 3 (ipykernel)",
   "language": "python",
   "name": "python3"
  },
  "language_info": {
   "codemirror_mode": {
    "name": "ipython",
    "version": 3
   },
   "file_extension": ".py",
   "mimetype": "text/x-python",
   "name": "python",
   "nbconvert_exporter": "python",
   "pygments_lexer": "ipython3",
   "version": "3.9.13"
  }
 },
 "nbformat": 4,
 "nbformat_minor": 5
}
