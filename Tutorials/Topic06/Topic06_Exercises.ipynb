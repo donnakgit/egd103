{
 "cells": [
  {
   "cell_type": "markdown",
   "id": "7ffec4e1-be90-40cf-8e14-18058b36bd5c",
   "metadata": {},
   "source": [
    "# Topic: More Data Types\n",
    "\n",
    "## Python Concepts: \n",
    "* list processing\n",
    "* NumPy arrays\n",
    "* File IO\n",
    "\n",
    "### Keywords\n",
    "<code>None</code>\n",
    "\n",
    "### Data Types\n",
    "* NumPy array (<code>ndarray</code>)\n",
    "* <code>dictionary</code>\n",
    "* <code>file</code>\n",
    "\n",
    "### Functions:\n",
    "* <code>IPython.core.display.HTML</code>\n",
    "* <code>random.randrange</code>\n",
    "* <code>open</code>\n",
    "\n",
    "### Methods:\n",
    "* <code><i>numpy</i>.array</code>\n",
    "* <code><i>numpy</i>.zeros</code>\n",
    "* <code><i>numpy</i>.shape</code>\n",
    "* <code><i>numpy</i>.add</code>\n",
    "* <code><i>numpy</i>.dot</code>\n",
    "* <code><i>numpy</i>.concatenate</code>\n",
    "* <code><i>file</i>.read</code>\n",
    "* <code><i>file</i>.close</code>\n",
    "* <code><i>str</i>.splitlines</code>\n",
    "\n",
    "\n",
    "### Modules:\n",
    "* <code>numpy</code>\n",
    "* <code>random</code>\n",
    "* <code>IPython</code>\n",
    "\n",
    "\n",
    "<hr>"
   ]
  },
  {
   "cell_type": "markdown",
   "id": "89b77d7a-690e-4d47-8c0a-424e89bebd68",
   "metadata": {},
   "source": [
    "<u><b>EXERCISES:</b></u>\n",
    "      <br>\n",
    "\n",
    "[Filling Lists](#filling_lists)\n",
    "\n",
    "[Linear Algebra](#linear_algebra)\n",
    "\n",
    ">[Matrices as Lists of Lists](#matrices_as_list_of_lists)\n",
    "        <br>\n",
    "                >>[Create Matrices](#create_matrices) <br>\n",
    "                >>[Dimensions](#dimensions) <br>\n",
    "                >>[Matrix Addition](#matrix_addition) <br>\n",
    "                >>[Matrix Multiplication](#matrix_multiplication) <br>\n",
    "                >>>[Multiplication - first element](#matrix_multiplication_first_element) <br>\n",
    "                >>>[Multiplication - second element](#matrix_multiplication_second_element) <br>\n",
    "                >>>[Multiplication - any specified element](#matrix_multiplication_any_specified_element) <br>\n",
    "                >>>[Multiplication - all elements (1st option)](#matrix_multiplication_all_elements_1) <br>\n",
    "                >>>[Multiplication - all elements (2nd option)](#matrix_multiplication_all_elements_2) <br>\n",
    "        \n",
    ">[Matrices as Arrays - using numpy](#matrices_as_arrays)\n",
    "        <br>\n",
    "                >>[Create Matrices](#create_matrices_arrays) <br>\n",
    "                >>[Dimensions](#dimensions_arrays) <br>\n",
    "                >>[Matrix Addition](#matrix_addition_arrays) <br>\n",
    "                >>[Matrix Multiplication](#matrix_multiplication_arrays) <br>\n",
    "\n",
    "[Noughts and crosses](#noughts_and_crosses)\n",
    "<br>\n",
    "\n",
    "\n",
    "[Wordle](#wordle)\n",
    "   <br>\n",
    "\n",
    "<hr>"
   ]
  },
  {
   "cell_type": "markdown",
   "id": "d8209b3f-6286-48d0-b00c-de6aa1d26160",
   "metadata": {
    "tags": []
   },
   "source": [
    "<a name=\"filling_lists\"><a>\n",
    "    \n",
    "<b>Q: Filling Lists</b>"
   ]
  },
  {
   "cell_type": "code",
   "execution_count": null,
   "id": "10425ab7-e5bf-475a-981c-79134b66fb7c",
   "metadata": {},
   "outputs": [],
   "source": [
    "# We wish to fill a list to contain the first 100 square numbers: [0, 1, 2, 4, 9, 16, 25 ...]\n",
    "# It's too long to create manually, so we want to write a loop to create the list\n",
    "\n",
    "# Why does the following code not work?\n",
    "\n",
    "my_list = []\n",
    "for i in range(100):\n",
    "    my_list[i] = i * i\n",
    "print(my_list)\n",
    "\n"
   ]
  },
  {
   "cell_type": "code",
   "execution_count": null,
   "id": "75bbc9b2-4e77-4f8c-b163-32bc1ca01f7c",
   "metadata": {},
   "outputs": [],
   "source": [
    "# Rewrite the above code to incrementally append each element to the list, one by one\n",
    "\n",
    "# WRITE YOUR ANSWER HERE\n"
   ]
  },
  {
   "cell_type": "code",
   "execution_count": null,
   "id": "907e5db2-6b21-453a-bc5f-bf96be0c65d0",
   "metadata": {},
   "outputs": [],
   "source": [
    "# Rewrite the above code to create a list of size 100 where each element is 0\n",
    "\n",
    "# WRITE YOUR ANSWER HERE\n"
   ]
  },
  {
   "cell_type": "code",
   "execution_count": null,
   "id": "fb09bd90-f483-4270-ae6d-dea30053edde",
   "metadata": {},
   "outputs": [],
   "source": [
    "# Another way of achieving the same result is as follows:\n",
    "zeros = [0] * 100\n",
    "print(zeros)"
   ]
  },
  {
   "cell_type": "code",
   "execution_count": null,
   "id": "49b4de97-b681-442e-85ac-954ddc6584aa",
   "metadata": {},
   "outputs": [],
   "source": [
    "# Rewrite your code to compute the first 100 square numbers, but this time first create a list of 100 elements \n",
    "# that all have the (non)value None\n",
    "# (None is a Python keyword used to indicate a null value.)\n",
    "# And then update the elements to their correct value inside the loop\n",
    "\n",
    "# WRITE YOUR ANSWER HERE\n"
   ]
  },
  {
   "cell_type": "code",
   "execution_count": null,
   "id": "62b96244-41be-419c-9f5b-9fb56252ebc1",
   "metadata": {},
   "outputs": [],
   "source": [
    "# Another Python mechanism for achieving the same result is called a list comprehension), eg:\n",
    "\n",
    "squares = [index * index for index in range(100)]\n",
    "print(squares)"
   ]
  },
  {
   "cell_type": "code",
   "execution_count": null,
   "id": "6c5b8278-54bb-4314-9f55-3c21767c463c",
   "metadata": {},
   "outputs": [],
   "source": [
    "# Use a list comprehension to create a list of 100 numbers where each element is 0\n",
    "\n",
    "# WRITE YOUR ANSWER HERE\n"
   ]
  },
  {
   "cell_type": "code",
   "execution_count": null,
   "id": "c2fe57e4-1cd5-4dfd-b6b6-f4f9fc87a36d",
   "metadata": {},
   "outputs": [],
   "source": [
    "# Use a list comprehension to create a list of consecutive integer numbers from 0 to 99\n",
    "\n",
    "# WRITE YOUR ANSWER HERE\n"
   ]
  },
  {
   "cell_type": "markdown",
   "id": "270433de-3ec5-42ba-9202-340d15405ef6",
   "metadata": {},
   "source": [
    "Note: the for loop used in a list comprehension needn't be a simple range loop."
   ]
  },
  {
   "cell_type": "markdown",
   "id": "51110a8d-d654-4ac5-afd5-ca16ed21b94d",
   "metadata": {},
   "source": [
    "<a name=\"linear_algebra\"></a>\n",
    "\n",
    "# Linear Algebra\n",
    "\n",
    "https://en.wikipedia.org/wiki/Linear_algebra\n",
    "\n",
    "Linear algebra requires us to represent vectors and matrices.\n",
    "\n",
    "In this tutorial we will explore two different ways of representing Matrices in Python:\n",
    "1. As a <code>list</code> of <code>list</code>s\n",
    "2. As a <code>numpy</code> 2-dimensional <code>array</code>\n",
    "\n",
    "We will also consider two different ways of performing matrix and vector operations:\n",
    "1. Using high-level <code>numpy</code> functions\n",
    "2. Implemented ourselves using loops that access individual elements of <code>list</code>s and <code>array</code>s\n",
    "\n",
    "Clearly, using high-level <code>numpy</code> functions is simplier and more efficient, but there will be times when the operation we wish to perform is not available via a high-level library, so we need the programming skills to be able to implement any operation using primitive element-wise operations and loops. \n"
   ]
  },
  {
   "cell_type": "markdown",
   "id": "4e76db61-413f-4ced-a18d-785260ebe1c4",
   "metadata": {},
   "source": [
    "<a name=\"matrices_as_list_of_lists\"></a>\n",
    "# Matrices as <code>list</code>s of <code>list</code>s</b>"
   ]
  },
  {
   "cell_type": "markdown",
   "id": "560367f3-ec53-45f3-aa87-8f258eb661ab",
   "metadata": {},
   "source": [
    "<a name= \"create_matrices\">\n",
    "<b>Q: Create Matrices</b>"
   ]
  },
  {
   "cell_type": "markdown",
   "id": "e9ecddbd-402d-4df3-8745-b75e934146bb",
   "metadata": {},
   "source": [
    "Represent the following matrices in Python as <code>list</code>s of <code>list</code>s:\n",
    "\n",
    "$$\n",
    "first = \\begin{bmatrix} \n",
    "1 & 2 & 3 \\\\\n",
    "4 & 5 & 6 \n",
    "\\end{bmatrix},\n",
    "second = \\begin{bmatrix} \n",
    "10 & 11 & 12 \\\\\n",
    "13 & 14 & 15 \n",
    "\\end{bmatrix}\n",
    "$$"
   ]
  },
  {
   "cell_type": "code",
   "execution_count": null,
   "id": "44edf31e-a946-4aab-a062-08318297a973",
   "metadata": {},
   "outputs": [],
   "source": [
    "# WRITE YOUR ANSWER HERE\n"
   ]
  },
  {
   "cell_type": "markdown",
   "id": "e0c9b57b-60b6-4e01-a817-4c9995754354",
   "metadata": {},
   "source": [
    "<a name= \"dimensions\"></a>\n",
    "<b>Q: Dimensions</b><br>\n",
    "\n",
    "Write a function to compute the dimensions of a matrix represented as a <code>list</code> of <code>list</code>s.\n",
    "\n",
    "The function should return a <code>tuple</code> that contains the number of <b>rows</b> and number of <b>columns</b> in the given matrix."
   ]
  },
  {
   "cell_type": "code",
   "execution_count": null,
   "id": "b36964b3-4195-484c-84aa-c6e2d1d4b7e7",
   "metadata": {},
   "outputs": [],
   "source": [
    "# Return the row and column dimensions of the given matrix\n",
    "def dimensions(matrix):\n",
    "    \n",
    "    # WRITE YOUR ANSWER HERE\n",
    "\n",
    "\n",
    "#---------------------------------------------------------\n",
    "# These are the tests your function must pass.\n",
    "\n",
    "\"\"\" \n",
    ">>> dimensions(first)  # Test 1 - using example above\n",
    "(2, 3)\n",
    "\n",
    ">>> dimensions(second)  # Test 2 - using example above\n",
    "(2, 3)\n",
    "\n",
    ">>> dimensions([[1, 2, 3, 4, 5], [6, 7, 8, 9, 10]])  # Test 3\n",
    "(2, 5)\n",
    "\n",
    ">>> dimensions([[1, 2], [3, 4], [5, 6], [7, 8], [9, 10]])  # Test 4\n",
    "(5, 2)\n",
    "\n",
    "\"\"\"\n",
    "\n",
    "#---------------------------------------------------------\n",
    "# This main program executes all the tests above when this\n",
    "# code is run.  Comment out the code below if you do not want\n",
    "# to run the tests automatically.\n",
    "\n",
    "from doctest import testmod\n",
    "print(testmod(verbose = False))"
   ]
  },
  {
   "cell_type": "markdown",
   "id": "3ac4a5e8-967f-49de-b118-7890adca4b59",
   "metadata": {},
   "source": [
    "<a name = \"matrix_addition\"></a>\n",
    "\n",
    "<b>Q: Matrix Addition</b>\n",
    "<br>\n",
    "\n",
    "Write a function that adds together two matrices.\n",
    "\n",
    "The result for the above two matrices should be:\n",
    "\n",
    "$$\\begin{bmatrix} \n",
    "11 & 13 & 15 \\\\\n",
    "17 & 19 & 21 \n",
    "\\end{bmatrix}\n",
    "$$\n",
    "\n",
    "Use the <code>dimensions</code> function above in your solution.\n",
    "\n",
    "You can also assume that the two matrices provided as input have the same dimensions. You can check that by using the following Python code:\n",
    "\n",
    "<code>assert dimensions(matrix_a) == dimensions(matrix_b)</code>"
   ]
  },
  {
   "cell_type": "code",
   "execution_count": null,
   "id": "463748a4-f794-4cef-b250-44bfa741dbea",
   "metadata": {},
   "outputs": [],
   "source": [
    "# Return a matrix as the result of adding\n",
    "# two given matrices\n",
    "def matrix_add(matrix_a, matrix_b):\n",
    "    assert dimensions(matrix_a) == dimensions(matrix_b)\n",
    "    \n",
    "    # WRITE YOUR ANSWER HERE\n",
    "\n",
    "    \n",
    "    \n",
    "#---------------------------------------------------------\n",
    "# These are the tests your function must pass.\n",
    "\n",
    "\"\"\" \n",
    ">>> matrix_add(first, second)  # Test 1 - using example above\n",
    "[[11, 13, 15], [17, 19, 21]]\n",
    "\n",
    "\n",
    ">>> matrix_add([[1, 2, 3, 4, 5], [6, 7, 8, 9, 10]], [[11, 12, 13, 14, 15], [16, 17, 18, 19, 20]])  # Test 2\n",
    "[[12, 14, 16, 18, 20], [22, 24, 26, 28, 30]]\n",
    "\n",
    "\n",
    ">>> matrix_add([[1, 2], [3, 4], [5, 6], [7, 8], [9, 10]], [[1, 1], [1, 1], [1, 1], [1, 1], [1, 1]])  # Test 3\n",
    "[[2, 3], [4, 5], [6, 7], [8, 9], [10, 11]]\n",
    "\n",
    "\"\"\"\n",
    "\n",
    "#---------------------------------------------------------\n",
    "# This main program executes all the tests above when this\n",
    "# code is run.  Comment out the code below if you do not want\n",
    "# to run the tests automatically.\n",
    "\n",
    "from doctest import testmod\n",
    "print(testmod(verbose = False))"
   ]
  },
  {
   "cell_type": "markdown",
   "id": "a371cad8-92c0-45b1-a1fb-f5e5a0a0785b",
   "metadata": {},
   "source": [
    "<a name = \"matrix_multiplication\"></a>\n",
    "<b>Q: Matrix Multiplication</b>\n",
    "<br>\n",
    "\n",
    "To add two matrices, they need to have the same dimensions.\n",
    "\n",
    "To <i>multiply</i> two matrices, the number of columns of the first matrix must be the same as the number of rows in the second matrix.\n",
    "\n",
    "So, if the first matrix has dimension ($rowsA$, $colsA$), and the second matrix has dimension ($rowsB$, $colsB$), then $colsA$ must equal $rowsB$ and the result will have dimension ($rowsA$, $colsB$).\n",
    "\n",
    "So let's consider a new example that has those properties:\n",
    "\n",
    "$$\n",
    "matrix_1 = \\begin{bmatrix} \n",
    "1 & 2 & 3 \\\\\n",
    "4 & 5 & 6 \n",
    "\\end{bmatrix},\n",
    "matrix_2 = \\begin{bmatrix} \n",
    "10 & 11 \\\\\n",
    "12 & 13 \\\\\n",
    "14 & 15 \\\\\n",
    "\\end{bmatrix}\n",
    "$$\n",
    "\n",
    "Represent those matrices in Python as lists of lists:"
   ]
  },
  {
   "cell_type": "code",
   "execution_count": null,
   "id": "7a63864e-a9d2-42ba-8e37-9eace0cbfa3e",
   "metadata": {},
   "outputs": [],
   "source": [
    "# WRITE YOUR ANSWER HERE\n"
   ]
  },
  {
   "cell_type": "markdown",
   "id": "3e3f84ef-84ab-4708-ade7-a58fec784e1e",
   "metadata": {},
   "source": [
    "<b>Q: Matrix Multiplication - first element</b>\n",
    "<a name = \"matrix_multiplication_first_element\"></a>"
   ]
  },
  {
   "cell_type": "markdown",
   "id": "6cfef9d6-df92-42ed-91ed-1f9801797ede",
   "metadata": {},
   "source": [
    "In this case the result of multiplyng those two matrices will be:\n",
    "$$matrix_1 \\times matrix_2 = \\begin{bmatrix} \n",
    "76 & 82 \\\\\n",
    "184 & 199 \\\\\n",
    "\\end{bmatrix}\n",
    "$$\n",
    "\n",
    "Let's look at how this result is computed step by step (our algorithm will follow the same step by step proceedure).\n",
    "\n",
    "Firstly, the value $76$ in the result matrix is computed based on the first row of $matrix_1$ and the first column of $matrix_2$ (highlighted in blue below):\n",
    "\n",
    "$$matrix_1 \\times matrix_2 = \\begin{bmatrix} \n",
    "\\color{blue}{76} & 82 \\\\\n",
    "184 & 199 \\\\\n",
    "\\end{bmatrix}\n",
    "$$\n",
    "\n",
    "$$\n",
    "matrix_1 = \\begin{bmatrix} \n",
    "\\color{blue} 1 & \\color{blue}2 & \\color{blue}3 \\\\\n",
    "4 & 5 & 6 \n",
    "\\end{bmatrix},\n",
    "matrix_2 = \\begin{bmatrix} \n",
    "\\color{blue}{10} & 11 \\\\\n",
    "\\color{blue}{12} & 13 \\\\\n",
    "\\color{blue}{14} & 15 \\\\\n",
    "\\end{bmatrix}\n",
    "$$\n",
    "\n",
    "- We multiply the $1$ (which is the <b>first</b> element of the first row in $matrix_1$) by $10$ (which is the <b>first</b> element of the first column in $matrix_2$),\n",
    "we then add to that the result of \n",
    "- multiplying $2$ (which is the <b>second</b> element of the first row in $matrix_1$) by $12$ (which is the <b>second</b> element of the first column in $matrix_2$),\n",
    "finally we add to that the result of\n",
    "- multiplying  $3$ (which is the <b>third</b> element of the first row in $matrix_1$) by $14$ (which is the <b>third</b> element of the first column in $matrix_2$)\n",
    "- to produce a grand total of $1 \\times 10 + 2 \\times 12 + 3 \\times 14 = 76$. "
   ]
  },
  {
   "cell_type": "code",
   "execution_count": null,
   "id": "c39078be-66c1-44b5-b8e5-9f26ac9e9ede",
   "metadata": {},
   "outputs": [],
   "source": [
    "# We'll start by writing Python code to compute just that FIRST element of the result matrix\n",
    "\n",
    "def matrix_multiply_element00(matrix_a, matrix_b):\n",
    "    \n",
    "    # check that the number of columns in first matrix is the same \n",
    "    # as the number of rows in the second matrix\n",
    "    rows_a, cols_a = dimensions(matrix_a) # store each value of the tuple in a separate variable\n",
    "    rows_b, cols_b = dimensions(matrix_b)\n",
    "    assert cols_a == rows_b\n",
    "    \n",
    "    # WRITE YOUR ANSWER HERE\n",
    "\n",
    "    \n",
    "    \n",
    "#---------------------------------------------------------\n",
    "# These are the tests your function must pass.\n",
    "\n",
    "\"\"\" \n",
    ">>> matrix_multiply_element00(matrix_1, matrix_2)  # Test 1 - using example above\n",
    "76\n",
    "\n",
    ">>> matrix_multiply_element00([[1, 2, 3, 4, 5], [6, 7, 8, 9, 10]], [[2, 3], [4, 5], [6, 7], [8, 9], [10, 11]])  # Test 2\n",
    "110\n",
    "\n",
    ">>> matrix_multiply_element00([[1, 2], [3, 4]], [[5, 6], [7, 8]])  # Test 3\n",
    "19\n",
    "\n",
    "\"\"\"\n",
    "\n",
    "#---------------------------------------------------------\n",
    "# This main program executes all the tests above when this\n",
    "# code is run.  Comment out the code below if you do not want\n",
    "# to run the tests automatically.\n",
    "\n",
    "from doctest import testmod\n",
    "print(testmod(verbose = False))"
   ]
  },
  {
   "cell_type": "markdown",
   "id": "326a3729-ef77-4de5-b996-1ed6c6aa1b03",
   "metadata": {},
   "source": [
    "<b>Q: Matrix Mutltiplication - second element</b>\n",
    "<a name = \"matrix_multiplication_second_element\"></a>"
   ]
  },
  {
   "cell_type": "markdown",
   "id": "8b27d8b1-d94f-4d88-8bb4-dbe735b21fd9",
   "metadata": {
    "tags": []
   },
   "source": [
    "Next we move on to computing the result $82$ that appears in the second column of the first row of the result matrix.\n",
    "This is computed based on the first row of matrix $x$ and the <b>second</b> column of matrix $y$ (highlighted in blue below):\n",
    "\n",
    "$$matrix_1 \\times matrix_2 = \\begin{bmatrix} \n",
    "{76} & \\color{blue}{82} \\\\\n",
    "184 & 199 \\\\\n",
    "\\end{bmatrix}\n",
    "$$\n",
    "\n",
    "$$\n",
    "matrix_1 = \\begin{bmatrix} \n",
    "\\color{blue} 1 & \\color{blue}2 & \\color{blue}3 \\\\\n",
    "4 & 5 & 6 \n",
    "\\end{bmatrix},\n",
    "matrix_2 = \\begin{bmatrix} \n",
    "{10} & \\color{blue}{11} \\\\\n",
    "{12} & \\color{blue}{13} \\\\\n",
    "{14} & \\color{blue}{15} \\\\\n",
    "\\end{bmatrix}\n",
    "$$\n",
    " \n",
    "- We multiply the  1  (which is the <b>first</b> element of the first row in matrix_1) by  11  (which is the <b>first</b> element of the second column in matrix_2), we then add to that the result of\n",
    "- multiplying  2  (which is the <b>second</b> element of the first row in matrix_1) by  13  (which is the <b>second</b> element of the second column in matrix_2), finally we add to that the result of\n",
    "- multiplying  3  (which is the <b>third</b> element of the first row in matrix_1) by  15  (which is the <b>third</b> element of the second column in matrix_2)\n",
    "- to produce a grand total of  1×11+2×13+3×15=82."
   ]
  },
  {
   "cell_type": "code",
   "execution_count": null,
   "id": "ec7886fa-3d8e-471d-81ea-28ce21b6e329",
   "metadata": {},
   "outputs": [],
   "source": [
    "# Make a copy of that code, and alter it to compute just that SECOND element \n",
    "# of the first row of the result matrix\n",
    "\n",
    "def matrix_multiply_element01(matrix_a, matrix_b):\n",
    "    \n",
    "    # check that the number of columns in first matrix is the same \n",
    "    # as the number of rows in the second matrix\n",
    "    rows_a, cols_a = dimensions(matrix_a) # store each value of the tuple in a separate variable\n",
    "    rows_b, cols_b = dimensions(matrix_b)\n",
    "    assert cols_a == rows_b\n",
    " \n",
    "    # WRITE YOUR ANSWER HERE\n",
    "\n",
    "    \n",
    "\n",
    "#---------------------------------------------------------\n",
    "# These are the tests your function must pass.\n",
    "\n",
    "\"\"\" \n",
    ">>> matrix_multiply_element01(matrix_1, matrix_2)  # Test 1 - using example above\n",
    "82\n",
    "\n",
    ">>> matrix_multiply_element01([[1, 2, 3, 4, 5], [6, 7, 8, 9, 10]], [[2, 3], [4, 5], [6, 7], [8, 9], [10, 11]])  # Test 2\n",
    "125\n",
    "\n",
    ">>> matrix_multiply_element01([[1, 2], [3, 4]], [[5, 6], [7, 8]])  # Test 3\n",
    "22\n",
    "\n",
    "\"\"\"\n",
    "\n",
    "#---------------------------------------------------------\n",
    "# This main program executes all the tests above when this\n",
    "# code is run.  Comment out the code below if you do not want\n",
    "# to run the tests automatically.\n",
    "\n",
    "from doctest import testmod\n",
    "print(testmod(verbose = False))"
   ]
  },
  {
   "cell_type": "markdown",
   "id": "176a4dae-7219-4489-913f-4689c049ceab",
   "metadata": {},
   "source": [
    "<b>Q: Matrix Mutltiplication - any specified element</b>\n",
    "<a name = \"matrix_multiplication_any_specified_element\"></a>"
   ]
  },
  {
   "cell_type": "code",
   "execution_count": null,
   "id": "2a95d4f4-7835-42cf-9583-257070fc6a0e",
   "metadata": {},
   "outputs": [],
   "source": [
    "# Make a copy of that code and now generalize it code by adding \n",
    "# parameters for the row and col positions of the result matrix\n",
    "def matrix_multiply_element(matrix_a, matrix_b, row, column):\n",
    "    \n",
    "    # check that the number of columns in first matrix is the same \n",
    "    # as the number of rows in the second matrix\n",
    "    rows_a, cols_a = dimensions(matrix_a) # store each value of the tuple in a separate variable\n",
    "    rows_b, cols_b = dimensions(matrix_b)\n",
    "    assert cols_a == rows_b\n",
    " \n",
    "    # WRITE YOUR ANSWER HERE\n",
    "\n",
    "\n",
    "#---------------------------------------------------------\n",
    "# These are the tests your function must pass.\n",
    "\n",
    "\"\"\" \n",
    ">>> matrix_multiply_element(matrix_1, matrix_2, 0, 0)  # Test 1 - using example above\n",
    "76\n",
    "\n",
    ">>> matrix_multiply_element(matrix_1, matrix_2, 0, 1)  # Test 2 - using example above\n",
    "82\n",
    "\n",
    ">>> matrix_multiply_element(matrix_1, matrix_2, 1, 0)  # Test 3 - using example above\n",
    "184\n",
    "\n",
    ">>> matrix_multiply_element(matrix_1, matrix_2, 1, 1)  # Test 4 - using example above\n",
    "199\n",
    "\n",
    ">>> matrix_multiply_element([[1, 2, 3, 4, 5], [6, 7, 8, 9, 10]], [[2, 3], [4, 5], [6, 7], [8, 9], [10, 11]], 0, 0)  # Test 5\n",
    "110\n",
    "\n",
    ">>> matrix_multiply_element([[1, 2], [3, 4]], [[5, 6], [7, 8]], 0, 1)  # Test 6\n",
    "22\n",
    "\n",
    "\"\"\"\n",
    "\n",
    "#---------------------------------------------------------\n",
    "# This main program executes all the tests above when this\n",
    "# code is run.  Comment out the code below if you do not want\n",
    "# to run the tests automatically.\n",
    "\n",
    "from doctest import testmod\n",
    "print(testmod(verbose = False))"
   ]
  },
  {
   "cell_type": "markdown",
   "id": "f8d3e6ce-7379-41c8-a937-45db35c2404c",
   "metadata": {},
   "source": [
    "<b>Q: Matrix Mutltiplication - all elements (1st option)</b>\n",
    "<a name = \"matrix_multiplication_all_elements_1\"></a>"
   ]
  },
  {
   "cell_type": "code",
   "execution_count": null,
   "id": "7f7c786d-12a0-478d-824a-0f1479e88311",
   "metadata": {},
   "outputs": [],
   "source": [
    "# Now implement matrix multipy by calling your matrix_multiply_element function to compute each element of the result\n",
    "# Hint: it will be very similar to your matrix_add function above\n",
    "\n",
    "def matrix_multiply(matrix_a, matrix_b):\n",
    "\n",
    "    # check that the number of columns in first matrix is the same \n",
    "    # as the number of rows in the second matrix\n",
    "    rows_a, cols_a = dimensions(matrix_a) # store each value of the tuple in a separate variable\n",
    "    rows_b, cols_b = dimensions(matrix_b)\n",
    "    assert cols_a == rows_b\n",
    " \n",
    "    # WRITE YOUR ANSWER HERE\n",
    "\n",
    "\n",
    "#---------------------------------------------------------\n",
    "# These are the tests your function must pass.\n",
    "\n",
    "\"\"\" \n",
    ">>> matrix_multiply(matrix_1, matrix_2)  # Test 1 - using example above\n",
    "[[76, 82], [184, 199]]\n",
    "\n",
    "\n",
    ">>> matrix_multiply([[1, 2, 3, 4, 5], [6, 7, 8, 9, 10]], [[2, 3], [4, 5], [6, 7], [8, 9], [10, 11]])  # Test 2\n",
    "[[110, 125], [260, 300]]\n",
    "\n",
    ">>> matrix_multiply([[1, 2], [3, 4]], [[5, 6], [7, 8]])  # Test 3\n",
    "[[19, 22], [43, 50]]\n",
    "\n",
    "\n",
    "\"\"\"\n",
    "\n",
    "#---------------------------------------------------------\n",
    "# This main program executes all the tests above when this\n",
    "# code is run.  Comment out the code below if you do not want\n",
    "# to run the tests automatically.\n",
    "\n",
    "from doctest import testmod\n",
    "print(testmod(verbose = False))"
   ]
  },
  {
   "cell_type": "markdown",
   "id": "30344670-2333-4d5c-b8b3-d12f9ac4eb26",
   "metadata": {},
   "source": [
    "<b>Q: Matrix Mutltiplication - all elements (2nd option)</b>\n",
    "<a name = \"matrix_multiplication_all_elements_2\"></a>"
   ]
  },
  {
   "cell_type": "code",
   "execution_count": null,
   "id": "76755a17-fac7-480c-9573-fadc2ae3102c",
   "metadata": {},
   "outputs": [],
   "source": [
    "# Now create a new version of your function that incorporates the code from matrix_multiply_element \n",
    "# directly into your matrix_multiply function \n",
    "# (rather than *calling* the matrix_multiply_element function).\n",
    "# Your new function should now have triply nested for loops. \n",
    "\n",
    "def matrix_multiply_combined(matrix_a, matrix_b):\n",
    "    \n",
    "    # check that the number of columns in first matrix is the same \n",
    "    # as the number of rows in the second matrix\n",
    "    rows_a, cols_a = dimensions(matrix_a) # store each value of the tuple in a separate variable\n",
    "    rows_b, cols_b = dimensions(matrix_b)\n",
    "    assert cols_a == rows_b\n",
    "\n",
    "    # WRITE YOUR ANSWER HERE\n",
    "\n",
    "\n",
    "#---------------------------------------------------------\n",
    "# These are the tests your function must pass.\n",
    "\n",
    "\"\"\" \n",
    ">>> matrix_multiply_combined(matrix_1, matrix_2)  # Test 1 - using example above\n",
    "[[76, 82], [184, 199]]\n",
    "\n",
    "\n",
    ">>> matrix_multiply_combined([[1, 2, 3, 4, 5], [6, 7, 8, 9, 10]], [[2, 3], [4, 5], [6, 7], [8, 9], [10, 11]])  # Test 2\n",
    "[[110, 125], [260, 300]]\n",
    "\n",
    ">>> matrix_multiply_combined([[1, 2], [3, 4]], [[5, 6], [7, 8]])  # Test 3\n",
    "[[19, 22], [43, 50]]\n",
    "\n",
    "\n",
    "\"\"\"\n",
    "\n",
    "#---------------------------------------------------------\n",
    "# This main program executes all the tests above when this\n",
    "# code is run.  Comment out the code below if you do not want\n",
    "# to run the tests automatically.\n",
    "\n",
    "from doctest import testmod\n",
    "print(testmod(verbose = False))"
   ]
  },
  {
   "cell_type": "code",
   "execution_count": null,
   "id": "0d7b41b4-4607-44d4-bc92-5b08db30bf03",
   "metadata": {},
   "outputs": [],
   "source": [
    "# Which of these two versions do you prefer? Why?\n"
   ]
  },
  {
   "cell_type": "markdown",
   "id": "ec94c106-4e15-4c11-b54a-aa00f961bbeb",
   "metadata": {},
   "source": [
    "# NumPy\n",
    "<a name = \"matrices_as_arrays\"></a>\n",
    "\n",
    "Next we explore using the <code>numpy</code> library to represent matrices."
   ]
  },
  {
   "cell_type": "code",
   "execution_count": null,
   "id": "390b41a8-df0b-4f71-9e11-3ef956d8e81b",
   "metadata": {},
   "outputs": [],
   "source": [
    "# When using the NumPy module, we can create a 2-D array of zeros as follows:\n",
    "import numpy\n",
    "\n",
    "list_of_zeros = numpy.zeros((10,10))\n",
    "print(list_of_zeros)"
   ]
  },
  {
   "cell_type": "markdown",
   "id": "f64a6452-3c96-4968-bc05-aa8a0762c630",
   "metadata": {},
   "source": [
    "<b>Q: Create Matrices - arrays</b>\n",
    "<a name = \"create_matrices_arrays\"></a>"
   ]
  },
  {
   "cell_type": "markdown",
   "id": "aaaf8319-97db-46b0-8d45-ba942c5aca6c",
   "metadata": {},
   "source": [
    "Represent the following matrices in Python code as NumPy arrays\n",
    "\n",
    "$$\n",
    "matrix_3 = \\begin{bmatrix} \n",
    "1 & 2 & 3 \\\\\n",
    "4 & 5 & 6 \n",
    "\\end{bmatrix},\n",
    "matrix_4 = \\begin{bmatrix} \n",
    "10 & 11 & 12 \\\\\n",
    "13 & 14 & 15 \n",
    "\\end{bmatrix}\n",
    "$$"
   ]
  },
  {
   "cell_type": "code",
   "execution_count": null,
   "id": "148b44b7-e122-4024-88c2-800f4860af18",
   "metadata": {},
   "outputs": [],
   "source": [
    "import numpy\n",
    "\n",
    "# WRITE YOUR ANSWER HERE\n"
   ]
  },
  {
   "cell_type": "markdown",
   "id": "1d43cb74-ff6e-4a22-bdef-d872a8461301",
   "metadata": {},
   "source": [
    "<b>Q: Dimensions - arrays</b>\n",
    "<a name = \"dimensions_arrays\"></a>\n",
    "\n",
    "How do we compute the equivalent of our dimensions function for NumPy arrays?\n",
    "\n",
    "Hint: https://numpy.org/doc/stable/reference/generated/numpy.shape.html#numpy.shape"
   ]
  },
  {
   "cell_type": "code",
   "execution_count": null,
   "id": "f8217205-b399-440f-bbf0-2233b4c9f1e1",
   "metadata": {},
   "outputs": [],
   "source": [
    "# Find the dimensions of the new matrices\n",
    "\n",
    "# WRITE YOUR ANSWER HERE\n"
   ]
  },
  {
   "cell_type": "markdown",
   "id": "89b97d82-d01a-42d9-9c3a-0e81eb5473fc",
   "metadata": {},
   "source": [
    "<b>Q: Matrix Addition - arrays</b>\n",
    "<a name = \"matrix_addition_arrays\"></a>"
   ]
  },
  {
   "cell_type": "code",
   "execution_count": null,
   "id": "4ad05e09-1da6-40be-9a34-23fb3f82684e",
   "metadata": {},
   "outputs": [],
   "source": [
    "# Add together matrix_3 and matrix_4 using the NumPy add function\n",
    "\n",
    "# WRITE YOUR ANSWER HERE\n"
   ]
  },
  {
   "cell_type": "code",
   "execution_count": null,
   "id": "6701c6c0-69f8-41a2-9d2e-dce28f8f227d",
   "metadata": {},
   "outputs": [],
   "source": [
    "# Or, even more simply ...\n",
    "matrix_3 + matrix_4"
   ]
  },
  {
   "cell_type": "markdown",
   "id": "bd8ad802-7f40-4939-b297-7a7a01146c89",
   "metadata": {},
   "source": [
    "<b>Q: Matrix Multiplication - arrays</b>\n",
    "<a name = \"matrix_multiplication_arrays\"></a>\n",
    "\n",
    "For matrix multiply, let's use this example:\n",
    "\n",
    "$$\n",
    "matrix_5 = \\begin{bmatrix} \n",
    "1 & 2 & 3 \\\\\n",
    "4 & 5 & 6 \n",
    "\\end{bmatrix},\n",
    "matrix_6 = \\begin{bmatrix} \n",
    "10 & 11 \\\\\n",
    "12 & 13 \\\\\n",
    "14 & 15 \\\\\n",
    "\\end{bmatrix}\n",
    "$$\n",
    "\n",
    "Now create new <code>numpy</code> arrays:"
   ]
  },
  {
   "cell_type": "code",
   "execution_count": null,
   "id": "8596d326-774c-4126-ae7c-5ebe5a86ecb3",
   "metadata": {},
   "outputs": [],
   "source": [
    "# WRITE YOUR ANSWER HERE\n"
   ]
  },
  {
   "cell_type": "code",
   "execution_count": null,
   "id": "9b04f931-a3bb-4715-b46b-eccd10e22011",
   "metadata": {},
   "outputs": [],
   "source": [
    "# matrix multiplication can be done simply by using the numpy dot function\n",
    "\n",
    "numpy.dot(matrix_5, matrix_6)\n"
   ]
  },
  {
   "cell_type": "markdown",
   "id": "fb06cd2d-21b4-44c2-bb98-667bc089a4d3",
   "metadata": {},
   "source": [
    "Or we could do it the hard way and compute matrix multiply ourselves, element by element, as we did above.\n",
    "\n",
    "Make a copy of your <code>matrix_multiply_combined</code> function so that it operates on <code>numpy array</code>s rather than <code>list</code>s of <code>list</code>s"
   ]
  },
  {
   "cell_type": "code",
   "execution_count": null,
   "id": "686d3673-e24f-470e-8e6f-e7ca930969d4",
   "metadata": {},
   "outputs": [],
   "source": [
    "\n",
    "def matrix_multiply_arrays(matrix_a, matrix_b):\n",
    "    \n",
    "    # check that the number of columns in first matrix is the same \n",
    "    # as the number of rows in the second matrix\n",
    "    rows_a, cols_a = matrix_a.shape # store each value of the tuple in a separate variable\n",
    "    rows_b, cols_b = matrix_b.shape\n",
    "    assert cols_a == rows_b\n",
    "\n",
    "    # WRITE YOUR ANSWER HERE\n",
    "\n",
    "    \n",
    "#---------------------------------------------------------\n",
    "# These are the tests your function must pass.\n",
    "\n",
    "\"\"\" \n",
    ">>> matrix_multiply_arrays(matrix_5, matrix_6)  # Test 1 - using example above\n",
    "[[76, 82], [184, 199]]\n",
    "\n",
    "\n",
    ">>> matrix_multiply_arrays(numpy.array([[1, 2, 3, 4, 5], [6, 7, 8, 9, 10]]), numpy.array([[2, 3], [4, 5], [6, 7], [8, 9], [10, 11]]))  # Test 2\n",
    "[[110, 125], [260, 300]]\n",
    "\n",
    ">>> matrix_multiply_arrays(numpy.array([[1, 2], [3, 4]]), numpy.array([[5, 6], [7, 8]]))  # Test 3\n",
    "[[19, 22], [43, 50]]\n",
    "\n",
    "\n",
    "\"\"\"\n",
    "\n",
    "#---------------------------------------------------------\n",
    "# This main program executes all the tests above when this\n",
    "# code is run.  Comment out the code below if you do not want\n",
    "# to run the tests automatically.\n",
    "\n",
    "from doctest import testmod\n",
    "print(testmod(verbose = False))"
   ]
  },
  {
   "cell_type": "code",
   "execution_count": null,
   "id": "fbd09958-4504-4bfc-94d3-90c6cc8d552b",
   "metadata": {},
   "outputs": [],
   "source": [
    "# What was the main difference?\n"
   ]
  },
  {
   "cell_type": "markdown",
   "id": "f8d7b15b-fe64-4c01-a6cc-dd09e65f492a",
   "metadata": {},
   "source": [
    "<a name=\"noughts_and_crosses\"><a>\n",
    "    \n",
    "<b>Q: Noughts and Crosses</b>\n",
    "    \n",
    "As an exercise in processing data stored in arrays (<code>numpy</code>'s multidimensional \n",
    "container of items: <code>ndarray</code>), here you are required to write several small code segments that extract data stored in arrays both by value and position.\n",
    "\n",
    "Recall that the children's game of Noughts and Crosses (US:\n",
    "Tic-Tac-Toe) is played on a 3 x 3 matrix in which the cells\n",
    "may be empty '_', a cross 'X' or a nought 'O' (actually, the letter O).  \n",
    "    \n",
    "<img src = \"Noughts_and_Crosses.png\">    \n",
    "\n",
    "Such a matrix can be represented using an array containing three\n",
    "rows, each of which is an array containing three values.\n",
    "\n",
    "Below are the outcomes of four games of Noughts and Crosses.\n",
    "represented as lists. Games 1 and 2 have been represented as\n",
    "a single <code>ndarray</code> and Games 3 and 4 have been represented\n",
    "as three separate <code>ndarray</code>s.\n",
    "\n",
    "For each game there is a series of challenges for you to solve by printing appropriate values extracted from the arrays.  Note that all of these can be solved with just a\n",
    "few lines of Python code.  In all cases you must use <code>for</code> loops to solve the problem.\n"
   ]
  },
  {
   "cell_type": "code",
   "execution_count": null,
   "id": "a935505f-aff7-466b-b8b7-3c176a0bf805",
   "metadata": {},
   "outputs": [],
   "source": [
    "# import the numpy module, and rename it as 'np'\n",
    "import numpy as np\n",
    "\n",
    "# Author: Colin Fidge 2021\n",
    "\n",
    "#----------------------------------------------------------------#\n",
    "# Very easy: Using a FOR loop, print the three rows in\n",
    "# Game 1, all on one line.  Your code should print:\n",
    "#\n",
    "#     ['X', 'O', 'X'] ['X', 'X', 'O'] ['O', 'O', 'O']\n",
    "#\n",
    "# Remember that using parameter \"end = ''\" at the end of a\n",
    "# call to a PRINT function prevents it from printing a newline.\n",
    "\n",
    "# Game 1 - Noughts win\n",
    "game_1 = np.array([['X', 'O', 'X'],\n",
    "                 ['X', 'X', 'O'],\n",
    "                 ['O', 'O', 'O']])\n",
    "print(\"game_1:\")\n",
    "\n",
    "# WRITE YOUR ANSWER HERE\n",
    "\n"
   ]
  },
  {
   "cell_type": "code",
   "execution_count": null,
   "id": "8b75c48d-c92b-4612-8e79-202d3a2f1648",
   "metadata": {},
   "outputs": [],
   "source": [
    "#----------------------------------------------------------------#\n",
    "# Easy: Using a FOR loop, print the values of all cells\n",
    "# in Game 2, all on one line.  Your code should print:\n",
    "#\n",
    "#     OXOXXXOOX\n",
    "#\n",
    "# Hint: You will need two FOR loops.\n",
    "\n",
    "# Game 2 - Crosses win\n",
    "#\n",
    "game_2 =  np.array([['O', 'X', 'O'],\n",
    "                   ['X', 'X', 'X'],\n",
    "                   ['O', 'O', 'X']])\n",
    "\n",
    "print(\"game_2:\")\n",
    "\n",
    "# WRITE YOUR ANSWER HERE\n",
    "\n"
   ]
  },
  {
   "cell_type": "code",
   "execution_count": null,
   "id": "79566469-d645-4d5b-a617-3d0835f5c629",
   "metadata": {},
   "outputs": [],
   "source": [
    "#----------------------------------------------------------------#\n",
    "# Medium difficulty: Write a FOR loop to print all\n",
    "# the cells in Game 3, row by row, from top to bottom.\n",
    "# Your code should print:\n",
    "#\n",
    "#    XOXXOOOXX\n",
    "#\n",
    "# Hint: \n",
    "# You can do this with just a single FOR\n",
    "# loop by \"adding\" the separate arrays together using the\n",
    "# numpy function: \n",
    "#     concatenate\n",
    "\n",
    "# Game 3 - It's a tie\n",
    "#\n",
    "game_3a = np.array(['X', 'O', 'X'])\n",
    "game_3b = np.array(['X', 'O', 'O'])\n",
    "game_3c = np.array(['O', 'X', 'X'])\n",
    "\n",
    "print(\"game_3:\")\n",
    "\n",
    "# WRITE YOUR ANSWER HERE\n",
    "\n"
   ]
  },
  {
   "cell_type": "code",
   "execution_count": null,
   "id": "5dcc807e-a53b-4735-9237-b9feb290fc17",
   "metadata": {},
   "outputs": [],
   "source": [
    "#----------------------------------------------------------------#\n",
    "# Medium difficulty: Write FOR-EACH code to print the cells\n",
    "# on the diagonal from top-left to bottom-right for Game 4.\n",
    "# Your code should print:\n",
    "#\n",
    "#    XXO\n",
    "#\n",
    "# Hint: You could use a numeric loop variable to keep\n",
    "# track of the position of each cell to be printed.\n",
    "\n",
    "# Game 4 - Noughts win\n",
    "#\n",
    "game_4 = np.array([['X', 'O', 'X'],\n",
    "                  ['X', 'X', 'O'],\n",
    "                  ['X', 'O', 'O']])\n",
    "\n",
    "print(\"game_4:\")\n",
    "\n",
    "# WRITE YOUR ANSWER HERE\n",
    "\n"
   ]
  },
  {
   "cell_type": "code",
   "execution_count": null,
   "id": "294c5f67-a479-4a1d-877c-76ad77b135bf",
   "metadata": {},
   "outputs": [],
   "source": [
    "#----------------------------------------------------------------#\n",
    "# A bit harder: Write a FOR loop to print the cells\n",
    "# in Game 4 by columns, rather than rows.  In other\n",
    "# words, you must print the first element from each of\n",
    "# the three rows, then the second, then the third.\n",
    "# Your code should print:\n",
    "#\n",
    "#   XO__XO_OX\n",
    "# \n",
    "# Hint: You could use a numeric loop variable to keep\n",
    "# track of the column; and slicing to get the value\n",
    "# from each row at that column\n",
    "#\n",
    "# Game 5 - Crosses wins easily\n",
    "\n",
    "game_5 = np.array([['X', '_', '_'],\n",
    "                 ['O', 'X', 'O'],\n",
    "                 ['_', 'O', 'X']])\n",
    "\n",
    "print(\"game_5:\")\n",
    "\n",
    "# WRITE YOUR ANSWER HERE\n"
   ]
  },
  {
   "cell_type": "markdown",
   "id": "fc3e38ca-6a55-48e2-94d7-6080fb936bbb",
   "metadata": {},
   "source": [
    "# Wordle\n",
    "<a name = \"wordle\"></a>\n",
    "\n",
    "In this exercise we are going to learn about the Python Dictionary type. We are also going to learn how large complex programs can be created by using user defined functions, each of which is very simple and conceptually does only one thing. Such functions may be built from other functions. We will also learn how such programs can be constructed in an <i>interative and incremental manner</i> - developing simple functions and testing that they work before proceeding to use them to build other functions.\n",
    "\n",
    "The exercise will be based on a well known Internet based game called 'Wordle' which was acquired by the New York times after it went viral: https://www.nytimes.com/games/wordle\n",
    "\n",
    "### Wordle Rules\n",
    "\n",
    "The object of the game is to guess a randomly selected 5 letter word. The system responds to your guesses by indicating for each letter of the word that you guess whether it is:\n",
    "- the correct letter in the correct position, \n",
    "- a letter that exists within the secret word, but not at the correct position, or\n",
    "- the letter is not in the secret word at all.\n",
    "\n",
    "Only valid 5-letter words are allowed to be entered as guesses."
   ]
  },
  {
   "cell_type": "markdown",
   "id": "c3093d36-37b0-4f7f-bb31-29dc05cc888e",
   "metadata": {
    "tags": []
   },
   "source": [
    "## Read all words"
   ]
  },
  {
   "cell_type": "markdown",
   "id": "df0dd4e4-da8a-482b-9db9-0a99c5ff55ac",
   "metadata": {},
   "source": [
    "We need to start with every possible 5 letter word in the English dictionary.\n",
    "We have provided you with a file <code>words.txt</code> that contains a complete list of such words.\n",
    "You need to load that file and generate a list of words. Each word will be a Python string.\n",
    "\n",
    "- Use the built in Python open function to <code>open</code> the file named \"words.txt\".\n",
    "- Use the <code>read()</code> method of the opened file to read its contents.\n",
    "- Note, it is good practice to always call the <code>close()</code> method of the file once you've finished reading from it.\n",
    "- Examine the contents to see what it contains"
   ]
  },
  {
   "cell_type": "code",
   "execution_count": null,
   "id": "e777a74b-9e76-4302-bc78-80f78f1b12e2",
   "metadata": {},
   "outputs": [],
   "source": [
    "file_open = open('words.txt')\n",
    "contents = file_open.read()\n",
    "file_open.close()\n",
    "len(contents) # should be 77831"
   ]
  },
  {
   "cell_type": "code",
   "execution_count": null,
   "id": "34fcfe2c-8870-42c8-a4e0-ce76c706e7b7",
   "metadata": {},
   "outputs": [],
   "source": [
    "# Next we will call the splitlines() method of the content string to convert it to a list of strings, one for each line in the file.\n",
    "# Store the resulting list in a variable so that we can use it later.\n",
    "\n",
    "words = contents.splitlines()\n",
    "len(words)\n",
    "# Examine the list to see what it contains\n",
    "#print(words)"
   ]
  },
  {
   "cell_type": "markdown",
   "id": "6b269bee-298a-4bbf-b70b-2fc5f74ac153",
   "metadata": {
    "tags": []
   },
   "source": [
    "## Randomly choose secret word"
   ]
  },
  {
   "cell_type": "code",
   "execution_count": null,
   "id": "e43d31be-c4d5-42d1-b525-17b65244a4cd",
   "metadata": {},
   "outputs": [],
   "source": [
    "# Write a function that will randomly select a secret word from the list of all words.\n",
    "# Use the random.randrange function to select a random index position to select the secret word from.\n",
    "# Store the secret word in a global variable, so that we can use it later.\n",
    "# You can call this function whenever you want to start a new game.\n",
    "\n",
    "import random\n",
    "\n",
    "def new_game():\n",
    "    global secret\n",
    "    \n",
    "    # WRITE YOUR ANSWER HERE\n"
   ]
  },
  {
   "cell_type": "code",
   "execution_count": null,
   "id": "8862fdfe-58aa-4f16-b2a8-413b49aee8eb",
   "metadata": {},
   "outputs": [],
   "source": [
    "# test that it works as expected\n",
    "new_game()\n",
    "secret"
   ]
  },
  {
   "cell_type": "markdown",
   "id": "c0fe653f-05c5-4954-8193-9ef04459cfbf",
   "metadata": {
    "tags": []
   },
   "source": [
    "## Cheat"
   ]
  },
  {
   "cell_type": "code",
   "execution_count": null,
   "id": "5fff58d9-1142-498e-ae0e-3553bffdff92",
   "metadata": {},
   "outputs": [],
   "source": [
    "# Write a function which allows us to cheat (for testing purposes).\n",
    "# It should print: 'The answer is ' ...\n",
    "\n",
    "def cheat():\n",
    "    # WRITE YOUR ANSWER HERE\n"
   ]
  },
  {
   "cell_type": "code",
   "execution_count": null,
   "id": "fda7414c-beac-487c-a5ee-d92d22fe0149",
   "metadata": {},
   "outputs": [],
   "source": [
    "# test that it works as expected\n",
    "cheat()"
   ]
  },
  {
   "cell_type": "markdown",
   "id": "7d961d2a-67ac-41b3-aaff-12b0f95a19c5",
   "metadata": {
    "tags": []
   },
   "source": [
    "# Is valid word?\n",
    "\n",
    "Only valid words in the English dictionary can be used as guesses. Write a function to check that the guess is a real word."
   ]
  },
  {
   "cell_type": "code",
   "execution_count": null,
   "id": "b2813697-7cec-4173-888e-48954b76c26d",
   "metadata": {},
   "outputs": [],
   "source": [
    "# Given a guessed word, return True if the word is contained\n",
    "# in the list of all words\n",
    "# otherwise, print the message: ...' is not a valid word' \n",
    "def is_valid_word(guess):\n",
    "    \n",
    "    # WRITE YOUR ANSWER HERE\n",
    "\n",
    "    \n",
    "#---------------------------------------------------------\n",
    "# These are the tests your function must pass.\n",
    "\n",
    "\"\"\" \n",
    ">>> is_valid_word('tears')  # Test 1 - valid word\n",
    "True\n",
    "\n",
    ">>> is_valid_word('sedan')  # Test 2 - valid word\n",
    "True\n",
    "\n",
    ">>> is_valid_word('audio')  # Test 3 - valid word\n",
    "True\n",
    "\n",
    ">>> is_valid_word('zzzzz')  # Test 4 - invalid word\n",
    "zzzzz is not a valid word\n",
    "\n",
    "\n",
    "\"\"\"\n",
    "\n",
    "#---------------------------------------------------------\n",
    "# This main program executes all the tests above when this\n",
    "# code is run.  Comment out the code below if you do not want\n",
    "# to run the tests automatically.\n",
    "\n",
    "from doctest import testmod\n",
    "print(testmod(verbose = False))"
   ]
  },
  {
   "cell_type": "markdown",
   "id": "7812821b-0852-4c0e-90c2-2f728061c59f",
   "metadata": {
    "tags": []
   },
   "source": [
    "## Test Letters\n",
    "\n",
    "Next we move on to the main step of determining which letters match.\n",
    "\n",
    "We start by doing this for just one letter at a particular position"
   ]
  },
  {
   "cell_type": "code",
   "execution_count": null,
   "id": "52c429dc-ed2f-4546-978c-37d37de52c7b",
   "metadata": {},
   "outputs": [],
   "source": [
    "# Write a function that takes a letter guessed and its position (between 0 and 4)\n",
    "# and returns 'correct' if the letter matches the secret word at the specified position,\n",
    "# returns 'present' if the letter is present in the secret word, but not at the specified position,\n",
    "# otherwise returns 'wrong'\n",
    "\n",
    "def check_letter(letter_guess, position):\n",
    "    \n",
    "    # WRITE YOUR ANSWER HERE\n",
    "    \n",
    "\n",
    "#---------------------------------------------------------\n",
    "# These are the tests your function must pass.\n",
    "\n",
    "# reset the secret word for testing\n",
    "secret = 'track'\n",
    "\n",
    "\"\"\" \n",
    ">>> check_letter('t', 0)  # Test 1\n",
    "'correct'\n",
    "\n",
    ">>> check_letter('d', 1)  # Test 2\n",
    "'wrong'\n",
    "\n",
    ">>> check_letter('k', 2)  # Test 3\n",
    "'present'\n",
    "\n",
    "\n",
    "\"\"\"\n",
    "\n",
    "#---------------------------------------------------------\n",
    "# This main program executes all the tests above when this\n",
    "# code is run.  Comment out the code below if you do not want\n",
    "# to run the tests automatically.\n",
    "\n",
    "from doctest import testmod\n",
    "print(testmod(verbose = False))\n"
   ]
  },
  {
   "cell_type": "markdown",
   "id": "d1965bf6-5240-47e8-8a5c-31324bc4eb69",
   "metadata": {},
   "source": [
    "## Guess prototype\n",
    "\n",
    "Next we will create a simple prototype of the main part of the game were the user is allowed to make a guess and receive feedback.\n",
    "For each letter in the guess, we will need to print the letter as well as indicate whether it is correct, present or wrong.\n",
    "\n",
    "For example if the secret word is 'track' and the guessed word is 'trail' then the output might be:\n",
    "<pre>\n",
    "t correct\n",
    "r correct\n",
    "a correct\n",
    "i wrong\n",
    "l wrong\n",
    "</pre>"
   ]
  },
  {
   "cell_type": "code",
   "execution_count": null,
   "id": "85a01cda-5944-4c5d-ac09-47352a962e10",
   "metadata": {},
   "outputs": [],
   "source": [
    "# Given a guessed word, if it is a valid word, print each of the letters in the word, \n",
    "# together with an indication of whether the guessed letter is correct, present or wrong.\n",
    "def guess(word) :\n",
    "\n",
    "    # WRITE YOUR ANSWER HERE\n",
    "    \n",
    "        "
   ]
  },
  {
   "cell_type": "code",
   "execution_count": null,
   "id": "7ead77f4-4f90-45c9-bd3a-bce97e9d3668",
   "metadata": {},
   "outputs": [],
   "source": [
    "# Try playing the game by making a sequence of calls to the guess function until you guess all letters correctly.\n",
    "guess('trail')"
   ]
  },
  {
   "cell_type": "markdown",
   "id": "269d2c92-0553-4b08-8404-f2c4377e78e7",
   "metadata": {
    "tags": []
   },
   "source": [
    "## OPTIONAL CHALLENGE - Display HTML\n",
    "\n",
    "For those wishing to continue with this exercise, we will now convert the output into a more user friendly HTML output format where each correct, present or wrong letter is indicated via a color code: <span style='background-color:#6aaa64; color: white'>green</span> for correct, <span style='background-color:#c9b458; color: white'>yellow</span> for present and <span style='background-color:#787c7e; color: white'>grey</span> for wrong"
   ]
  },
  {
   "cell_type": "code",
   "execution_count": null,
   "id": "ef76d44a-1008-4046-94df-6358d85125c1",
   "metadata": {},
   "outputs": [],
   "source": [
    "# To display HTML strings within Jupyter we will use the IPython.core.display.HTML function\n",
    "import IPython\n",
    "\n",
    "def display(html) :\n",
    "    return IPython.core.display.HTML(html) "
   ]
  },
  {
   "cell_type": "code",
   "execution_count": null,
   "id": "91da8812-c295-426a-b2df-edf04dcfdfd2",
   "metadata": {},
   "outputs": [],
   "source": [
    "# Test that it works as expected, e.g.:\n",
    "display('<b>Hello</b>')"
   ]
  },
  {
   "cell_type": "markdown",
   "id": "105e841a-9a34-479c-ba22-5d9f5ab06b17",
   "metadata": {
    "tags": []
   },
   "source": [
    "## Generate HTML\n",
    "\n",
    "Next we want to generate HTML for just one letter of the guessed word."
   ]
  },
  {
   "cell_type": "code",
   "execution_count": null,
   "id": "ee289e18-13c1-4ff1-9ce3-8a8534ea5ec2",
   "metadata": {},
   "outputs": [],
   "source": [
    "# Write a function that returns the following HTML string:\n",
    "# <div style='background-color:red;width: 20px; height: 20px; color:white; margin: 1px; line-height: 20px; display:inline-block; text-align:center'>T</div>\n",
    "# Note that the string contains single quotes '', so you'll need to use double quotes \"\" to create the string to return\n",
    "\n",
    "def generate_div():\n",
    "    \n",
    "    # WRITE YOUR ANSWER HERE\n",
    "    "
   ]
  },
  {
   "cell_type": "code",
   "execution_count": null,
   "id": "dc847cc8-84e2-41c1-a8ae-b5b0081a1bde",
   "metadata": {},
   "outputs": [],
   "source": [
    "# Test that it works as expected.\n",
    "# The function itself should return a HTML formatted string, \n",
    "# but you can then pass that string to your display function to display it in a graphical manner.\n",
    "display(generate_div())"
   ]
  },
  {
   "cell_type": "code",
   "execution_count": null,
   "id": "322fcca6-2dd7-4172-9491-54804c799a46",
   "metadata": {},
   "outputs": [],
   "source": [
    "# Next we will alter the generate_div function, so that it now takes two parameters, a color and a letter.\n",
    "# The colour should replace \"red\" in the hard coded string above and the letter should replace the \"T\" between the tags.\n",
    "# Use a Python f-String to insert the new values into the formated string.\n",
    "# Make sure the letter is displayed in upper case.\n",
    "\n",
    "def generate_div(letter, colour):\n",
    "    \n",
    "    # WRITE YOUR ANSWER HERE\n"
   ]
  },
  {
   "cell_type": "code",
   "execution_count": null,
   "id": "f4d5f4f2-5480-498f-aecb-4998bfd16fec",
   "metadata": {},
   "outputs": [],
   "source": [
    "# Use the display function to help test that it works as expected\n",
    "display(generate_div('B', 'green'))"
   ]
  },
  {
   "cell_type": "markdown",
   "id": "378e946f-f45c-4702-adf2-882f0953f61a",
   "metadata": {
    "tags": []
   },
   "source": [
    "## Guess One Letter"
   ]
  },
  {
   "cell_type": "code",
   "execution_count": null,
   "id": "194282b7-0d78-460c-a392-960e7183bc18",
   "metadata": {},
   "outputs": [],
   "source": [
    "# We may wish to change the actual colours used later, so we store them in a dictionary that we can lookup.\n",
    "# Create a dictionary containing three values so that:\n",
    "\n",
    "# colourChoices['correct']  will return '#6aaa64'\n",
    "# colourChoices['present']  will return '#c9b458'\n",
    "# colourChoices['wrong']    will return '#787c7e'\n",
    "\n",
    "# WRITE YOUR ANSWER HERE to create your dictionary ...\n",
    "\n",
    "\n",
    "\n",
    "\n",
    "# test\n",
    "colourChoices['wrong']\n",
    "colourChoices['correct']\n",
    "colourChoices['present']\n",
    "\n"
   ]
  },
  {
   "cell_type": "code",
   "execution_count": null,
   "id": "d9e10905-a551-4b7e-84f4-0cec9aff9260",
   "metadata": {},
   "outputs": [],
   "source": [
    "# Write a function that will take a guessed letter and position as parameters and \n",
    "# returns the colour coded HTML response string for just that one letter\n",
    "\n",
    "def generate_letter(letter, position):\n",
    "    \n",
    "    # WRITE YOUR ANSWER HERE\n",
    "    "
   ]
  },
  {
   "cell_type": "code",
   "execution_count": null,
   "id": "daea47eb-dc20-4048-a762-acdda4658634",
   "metadata": {},
   "outputs": [],
   "source": [
    "# Use your display function to test that it behaves as expected.\n",
    "# E.g. \n",
    "secret = 'taisq'\n",
    "display(generate_letter('t', 1)) \n",
    "# Should return a T with a mustard coloured background"
   ]
  },
  {
   "cell_type": "markdown",
   "id": "4a795793-9bd9-4079-9af1-422b1f8024fd",
   "metadata": {
    "tags": []
   },
   "source": [
    "## Allow Guesses"
   ]
  },
  {
   "cell_type": "code",
   "execution_count": null,
   "id": "5d0f418e-19fe-4d29-aeb3-313869c93954",
   "metadata": {},
   "outputs": [],
   "source": [
    "# Update your guess function to display the responses in HTML format ...\n",
    "\n",
    "def guess(word) :\n",
    "\n",
    "    # WRITE YOUR ANSWER HERE\n",
    "    \n"
   ]
  },
  {
   "cell_type": "code",
   "execution_count": null,
   "id": "15d1293c-b550-4646-a4dd-a2cbd3cefa93",
   "metadata": {},
   "outputs": [],
   "source": [
    "cheat()"
   ]
  },
  {
   "cell_type": "code",
   "execution_count": null,
   "id": "c6acabdf-5f5c-44e8-b5d3-9ade9741c993",
   "metadata": {
    "scrolled": true,
    "tags": []
   },
   "outputs": [],
   "source": [
    "# Test that it works as expected:\n",
    "guess('trail')"
   ]
  },
  {
   "cell_type": "markdown",
   "id": "58601cbb-d319-4e47-af32-ba0fe6255036",
   "metadata": {},
   "source": [
    "The output should look something like this:\n",
    "\n",
    "<div style='background-color:#6aaa64;width: 20px; height: 20px; color:white; margin: 1px; line-height: 20px; display:inline-block; text-align:center'>T</div>\n",
    "<div style='background-color:#787c7e;width: 20px; height: 20px; color:white; margin: 1px; line-height: 20px; display:inline-block; text-align:center'>R</div>\n",
    "<div style='background-color:#c9b458;width: 20px; height: 20px; color:white; margin: 1px; line-height: 20px; display:inline-block; text-align:center'>A</div>\n",
    "<div style='background-color:#c9b458;width: 20px; height: 20px; color:white; margin: 1px; line-height: 20px; display:inline-block; text-align:center'>I</div>\n",
    "<div style='background-color:#787c7e;width: 20px; height: 20px; color:white; margin: 1px; line-height: 20px; display:inline-block; text-align:center'>L</div>\n",
    "\n",
    "Your answer will of course depend on the secret word currently selected"
   ]
  },
  {
   "cell_type": "code",
   "execution_count": null,
   "id": "09f1de69-fd08-4b37-ab1f-05d68480d438",
   "metadata": {},
   "outputs": [],
   "source": [
    "# Try playing the game by making a sequence of calls to the guess function until you guess all letters correctly."
   ]
  }
 ],
 "metadata": {
  "kernelspec": {
   "display_name": "Python 3 (ipykernel)",
   "language": "python",
   "name": "python3"
  },
  "language_info": {
   "codemirror_mode": {
    "name": "ipython",
    "version": 3
   },
   "file_extension": ".py",
   "mimetype": "text/x-python",
   "name": "python",
   "nbconvert_exporter": "python",
   "pygments_lexer": "ipython3",
   "version": "3.9.13"
  }
 },
 "nbformat": 4,
 "nbformat_minor": 5
}
